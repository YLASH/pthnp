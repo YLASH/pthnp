{
 "cells": [
  {
   "cell_type": "code",
   "execution_count": 1,
   "metadata": {},
   "outputs": [],
   "source": [
    "import numpy as np\n",
    "import pandas as pd"
   ]
  },
  {
   "cell_type": "code",
   "execution_count": 52,
   "metadata": {},
   "outputs": [
    {
     "name": "stdout",
     "output_type": "stream",
     "text": [
      "I want a Lager Matcha Fresh Milk Tea with Crystal Jelly Less Ice and 25% sugar\n"
     ]
    }
   ],
   "source": [
    "Tea_Data = pd.Series({\n",
    "    'Size':['Lager','Medium'],\n",
    "    'Tea': ['Ceylon Black tea','Jasmin Green tea','Peach Oolong tea','Earl Grey Tea','Roasted Oolong Tea',\n",
    "            'Roasted Hojicha Tea','Oolong Green Tea','A Li Shan Iced Tea','Green Jade Sencha','Japanese Genmaicha',\n",
    "            'Four Season Oolong Tea','Peppermint Green Tea','Ceylon Milk Tea','Special Pearl Milk Tea',\n",
    "            'Grass Jelly Milk Tea','Pudding Milk Tea','Red Bean Milk Tea','Signature Milk Tea','Jasmine Green Milk Tea',\n",
    "            'Earl Grey Milk Tea','Lychee Milk Tea','Genmaicha Milk Tea','Hokkadio Milk Tea','Charcoal Roasted Milk Tea',\n",
    "            'Hojicha Milk Tea','Okinawa Brown Sugar Milk Tea','Uji Matcha Milk Tea','Peppermint Choclate Milk Tea',\n",
    "            'Passion Fruit QQ Black Tea','Passion Fruit QQ Green Tea','Passion Fruit QQ Oolong Tea','Passion Fruit Black Tea',\n",
    "            'Passion Fruit Green Tea','Lemon Black Tea','Lemon Green','Passion Fruit Lemon Black Tea','Passion Fruit Lemon Green Tea',\n",
    "            'Lychee Black Tea','Summer Fruit Tea','Crystal Wintermelon','Wintermelon Lemon','Blueberry Fruit Tea',\n",
    "            'Signature Fruit Tea','Peppermint Green Tea with Lemon','Milky Sensation','Stawberry Fruit Tea','Kumkwat Lemon Green Tea'\n",
    "            'Brown Sugar Latte with Grass Jelly','Brown Sugar Latte with Pearl','Matcha Fresh Milk Tea'],\n",
    "    'Topping':['NaN','Black Pearl','Grass Jelly','Egg Pudding','Red Bean','Pineapple Jelly','Lychee Jelly','Peach Jelly','Crystal Jelly','Sakura Jelly','Perilla','Aloe vera'],\n",
    "    'Ice':['Full Ice','Less Ice','No Ice','Warm','Hot'],\n",
    "    'Sweetness':['100%','75%','50%','25%','0%']\n",
    "})\n",
    "\n",
    "print(f'I want a {Tea_Data.Size[0]} {Tea_Data.Tea[48]} with {Tea_Data.Topping[8]} {Tea_Data.Ice[1]} and {Tea_Data.Sweetness[3]} sugar')"
   ]
  },
  {
   "cell_type": "code",
   "execution_count": 73,
   "metadata": {},
   "outputs": [
    {
     "name": "stdout",
     "output_type": "stream",
     "text": [
      "I want a Medium Crystal Wintermelon with Red Bean, Warm and 50% sugar\n"
     ]
    }
   ],
   "source": [
    "x = np.random.randint(0,2)\n",
    "teasize = Tea_Data.Size[x]\n",
    "y = np.random.randint(0,49)\n",
    "tea = Tea_Data.Tea[y]\n",
    "z = np.random.randint(0,12)\n",
    "topping = Tea_Data.Topping[z]\n",
    "i = np.random.randint(0,4)\n",
    "teaice = Tea_Data.Ice[i]\n",
    "s = np.random.randint(0,4)\n",
    "teasweet = Tea_Data.Sweetness[s]\n",
    "print(f'I want a {teasize} {tea} with {topping}, {teaice} and {teasweet} sugar')"
   ]
  },
  {
   "cell_type": "code",
   "execution_count": 71,
   "metadata": {},
   "outputs": [],
   "source": [
    "#Medium Red Bean Milk Tea with Peach Jelly, No Ice and 25% sugar\n",
    "#Lager Lemon Black Tea with Red Bean, Full Ice and 25%"
   ]
  },
  {
   "cell_type": "code",
   "execution_count": null,
   "metadata": {},
   "outputs": [],
   "source": []
  }
 ],
 "metadata": {
  "kernelspec": {
   "display_name": "Python 3",
   "language": "python",
   "name": "python3"
  },
  "language_info": {
   "codemirror_mode": {
    "name": "ipython",
    "version": 3
   },
   "file_extension": ".py",
   "mimetype": "text/x-python",
   "name": "python",
   "nbconvert_exporter": "python",
   "pygments_lexer": "ipython3",
   "version": "3.8.5"
  }
 },
 "nbformat": 4,
 "nbformat_minor": 4
}
