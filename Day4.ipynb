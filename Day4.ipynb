{
 "cells": [
  {
   "cell_type": "code",
   "execution_count": 2,
   "metadata": {},
   "outputs": [],
   "source": [
    "import numpy as np"
   ]
  },
  {
   "cell_type": "code",
   "execution_count": 5,
   "metadata": {},
   "outputs": [],
   "source": [
    "a=np.array([20,30,40,60])\n",
    "b=np.arange(4)"
   ]
  },
  {
   "cell_type": "code",
   "execution_count": 6,
   "metadata": {},
   "outputs": [
    {
     "name": "stdout",
     "output_type": "stream",
     "text": [
      "[20 31 42 63]\n",
      "[  0  30  80 180]\n"
     ]
    }
   ],
   "source": [
    "print(a + b)\n",
    "print(a * b)"
   ]
  },
  {
   "cell_type": "code",
   "execution_count": 8,
   "metadata": {},
   "outputs": [
    {
     "name": "stdout",
     "output_type": "stream",
     "text": [
      "[17 27 37 57]\n",
      "[2. 3. 4. 6.]\n"
     ]
    }
   ],
   "source": [
    "print(a -3)\n",
    "print(a /10)"
   ]
  },
  {
   "cell_type": "code",
   "execution_count": 9,
   "metadata": {},
   "outputs": [
    {
     "name": "stdout",
     "output_type": "stream",
     "text": [
      "[[ 2  4]\n",
      " [ 4  6]\n",
      " [ 8 10]]\n"
     ]
    }
   ],
   "source": [
    "data = np.array([[1, 2], [3, 4], [7, 8]])\n",
    "ones_row = np.array([[1,2]])\n",
    "print(data + ones_row)"
   ]
  },
  {
   "cell_type": "code",
   "execution_count": 11,
   "metadata": {},
   "outputs": [
    {
     "name": "stdout",
     "output_type": "stream",
     "text": [
      "[12, 22, 32, 42]\n"
     ]
    }
   ],
   "source": [
    "c= [10, 20, 30, 40]\n",
    "d= []\n",
    "for i in c :\n",
    "   d.append(i+2)\n",
    "print(d)    "
   ]
  },
  {
   "cell_type": "code",
   "execution_count": 13,
   "metadata": {},
   "outputs": [
    {
     "name": "stdout",
     "output_type": "stream",
     "text": [
      "Q&A\n"
     ]
    }
   ],
   "source": [
    "print(\"Q&A\")"
   ]
  },
  {
   "cell_type": "code",
   "execution_count": 25,
   "metadata": {},
   "outputs": [
    {
     "name": "stdout",
     "output_type": "stream",
     "text": [
      "1. \n",
      "[ 40  60  80 100]\n",
      "[21 32 43 54] [19 28 37 46] [ 20  60 120 200] [20.         15.         13.33333333 12.5       ]\n",
      "[21 31 41 51] [19 29 39 49] [20 30 40 50] [20. 30. 40. 50.]\n",
      "[21 31 41 51] [19 29 39 49] [20 30 40 50] [20. 30. 40. 50.]\n",
      "a+ e that don't work ,different shape(4.)and(2.)\n"
     ]
    }
   ],
   "source": [
    "a= np.array([20, 30, 40,50 ])\n",
    "b= np.array([1, 2, 3, 4])\n",
    "c=1\n",
    "d=np.array([1])\n",
    "e=np.array([1,2])\n",
    "\n",
    "print(\"1. \")\n",
    "print(a+ a) \n",
    "print((a+ b),(a-b) ,(a* b), (a/ b) )\n",
    "print((a+ c), (a-c), (a* c), (a/ c))\n",
    "print((a+ d), (a- d), (a* d), (a/ d))\n",
    "print(\"a+ e that don't work ,different shape\" '(4.)'\"and\" '(2.)') "
   ]
  },
  {
   "cell_type": "code",
   "execution_count": 3,
   "metadata": {},
   "outputs": [
    {
     "name": "stdout",
     "output_type": "stream",
     "text": [
      "2. \n",
      "[-1.5 -1.5 -1.5]\n",
      "with loop: \n",
      " [-1.5, -1.5, -1.5]\n"
     ]
    }
   ],
   "source": [
    "A=np.ones(3)*1\n",
    "B=np.ones(3)*2\n",
    "\n",
    "print(\"2. \")\n",
    "print((A+B)*(-A/2))\n",
    "\n",
    "#with loop\n",
    "C = []\n",
    "for i in A:\n",
    "    C.append((i+2)*(-i/ 2))\n",
    "print('with loop: \\n',C)    \n"
   ]
  },
  {
   "cell_type": "code",
   "execution_count": 29,
   "metadata": {},
   "outputs": [
    {
     "name": "stdout",
     "output_type": "stream",
     "text": [
      "3. \n",
      "[[1. 1. 1. 1. 1. 1.]\n",
      " [1. 1. 1. 1. 1. 1.]\n",
      " [1. 1. 1. 1. 1. 1.]\n",
      " [1. 1. 1. 1. 1. 1.]\n",
      " [1. 1. 1. 1. 1. 1.]\n",
      " [1. 1. 1. 1. 1. 1.]]\n",
      "[[6.]]\n"
     ]
    }
   ],
   "source": [
    "A=np.ones((1,6))\n",
    "B=np.ones((6,1))\n",
    "\n",
    "print(\"3. \")\n",
    "print(A*B)\n",
    "print(A@B)"
   ]
  },
  {
   "cell_type": "code",
   "execution_count": null,
   "metadata": {},
   "outputs": [],
   "source": []
  }
 ],
 "metadata": {
  "kernelspec": {
   "display_name": "Python 3",
   "language": "python",
   "name": "python3"
  },
  "language_info": {
   "codemirror_mode": {
    "name": "ipython",
    "version": 3
   },
   "file_extension": ".py",
   "mimetype": "text/x-python",
   "name": "python",
   "nbconvert_exporter": "python",
   "pygments_lexer": "ipython3",
   "version": "3.8.5"
  }
 },
 "nbformat": 4,
 "nbformat_minor": 4
}
