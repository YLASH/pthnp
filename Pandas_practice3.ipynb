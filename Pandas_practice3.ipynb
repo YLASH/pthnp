{
 "cells": [
  {
   "cell_type": "code",
   "execution_count": 94,
   "metadata": {},
   "outputs": [
    {
     "name": "stdout",
     "output_type": "stream",
     "text": [
      "<module 'numpy' from 'C:\\\\Users\\\\USER\\\\anaconda3\\\\lib\\\\site-packages\\\\numpy\\\\__init__.py'>\n",
      "1.19.2\n",
      "<module 'pandas' from 'C:\\\\Users\\\\USER\\\\anaconda3\\\\lib\\\\site-packages\\\\pandas\\\\__init__.py'>\n",
      "1.1.3\n"
     ]
    }
   ],
   "source": [
    "import numpy as np\n",
    "import pandas as pd\n",
    "\n",
    "print(np)\n",
    "print(np.__version__)\n",
    "print(pd)\n",
    "print(pd.__version__)"
   ]
  },
  {
   "cell_type": "code",
   "execution_count": 7,
   "metadata": {},
   "outputs": [
    {
     "data": {
      "text/html": [
       "<div>\n",
       "<style scoped>\n",
       "    .dataframe tbody tr th:only-of-type {\n",
       "        vertical-align: middle;\n",
       "    }\n",
       "\n",
       "    .dataframe tbody tr th {\n",
       "        vertical-align: top;\n",
       "    }\n",
       "\n",
       "    .dataframe thead tr th {\n",
       "        text-align: left;\n",
       "    }\n",
       "</style>\n",
       "<table border=\"1\" class=\"dataframe\">\n",
       "  <thead>\n",
       "    <tr>\n",
       "      <th></th>\n",
       "      <th colspan=\"2\" halign=\"left\">weight</th>\n",
       "    </tr>\n",
       "    <tr>\n",
       "      <th></th>\n",
       "      <th>kg</th>\n",
       "      <th>pounds</th>\n",
       "    </tr>\n",
       "  </thead>\n",
       "  <tbody>\n",
       "    <tr>\n",
       "      <th>cat</th>\n",
       "      <td>1</td>\n",
       "      <td>2</td>\n",
       "    </tr>\n",
       "    <tr>\n",
       "      <th>dog</th>\n",
       "      <td>2</td>\n",
       "      <td>4</td>\n",
       "    </tr>\n",
       "  </tbody>\n",
       "</table>\n",
       "</div>"
      ],
      "text/plain": [
       "    weight       \n",
       "        kg pounds\n",
       "cat      1      2\n",
       "dog      2      4"
      ]
     },
     "execution_count": 7,
     "metadata": {},
     "output_type": "execute_result"
    }
   ],
   "source": [
    "#stack , unstack\n",
    "#set the index name for Dataframe\n",
    "multicol1 = pd.MultiIndex.from_tuples([(\"weight\", \"kg\"),\n",
    "                                       (\"weight\", \"pounds\")])\n",
    "#create EX. dataframe\n",
    "df_multi_level_cols1 = pd.DataFrame([[1,2],[2,4]],\n",
    "                                    index= ['cat', 'dog'],\n",
    "                                   columns=multicol1)\n",
    "df_multi_level_cols1"
   ]
  },
  {
   "cell_type": "code",
   "execution_count": 15,
   "metadata": {},
   "outputs": [
    {
     "name": "stdout",
     "output_type": "stream",
     "text": [
      "            weight\n",
      "cat kg           1\n",
      "    pounds       2\n",
      "dog kg           2\n",
      "    pounds       4\n"
     ]
    },
    {
     "data": {
      "text/plain": [
       "(Index(['cat', 'dog'], dtype='object'),\n",
       " '\\n',\n",
       " MultiIndex([('cat',     'kg'),\n",
       "             ('cat', 'pounds'),\n",
       "             ('dog',     'kg'),\n",
       "             ('dog', 'pounds')],\n",
       "            ))"
      ]
     },
     "execution_count": 15,
     "metadata": {},
     "output_type": "execute_result"
    }
   ],
   "source": [
    "#.stack(level=- 1, dropna=True) :\n",
    "#//Stack the prescribed level(s) from columns to index\n",
    "'''\n",
    "參數 : \n",
    "level : 放整數、字串、串列 (默認為 -1(最後一欄))，決定哪一欄位轉為索引。\n",
    "dropna : 放布林值 (默認為 True)，決定是否要把全為遺失值的列拿掉。\n",
    "\n",
    "欄位轉索引：將一欄位(column)轉成一索引(index)，使用 df.stack() 即可。\n",
    "\n",
    "!!注意 .stack() 會由最外層的欄位開始轉換。The new inner-most levels are created by pivoting the columns of the current dataframe.\n",
    "'''\n",
    "print(df_multi_level_cols1.stack())\n",
    "df_multi_level_cols1.index,'\\n', df_multi_level_cols1.stack().index"
   ]
  },
  {
   "cell_type": "code",
   "execution_count": 28,
   "metadata": {},
   "outputs": [
    {
     "name": "stdout",
     "output_type": "stream",
     "text": [
      "    weight       \n",
      "        kg pounds\n",
      "cat      1      2\n",
      "dog      2      4 \n",
      "\n",
      "weight  kg      cat    1\n",
      "                dog    2\n",
      "        pounds  cat    2\n",
      "                dog    4\n",
      "dtype: int64 \n",
      "\n",
      "               cat  dog\n",
      "weight kg        1    2\n",
      "       pounds    2    4\n"
     ]
    },
    {
     "data": {
      "text/html": [
       "<div>\n",
       "<style scoped>\n",
       "    .dataframe tbody tr th:only-of-type {\n",
       "        vertical-align: middle;\n",
       "    }\n",
       "\n",
       "    .dataframe tbody tr th {\n",
       "        vertical-align: top;\n",
       "    }\n",
       "\n",
       "    .dataframe thead tr th {\n",
       "        text-align: left;\n",
       "    }\n",
       "</style>\n",
       "<table border=\"1\" class=\"dataframe\">\n",
       "  <thead>\n",
       "    <tr>\n",
       "      <th></th>\n",
       "      <th colspan=\"2\" halign=\"left\">cat</th>\n",
       "      <th colspan=\"2\" halign=\"left\">dog</th>\n",
       "    </tr>\n",
       "    <tr>\n",
       "      <th></th>\n",
       "      <th>kg</th>\n",
       "      <th>pounds</th>\n",
       "      <th>kg</th>\n",
       "      <th>pounds</th>\n",
       "    </tr>\n",
       "  </thead>\n",
       "  <tbody>\n",
       "    <tr>\n",
       "      <th>weight</th>\n",
       "      <td>1</td>\n",
       "      <td>2</td>\n",
       "      <td>2</td>\n",
       "      <td>4</td>\n",
       "    </tr>\n",
       "  </tbody>\n",
       "</table>\n",
       "</div>"
      ],
      "text/plain": [
       "       cat        dog       \n",
       "        kg pounds  kg pounds\n",
       "weight   1      2   2      4"
      ]
     },
     "execution_count": 28,
     "metadata": {},
     "output_type": "execute_result"
    }
   ],
   "source": [
    "print(df_multi_level_cols1.stack().unstack(), \"\\n\")\n",
    "print(df_multi_level_cols1.stack().unstack().unstack(),\"\\n\")  #type :Series\n",
    "print(df_multi_level_cols1.stack().unstack().unstack().unstack())\n",
    "df_multi_level_cols1.stack().unstack().unstack().unstack().unstack()\n",
    "\n",
    "#df_multi_level_cols1.stack().stack()  => type:Series\n",
    "#df_multi_level_cols1.stack().stack().stack() => Error\n",
    "'''\n",
    "df.stack() : 當欄位沒東西時，會報錯。\n",
    "df.unstack() : 當索引都被移到欄位時，會把所有欄位變為索引。\n",
    "'''"
   ]
  },
  {
   "cell_type": "code",
   "execution_count": 36,
   "metadata": {},
   "outputs": [
    {
     "name": "stdout",
     "output_type": "stream",
     "text": [
      "     Name  course  Age\n",
      "0    Jiao  python   22\n",
      "1    John      ML   15\n",
      "2  Shiela      DM   50 \n",
      "\n",
      "  variable   value\n",
      "0     Name    Jiao\n",
      "1     Name    John\n",
      "2     Name  Shiela\n",
      "3   course  python\n",
      "4   course      ML\n",
      "5   course      DM\n",
      "6      Age      22\n",
      "7      Age      15\n",
      "8      Age      50 \n",
      "\n",
      "     Name variable   value\n",
      "0    Jiao   course  python\n",
      "1    John   course      ML\n",
      "2  Shiela   course      DM\n",
      "3    Jiao      Age      22\n",
      "4    John      Age      15\n",
      "5  Shiela      Age      50\n"
     ]
    },
    {
     "data": {
      "text/html": [
       "<div>\n",
       "<style scoped>\n",
       "    .dataframe tbody tr th:only-of-type {\n",
       "        vertical-align: middle;\n",
       "    }\n",
       "\n",
       "    .dataframe tbody tr th {\n",
       "        vertical-align: top;\n",
       "    }\n",
       "\n",
       "    .dataframe thead th {\n",
       "        text-align: right;\n",
       "    }\n",
       "</style>\n",
       "<table border=\"1\" class=\"dataframe\">\n",
       "  <thead>\n",
       "    <tr style=\"text-align: right;\">\n",
       "      <th></th>\n",
       "      <th>variable</th>\n",
       "      <th>value</th>\n",
       "    </tr>\n",
       "  </thead>\n",
       "  <tbody>\n",
       "    <tr>\n",
       "      <th>0</th>\n",
       "      <td>Age</td>\n",
       "      <td>22</td>\n",
       "    </tr>\n",
       "    <tr>\n",
       "      <th>1</th>\n",
       "      <td>Age</td>\n",
       "      <td>15</td>\n",
       "    </tr>\n",
       "    <tr>\n",
       "      <th>2</th>\n",
       "      <td>Age</td>\n",
       "      <td>50</td>\n",
       "    </tr>\n",
       "  </tbody>\n",
       "</table>\n",
       "</div>"
      ],
      "text/plain": [
       "  variable  value\n",
       "0      Age     22\n",
       "1      Age     15\n",
       "2      Age     50"
      ]
     },
     "execution_count": 36,
     "metadata": {},
     "output_type": "execute_result"
    }
   ],
   "source": [
    "#欄位名稱轉為欄位值\n",
    "#.melt(id_vars=None, value_vars=None ...)\n",
    "#//Unpivot a DataFrame from wide to long format, optionally leaving identifiers set.\n",
    "'''\n",
    "id_vars：不需要被轉換的列名\n",
    "value_vars：需要轉換的列名，如果剩下的列全部都要轉換，就不用寫了。\n",
    "'''\n",
    "\n",
    "import pandas as pd \n",
    "\n",
    "df = pd.DataFrame({'Name':{0:'Jiao', 1:'John', 2:'Shiela'}, \n",
    "                   'course':{0:'python', 1:'ML', 2:'DM'}, \n",
    "                   'Age':{0:22, 1:15, 2:50}})\n",
    "print(df, \"\\n\")\n",
    "print(df.melt(),\"\\n\")\n",
    "print(df.melt(\"Name\"))\n",
    "df.melt(value_vars='Age')"
   ]
  },
  {
   "cell_type": "code",
   "execution_count": 37,
   "metadata": {},
   "outputs": [
    {
     "data": {
      "text/html": [
       "<div>\n",
       "<style scoped>\n",
       "    .dataframe tbody tr th:only-of-type {\n",
       "        vertical-align: middle;\n",
       "    }\n",
       "\n",
       "    .dataframe tbody tr th {\n",
       "        vertical-align: top;\n",
       "    }\n",
       "\n",
       "    .dataframe thead th {\n",
       "        text-align: right;\n",
       "    }\n",
       "</style>\n",
       "<table border=\"1\" class=\"dataframe\">\n",
       "  <thead>\n",
       "    <tr style=\"text-align: right;\">\n",
       "      <th></th>\n",
       "      <th>fff</th>\n",
       "      <th>bbb</th>\n",
       "      <th>baa</th>\n",
       "      <th>zzz</th>\n",
       "    </tr>\n",
       "  </thead>\n",
       "  <tbody>\n",
       "    <tr>\n",
       "      <th>0</th>\n",
       "      <td>one</td>\n",
       "      <td>P</td>\n",
       "      <td>2</td>\n",
       "      <td>h</td>\n",
       "    </tr>\n",
       "    <tr>\n",
       "      <th>1</th>\n",
       "      <td>one</td>\n",
       "      <td>Q</td>\n",
       "      <td>3</td>\n",
       "      <td>i</td>\n",
       "    </tr>\n",
       "    <tr>\n",
       "      <th>2</th>\n",
       "      <td>one</td>\n",
       "      <td>R</td>\n",
       "      <td>4</td>\n",
       "      <td>j</td>\n",
       "    </tr>\n",
       "    <tr>\n",
       "      <th>3</th>\n",
       "      <td>two</td>\n",
       "      <td>P</td>\n",
       "      <td>5</td>\n",
       "      <td>k</td>\n",
       "    </tr>\n",
       "    <tr>\n",
       "      <th>4</th>\n",
       "      <td>two</td>\n",
       "      <td>Q</td>\n",
       "      <td>6</td>\n",
       "      <td>l</td>\n",
       "    </tr>\n",
       "    <tr>\n",
       "      <th>5</th>\n",
       "      <td>two</td>\n",
       "      <td>R</td>\n",
       "      <td>7</td>\n",
       "      <td>m</td>\n",
       "    </tr>\n",
       "  </tbody>\n",
       "</table>\n",
       "</div>"
      ],
      "text/plain": [
       "   fff bbb  baa zzz\n",
       "0  one   P    2   h\n",
       "1  one   Q    3   i\n",
       "2  one   R    4   j\n",
       "3  two   P    5   k\n",
       "4  two   Q    6   l\n",
       "5  two   R    7   m"
      ]
     },
     "execution_count": 37,
     "metadata": {},
     "output_type": "execute_result"
    }
   ],
   "source": [
    "'''\n",
    ".DataFrame.pivot : Return reshaped DataFrame organized by given index / column values.\n",
    ".pivot_table : Create a spreadsheet-style pivot table as a DataFrame. **\n",
    "'''\n",
    "#重新組織資料\n",
    "df = pd.DataFrame({'fff': ['one', 'one', 'one', 'two', 'two',\n",
    "                           'two'],\n",
    "                   'bbb': ['P', 'Q', 'R', 'P', 'Q', 'R'],\n",
    "                   'baa': [2, 3, 4, 5, 6, 7],\n",
    "                   'zzz': ['h', 'i', 'j', 'k', 'l', 'm']})\n",
    "\n",
    "df"
   ]
  },
  {
   "cell_type": "code",
   "execution_count": 44,
   "metadata": {},
   "outputs": [
    {
     "name": "stdout",
     "output_type": "stream",
     "text": [
      "    baa       zzz      \n",
      "bbb   P  Q  R   P  Q  R\n",
      "fff                    \n",
      "one   2  3  4   h  i  j\n",
      "two   5  6  7   k  l  m \n",
      "\n",
      "bbb  P  Q  R\n",
      "fff         \n",
      "one  2  3  4\n",
      "two  5  6  7\n",
      "bbb  P  Q  R\n",
      "fff         \n",
      "one  2  3  4\n",
      "two  5  6  7\n"
     ]
    },
    {
     "data": {
      "text/html": [
       "<div>\n",
       "<style scoped>\n",
       "    .dataframe tbody tr th:only-of-type {\n",
       "        vertical-align: middle;\n",
       "    }\n",
       "\n",
       "    .dataframe tbody tr th {\n",
       "        vertical-align: top;\n",
       "    }\n",
       "\n",
       "    .dataframe thead tr th {\n",
       "        text-align: left;\n",
       "    }\n",
       "\n",
       "    .dataframe thead tr:last-of-type th {\n",
       "        text-align: right;\n",
       "    }\n",
       "</style>\n",
       "<table border=\"1\" class=\"dataframe\">\n",
       "  <thead>\n",
       "    <tr>\n",
       "      <th></th>\n",
       "      <th colspan=\"3\" halign=\"left\">baa</th>\n",
       "      <th colspan=\"3\" halign=\"left\">zzz</th>\n",
       "    </tr>\n",
       "    <tr>\n",
       "      <th>bbb</th>\n",
       "      <th>P</th>\n",
       "      <th>Q</th>\n",
       "      <th>R</th>\n",
       "      <th>P</th>\n",
       "      <th>Q</th>\n",
       "      <th>R</th>\n",
       "    </tr>\n",
       "    <tr>\n",
       "      <th>fff</th>\n",
       "      <th></th>\n",
       "      <th></th>\n",
       "      <th></th>\n",
       "      <th></th>\n",
       "      <th></th>\n",
       "      <th></th>\n",
       "    </tr>\n",
       "  </thead>\n",
       "  <tbody>\n",
       "    <tr>\n",
       "      <th>one</th>\n",
       "      <td>2</td>\n",
       "      <td>3</td>\n",
       "      <td>4</td>\n",
       "      <td>h</td>\n",
       "      <td>i</td>\n",
       "      <td>j</td>\n",
       "    </tr>\n",
       "    <tr>\n",
       "      <th>two</th>\n",
       "      <td>5</td>\n",
       "      <td>6</td>\n",
       "      <td>7</td>\n",
       "      <td>k</td>\n",
       "      <td>l</td>\n",
       "      <td>m</td>\n",
       "    </tr>\n",
       "  </tbody>\n",
       "</table>\n",
       "</div>"
      ],
      "text/plain": [
       "    baa       zzz      \n",
       "bbb   P  Q  R   P  Q  R\n",
       "fff                    \n",
       "one   2  3  4   h  i  j\n",
       "two   5  6  7   k  l  m"
      ]
     },
     "execution_count": 44,
     "metadata": {},
     "output_type": "execute_result"
    }
   ],
   "source": [
    "print(df.pivot(index='fff', columns='bbb'),\"\\n\")\n",
    "print(df.pivot(index='fff', columns='bbb')['baa'])\n",
    "print(df.pivot(index='fff', columns='bbb',values='baa'))\n",
    "df.pivot(index='fff', columns='bbb',values=['baa','zzz'])"
   ]
  },
  {
   "cell_type": "code",
   "execution_count": 58,
   "metadata": {},
   "outputs": [
    {
     "data": {
      "text/html": [
       "<div>\n",
       "<style scoped>\n",
       "    .dataframe tbody tr th:only-of-type {\n",
       "        vertical-align: middle;\n",
       "    }\n",
       "\n",
       "    .dataframe tbody tr th {\n",
       "        vertical-align: top;\n",
       "    }\n",
       "\n",
       "    .dataframe thead th {\n",
       "        text-align: right;\n",
       "    }\n",
       "</style>\n",
       "<table border=\"1\" class=\"dataframe\">\n",
       "  <thead>\n",
       "    <tr style=\"text-align: right;\">\n",
       "      <th></th>\n",
       "      <th>math_score</th>\n",
       "      <th>english_score</th>\n",
       "      <th>chinese_score</th>\n",
       "      <th>sex</th>\n",
       "    </tr>\n",
       "    <tr>\n",
       "      <th>student_id</th>\n",
       "      <th></th>\n",
       "      <th></th>\n",
       "      <th></th>\n",
       "      <th></th>\n",
       "    </tr>\n",
       "  </thead>\n",
       "  <tbody>\n",
       "    <tr>\n",
       "      <th>1</th>\n",
       "      <td>50</td>\n",
       "      <td>80</td>\n",
       "      <td>70</td>\n",
       "      <td>boy</td>\n",
       "    </tr>\n",
       "    <tr>\n",
       "      <th>2</th>\n",
       "      <td>60</td>\n",
       "      <td>45</td>\n",
       "      <td>50</td>\n",
       "      <td>boy</td>\n",
       "    </tr>\n",
       "    <tr>\n",
       "      <th>3</th>\n",
       "      <td>98</td>\n",
       "      <td>43</td>\n",
       "      <td>55</td>\n",
       "      <td>boy</td>\n",
       "    </tr>\n",
       "    <tr>\n",
       "      <th>4</th>\n",
       "      <td>70</td>\n",
       "      <td>69</td>\n",
       "      <td>89</td>\n",
       "      <td>boy</td>\n",
       "    </tr>\n",
       "    <tr>\n",
       "      <th>5</th>\n",
       "      <td>56</td>\n",
       "      <td>79</td>\n",
       "      <td>60</td>\n",
       "      <td>girl</td>\n",
       "    </tr>\n",
       "    <tr>\n",
       "      <th>6</th>\n",
       "      <td>60</td>\n",
       "      <td>68</td>\n",
       "      <td>55</td>\n",
       "      <td>girl</td>\n",
       "    </tr>\n",
       "    <tr>\n",
       "      <th>7</th>\n",
       "      <td>45</td>\n",
       "      <td>70</td>\n",
       "      <td>77</td>\n",
       "      <td>girl</td>\n",
       "    </tr>\n",
       "    <tr>\n",
       "      <th>8</th>\n",
       "      <td>55</td>\n",
       "      <td>77</td>\n",
       "      <td>76</td>\n",
       "      <td>girl</td>\n",
       "    </tr>\n",
       "    <tr>\n",
       "      <th>9</th>\n",
       "      <td>25</td>\n",
       "      <td>57</td>\n",
       "      <td>60</td>\n",
       "      <td>girl</td>\n",
       "    </tr>\n",
       "    <tr>\n",
       "      <th>10</th>\n",
       "      <td>88</td>\n",
       "      <td>40</td>\n",
       "      <td>43</td>\n",
       "      <td>girl</td>\n",
       "    </tr>\n",
       "  </tbody>\n",
       "</table>\n",
       "</div>"
      ],
      "text/plain": [
       "            math_score  english_score  chinese_score   sex\n",
       "student_id                                                \n",
       "1                   50             80             70   boy\n",
       "2                   60             45             50   boy\n",
       "3                   98             43             55   boy\n",
       "4                   70             69             89   boy\n",
       "5                   56             79             60  girl\n",
       "6                   60             68             55  girl\n",
       "7                   45             70             77  girl\n",
       "8                   55             77             76  girl\n",
       "9                   25             57             60  girl\n",
       "10                  88             40             43  girl"
      ]
     },
     "execution_count": 58,
     "metadata": {},
     "output_type": "execute_result"
    }
   ],
   "source": [
    "# Groupby-->  Split-Apply-Combine strategy\n",
    "'''\n",
    "Groupby可以同時針對多個欄位做 Group，並在Group中做運算\n",
    "Split：將大的數據集拆成可獨立計算的小數據集\n",
    "Apply：獨立計算各個小數據集\n",
    "Combine：將小數據集運算結果合併\n",
    "'''\n",
    "score_df = pd.DataFrame([[1,50,80,70,'boy'], \n",
    "              [2,60,45,50,'boy'],\n",
    "              [3,98,43,55,'boy'],\n",
    "              [4,70,69,89,'boy'],\n",
    "              [5,56,79,60,'girl'],\n",
    "              [6,60,68,55,'girl'],\n",
    "              [7,45,70,77,'girl'],\n",
    "              [8,55,77,76,'girl'],\n",
    "              [9,25,57,60,'girl'],\n",
    "              [10,88,40,43,'girl']],columns=['student_id','math_score','english_score','chinese_score','sex'])\n",
    "score_df = score_df.set_index('student_id')\n",
    "score_df"
   ]
  },
  {
   "cell_type": "code",
   "execution_count": 56,
   "metadata": {},
   "outputs": [
    {
     "name": "stdout",
     "output_type": "stream",
     "text": [
      "math_score       69.50\n",
      "english_score    59.25\n",
      "chinese_score    66.00\n",
      "dtype: float64\n",
      "math_score       54.833333\n",
      "english_score    65.166667\n",
      "chinese_score    61.833333\n",
      "dtype: float64\n"
     ]
    }
   ],
   "source": [
    "#運用索引將資料分開再取平均\n",
    "boy_score_df = score_df.loc[score_df.sex == 'boy']\n",
    "girl_score_df = score_df.loc[score_df.sex =='girl']\n",
    "print(boy_score_df.mean())\n",
    "print(girl_score_df.mean())"
   ]
  },
  {
   "cell_type": "code",
   "execution_count": 57,
   "metadata": {},
   "outputs": [
    {
     "data": {
      "text/html": [
       "<div>\n",
       "<style scoped>\n",
       "    .dataframe tbody tr th:only-of-type {\n",
       "        vertical-align: middle;\n",
       "    }\n",
       "\n",
       "    .dataframe tbody tr th {\n",
       "        vertical-align: top;\n",
       "    }\n",
       "\n",
       "    .dataframe thead th {\n",
       "        text-align: right;\n",
       "    }\n",
       "</style>\n",
       "<table border=\"1\" class=\"dataframe\">\n",
       "  <thead>\n",
       "    <tr style=\"text-align: right;\">\n",
       "      <th></th>\n",
       "      <th>math_score</th>\n",
       "      <th>english_score</th>\n",
       "      <th>chinese_score</th>\n",
       "    </tr>\n",
       "    <tr>\n",
       "      <th>sex</th>\n",
       "      <th></th>\n",
       "      <th></th>\n",
       "      <th></th>\n",
       "    </tr>\n",
       "  </thead>\n",
       "  <tbody>\n",
       "    <tr>\n",
       "      <th>boy</th>\n",
       "      <td>69.500000</td>\n",
       "      <td>59.250000</td>\n",
       "      <td>66.000000</td>\n",
       "    </tr>\n",
       "    <tr>\n",
       "      <th>girl</th>\n",
       "      <td>54.833333</td>\n",
       "      <td>65.166667</td>\n",
       "      <td>61.833333</td>\n",
       "    </tr>\n",
       "  </tbody>\n",
       "</table>\n",
       "</div>"
      ],
      "text/plain": [
       "      math_score  english_score  chinese_score\n",
       "sex                                           \n",
       "boy    69.500000      59.250000      66.000000\n",
       "girl   54.833333      65.166667      61.833333"
      ]
     },
     "execution_count": 57,
     "metadata": {},
     "output_type": "execute_result"
    }
   ],
   "source": [
    "#運用groupby方法值接取平均\n",
    "score_df.groupby('sex').mean()"
   ]
  },
  {
   "cell_type": "code",
   "execution_count": 62,
   "metadata": {},
   "outputs": [
    {
     "name": "stdout",
     "output_type": "stream",
     "text": [
      "            math_score  english_score  chinese_score   sex  class\n",
      "student_id                                                       \n",
      "1                   50             80             70   boy      1\n",
      "2                   60             45             50   boy      2\n",
      "3                   98             43             55   boy      1\n",
      "4                   70             69             89   boy      2\n",
      "5                   56             79             60  girl      1\n",
      "6                   60             68             55  girl      2\n",
      "7                   45             70             77  girl      1\n",
      "8                   55             77             76  girl      2\n",
      "9                   25             57             60  girl      1\n",
      "10                  88             40             43  girl      2\n",
      "            math_score  english_score  chinese_score\n",
      "sex  class                                          \n",
      "boy  1       74.000000      61.500000      62.500000\n",
      "     2       65.000000      57.000000      69.500000\n",
      "girl 1       42.000000      68.666667      65.666667\n",
      "     2       67.666667      61.666667      58.000000\n"
     ]
    },
    {
     "data": {
      "text/html": [
       "<div>\n",
       "<style scoped>\n",
       "    .dataframe tbody tr th:only-of-type {\n",
       "        vertical-align: middle;\n",
       "    }\n",
       "\n",
       "    .dataframe tbody tr th {\n",
       "        vertical-align: top;\n",
       "    }\n",
       "\n",
       "    .dataframe thead tr th {\n",
       "        text-align: left;\n",
       "    }\n",
       "\n",
       "    .dataframe thead tr:last-of-type th {\n",
       "        text-align: right;\n",
       "    }\n",
       "</style>\n",
       "<table border=\"1\" class=\"dataframe\">\n",
       "  <thead>\n",
       "    <tr>\n",
       "      <th></th>\n",
       "      <th></th>\n",
       "      <th colspan=\"3\" halign=\"left\">math_score</th>\n",
       "      <th colspan=\"3\" halign=\"left\">english_score</th>\n",
       "      <th colspan=\"3\" halign=\"left\">chinese_score</th>\n",
       "    </tr>\n",
       "    <tr>\n",
       "      <th></th>\n",
       "      <th></th>\n",
       "      <th>max</th>\n",
       "      <th>mean</th>\n",
       "      <th>std</th>\n",
       "      <th>max</th>\n",
       "      <th>mean</th>\n",
       "      <th>std</th>\n",
       "      <th>max</th>\n",
       "      <th>mean</th>\n",
       "      <th>std</th>\n",
       "    </tr>\n",
       "    <tr>\n",
       "      <th>sex</th>\n",
       "      <th>class</th>\n",
       "      <th></th>\n",
       "      <th></th>\n",
       "      <th></th>\n",
       "      <th></th>\n",
       "      <th></th>\n",
       "      <th></th>\n",
       "      <th></th>\n",
       "      <th></th>\n",
       "      <th></th>\n",
       "    </tr>\n",
       "  </thead>\n",
       "  <tbody>\n",
       "    <tr>\n",
       "      <th rowspan=\"2\" valign=\"top\">boy</th>\n",
       "      <th>1</th>\n",
       "      <td>98</td>\n",
       "      <td>74.000000</td>\n",
       "      <td>33.941125</td>\n",
       "      <td>80</td>\n",
       "      <td>61.500000</td>\n",
       "      <td>26.162951</td>\n",
       "      <td>70</td>\n",
       "      <td>62.500000</td>\n",
       "      <td>10.606602</td>\n",
       "    </tr>\n",
       "    <tr>\n",
       "      <th>2</th>\n",
       "      <td>70</td>\n",
       "      <td>65.000000</td>\n",
       "      <td>7.071068</td>\n",
       "      <td>69</td>\n",
       "      <td>57.000000</td>\n",
       "      <td>16.970563</td>\n",
       "      <td>89</td>\n",
       "      <td>69.500000</td>\n",
       "      <td>27.577164</td>\n",
       "    </tr>\n",
       "    <tr>\n",
       "      <th rowspan=\"2\" valign=\"top\">girl</th>\n",
       "      <th>1</th>\n",
       "      <td>56</td>\n",
       "      <td>42.000000</td>\n",
       "      <td>15.716234</td>\n",
       "      <td>79</td>\n",
       "      <td>68.666667</td>\n",
       "      <td>11.060440</td>\n",
       "      <td>77</td>\n",
       "      <td>65.666667</td>\n",
       "      <td>9.814955</td>\n",
       "    </tr>\n",
       "    <tr>\n",
       "      <th>2</th>\n",
       "      <td>88</td>\n",
       "      <td>67.666667</td>\n",
       "      <td>17.785762</td>\n",
       "      <td>77</td>\n",
       "      <td>61.666667</td>\n",
       "      <td>19.295941</td>\n",
       "      <td>76</td>\n",
       "      <td>58.000000</td>\n",
       "      <td>16.703293</td>\n",
       "    </tr>\n",
       "  </tbody>\n",
       "</table>\n",
       "</div>"
      ],
      "text/plain": [
       "           math_score                       english_score             \\\n",
       "                  max       mean        std           max       mean   \n",
       "sex  class                                                             \n",
       "boy  1             98  74.000000  33.941125            80  61.500000   \n",
       "     2             70  65.000000   7.071068            69  57.000000   \n",
       "girl 1             56  42.000000  15.716234            79  68.666667   \n",
       "     2             88  67.666667  17.785762            77  61.666667   \n",
       "\n",
       "                      chinese_score                        \n",
       "                  std           max       mean        std  \n",
       "sex  class                                                 \n",
       "boy  1      26.162951            70  62.500000  10.606602  \n",
       "     2      16.970563            89  69.500000  27.577164  \n",
       "girl 1      11.060440            77  65.666667   9.814955  \n",
       "     2      19.295941            76  58.000000  16.703293  "
      ]
     },
     "execution_count": 62,
     "metadata": {},
     "output_type": "execute_result"
    }
   ],
   "source": [
    "#新增欄位class\n",
    "score_df['class'] = [1,2,1,2,1,2,1,2,1,2]\n",
    "print(score_df)\n",
    "#Groupby也可以針對多個欄位做分析\n",
    "print(score_df.groupby(['sex','class']).mean())\n",
    "#Groupby也可以同時針對多個欄位做多個分析\n",
    "score_df.groupby(['sex','class']).agg(['max','mean','std'])"
   ]
  },
  {
   "cell_type": "code",
   "execution_count": 63,
   "metadata": {},
   "outputs": [
    {
     "data": {
      "text/plain": [
       "2021    1\n",
       "2022    2\n",
       "2023    3\n",
       "2024    4\n",
       "2025    5\n",
       "Freq: A-DEC, dtype: int64"
      ]
     },
     "execution_count": 63,
     "metadata": {},
     "output_type": "execute_result"
    }
   ],
   "source": [
    "# Time sequence\n",
    "df = pd.Series([1,2,3,4,5], index=pd.period_range(\"2021-01-01\", freq=\"Y\",periods=5))\n",
    "df"
   ]
  },
  {
   "cell_type": "code",
   "execution_count": 68,
   "metadata": {},
   "outputs": [
    {
     "name": "stdout",
     "output_type": "stream",
     "text": [
      "2022    2\n",
      "2023    3\n",
      "2024    4\n",
      "Freq: A-DEC, dtype: int64\n"
     ]
    },
    {
     "data": {
      "text/plain": [
       "2021Q1    1.0\n",
       "2021Q2    NaN\n",
       "2021Q3    NaN\n",
       "2021Q4    NaN\n",
       "2022Q1    2.0\n",
       "2022Q2    NaN\n",
       "2022Q3    NaN\n",
       "2022Q4    NaN\n",
       "2023Q1    3.0\n",
       "2023Q2    NaN\n",
       "2023Q3    NaN\n",
       "2023Q4    NaN\n",
       "2024Q1    4.0\n",
       "2024Q2    NaN\n",
       "2024Q3    NaN\n",
       "2024Q4    NaN\n",
       "2025Q1    5.0\n",
       "2025Q2    NaN\n",
       "2025Q3    NaN\n",
       "2025Q4    NaN\n",
       "Freq: Q-DEC, dtype: float64"
      ]
     },
     "execution_count": 68,
     "metadata": {},
     "output_type": "execute_result"
    }
   ],
   "source": [
    "# 可以抓一段時間 (2022~2024)\n",
    "print(df['2022':'2024'])\n",
    "\n",
    "#Year -->Quarter\n",
    "#Resampler.asfreq :Return the values at the new freq, essentially a reindex.\n",
    "#Serise/DF.asfreq :Convert TimeSeries to specified frequency.\n",
    "df.resample(\"Q\",convention=\"s\").asfreq()"
   ]
  },
  {
   "cell_type": "code",
   "execution_count": 81,
   "metadata": {},
   "outputs": [
    {
     "name": "stdout",
     "output_type": "stream",
     "text": [
      "String: 2021-01-01 <class 'str'>\n",
      "Timestamp: 2022-06-01 00:00:00 <class 'pandas._libs.tslibs.timestamps.Timestamp'>\n",
      "\n",
      "\n",
      "str_to_date: 2021-01-01 00:00:00 <class 'pandas._libs.tslibs.timestamps.Timestamp'>\n",
      "date_to_str: 2022_06_01 <class 'str'>\n"
     ]
    }
   ],
   "source": [
    "str_date = '2021-01-01'\n",
    "date = pd.Timestamp(2022,6,1)\n",
    "print(\"String:\",str_date , type(str_date))\n",
    "print(\"Timestamp:\",date, type(date))\n",
    "print(\"\\n\")\n",
    "# 字串轉時間型態\n",
    "str_to_date = pd.to_datetime(str_date)\n",
    "# 時間轉字串型態\n",
    "date_to_str = date.strftime(\"%Y_%m_%d\")\n",
    "print(\"str_to_date:\",str_to_date , type(str_to_date))\n",
    "print(\"date_to_str:\",date_to_str, type(date_to_str))"
   ]
  },
  {
   "cell_type": "code",
   "execution_count": 88,
   "metadata": {},
   "outputs": [
    {
     "name": "stdout",
     "output_type": "stream",
     "text": [
      "2022-06-01 00:00:00\n",
      "1 6 2022\n",
      "Day_name: Wednesday\n",
      "weekofyear: 22\n",
      "90 days 00:00:00\n"
     ]
    },
    {
     "data": {
      "text/plain": [
       "True"
      ]
     },
     "execution_count": 88,
     "metadata": {},
     "output_type": "execute_result"
    }
   ],
   "source": [
    "print(date)\n",
    "#分別把年,月,日抓出來\n",
    "print(date.day, date.month, date.year)\n",
    "# 看看該日為星期幾，是該年 (可設定從哪時候開始算) 的第幾個星期\n",
    "print('Day_name:',date.day_name())\n",
    "print('weekofyear:',date.weekofyear)\n",
    "\n",
    "date2 = pd.Timestamp(2022,8,30)\n",
    "# 相隔幾日\n",
    "print(date2-date)\n",
    "# 檢查是否真的差90天\n",
    "date + pd.Timedelta(days=90) == date2"
   ]
  },
  {
   "cell_type": "code",
   "execution_count": 92,
   "metadata": {},
   "outputs": [
    {
     "name": "stdout",
     "output_type": "stream",
     "text": [
      "month date_range()：\n",
      " DatetimeIndex(['2022-01-31', '2022-02-28', '2022-03-31', '2022-04-30',\n",
      "               '2022-05-31', '2022-06-30', '2022-07-31', '2022-08-31',\n",
      "               '2022-09-30', '2022-10-31', '2022-11-30', '2022-12-31'],\n",
      "              dtype='datetime64[ns]', freq='M')\n",
      "month period_range()：\n",
      "PeriodIndex(['2022-01', '2022-02', '2022-03', '2022-04', '2022-05', '2022-06',\n",
      "             '2022-07', '2022-08', '2022-09', '2022-10', '2022-11', '2022-12'],\n",
      "            dtype='period[M]', freq='M')\n"
     ]
    }
   ],
   "source": [
    "#補充 : 轉各種期間的函數 (day17)\n",
    "date_rng = pd.date_range('2022-01-01', freq='M', periods=12)\n",
    "print('month date_range()：\\n',date_rng)\n",
    "period_rng = pd.period_range('2022/01/01', freq='M', periods=12)\n",
    "print(f'month period_range()：\\n{period_rng}')\n",
    "#date_rng = pd.date_range('2021-01-01', freq='W-SUN', periods=12)\n",
    "#period_rng=pd.period_range('2021-01-01',freq='W-SUN',periods=12)\n",
    "\n",
    "#date_rng = pd.date_range('2021-01-01 00:00:00', freq='H', periods=12)\n",
    "#period_rng=pd.period_range('2021-01-01 00:00:00',freq='H',periods=12)\n"
   ]
  },
  {
   "cell_type": "code",
   "execution_count": 98,
   "metadata": {},
   "outputs": [
    {
     "data": {
      "text/plain": [
       "Timestamp('2022-09-21 00:00:00')"
      ]
     },
     "execution_count": 98,
     "metadata": {},
     "output_type": "execute_result"
    }
   ],
   "source": [
    "date = pd.Timestamp(2022,8,12)\n",
    "dt = date + pd.Timedelta(days=40)\n",
    "dt\n",
    "#print(dt.strftime('%Y-%m-%d')) -->2022-09-21"
   ]
  },
  {
   "cell_type": "code",
   "execution_count": null,
   "metadata": {},
   "outputs": [],
   "source": [
    "'''#定義timestamp\n",
    "t1=pd.Timestamp('2019-01-10')\n",
    "t2=pd.Timestamp('2018-12-10')\n",
    "print(f't1= {t1}')\n",
    "print(f't2= {t2}')\n",
    "print(f't1与t2時間間隔：{(t1-t2).days}天')\n",
    "...\n",
    "\n",
    "'''"
   ]
  },
  {
   "cell_type": "code",
   "execution_count": 99,
   "metadata": {},
   "outputs": [],
   "source": [
    "#Day18 大型資料處理與效能調校\n",
    "\n",
    "'''\n",
    "接下來有三個方法帶給大家，可以大幅減少程式的執行時間\n",
    "\n",
    "1.讀取資料型態選最快速的\n",
    "2.多使用內建函數\n",
    "3.向量化的資料處理\n",
    "\n",
    "---\n",
    "資料型態非常多種，在大數據的情況第一關往往都是資料讀取，以下四種資料型態進行實測，\n",
    "pkl > hdf > csv > xlsx\n",
    "可以發現讀取速度以 pkl 檔為最快，是平常讀 csv 的 6 倍速，\n",
    "當然不同環境與不同資料會有所差距，不過資料越多改善會越明顯。\n",
    "\n",
    "\n",
    "'''\n",
    "import pandas as pd\n",
    "import numpy as np \n",
    "import time"
   ]
  },
  {
   "cell_type": "code",
   "execution_count": 106,
   "metadata": {},
   "outputs": [
    {
     "data": {
      "text/html": [
       "<div>\n",
       "<style scoped>\n",
       "    .dataframe tbody tr th:only-of-type {\n",
       "        vertical-align: middle;\n",
       "    }\n",
       "\n",
       "    .dataframe tbody tr th {\n",
       "        vertical-align: top;\n",
       "    }\n",
       "\n",
       "    .dataframe thead th {\n",
       "        text-align: right;\n",
       "    }\n",
       "</style>\n",
       "<table border=\"1\" class=\"dataframe\">\n",
       "  <thead>\n",
       "    <tr style=\"text-align: right;\">\n",
       "      <th></th>\n",
       "      <th>student_id</th>\n",
       "      <th>math_score</th>\n",
       "      <th>english_score</th>\n",
       "      <th>chinese_score</th>\n",
       "      <th>sex</th>\n",
       "      <th>class</th>\n",
       "    </tr>\n",
       "  </thead>\n",
       "  <tbody>\n",
       "    <tr>\n",
       "      <th>0</th>\n",
       "      <td>1</td>\n",
       "      <td>50</td>\n",
       "      <td>80</td>\n",
       "      <td>70</td>\n",
       "      <td>boy</td>\n",
       "      <td>1</td>\n",
       "    </tr>\n",
       "    <tr>\n",
       "      <th>1</th>\n",
       "      <td>2</td>\n",
       "      <td>60</td>\n",
       "      <td>45</td>\n",
       "      <td>50</td>\n",
       "      <td>boy</td>\n",
       "      <td>2</td>\n",
       "    </tr>\n",
       "    <tr>\n",
       "      <th>2</th>\n",
       "      <td>3</td>\n",
       "      <td>98</td>\n",
       "      <td>43</td>\n",
       "      <td>55</td>\n",
       "      <td>boy</td>\n",
       "      <td>1</td>\n",
       "    </tr>\n",
       "    <tr>\n",
       "      <th>3</th>\n",
       "      <td>4</td>\n",
       "      <td>70</td>\n",
       "      <td>69</td>\n",
       "      <td>89</td>\n",
       "      <td>boy</td>\n",
       "      <td>2</td>\n",
       "    </tr>\n",
       "    <tr>\n",
       "      <th>4</th>\n",
       "      <td>5</td>\n",
       "      <td>56</td>\n",
       "      <td>79</td>\n",
       "      <td>60</td>\n",
       "      <td>girl</td>\n",
       "      <td>1</td>\n",
       "    </tr>\n",
       "    <tr>\n",
       "      <th>5</th>\n",
       "      <td>6</td>\n",
       "      <td>60</td>\n",
       "      <td>68</td>\n",
       "      <td>55</td>\n",
       "      <td>girl</td>\n",
       "      <td>2</td>\n",
       "    </tr>\n",
       "    <tr>\n",
       "      <th>6</th>\n",
       "      <td>7</td>\n",
       "      <td>45</td>\n",
       "      <td>70</td>\n",
       "      <td>77</td>\n",
       "      <td>girl</td>\n",
       "      <td>1</td>\n",
       "    </tr>\n",
       "    <tr>\n",
       "      <th>7</th>\n",
       "      <td>8</td>\n",
       "      <td>55</td>\n",
       "      <td>77</td>\n",
       "      <td>76</td>\n",
       "      <td>girl</td>\n",
       "      <td>2</td>\n",
       "    </tr>\n",
       "    <tr>\n",
       "      <th>8</th>\n",
       "      <td>9</td>\n",
       "      <td>25</td>\n",
       "      <td>57</td>\n",
       "      <td>60</td>\n",
       "      <td>girl</td>\n",
       "      <td>1</td>\n",
       "    </tr>\n",
       "    <tr>\n",
       "      <th>9</th>\n",
       "      <td>10</td>\n",
       "      <td>88</td>\n",
       "      <td>40</td>\n",
       "      <td>43</td>\n",
       "      <td>girl</td>\n",
       "      <td>3</td>\n",
       "    </tr>\n",
       "    <tr>\n",
       "      <th>10</th>\n",
       "      <td>11</td>\n",
       "      <td>25</td>\n",
       "      <td>60</td>\n",
       "      <td>45</td>\n",
       "      <td>boy</td>\n",
       "      <td>3</td>\n",
       "    </tr>\n",
       "    <tr>\n",
       "      <th>11</th>\n",
       "      <td>12</td>\n",
       "      <td>80</td>\n",
       "      <td>60</td>\n",
       "      <td>23</td>\n",
       "      <td>boy</td>\n",
       "      <td>3</td>\n",
       "    </tr>\n",
       "    <tr>\n",
       "      <th>12</th>\n",
       "      <td>13</td>\n",
       "      <td>20</td>\n",
       "      <td>90</td>\n",
       "      <td>66</td>\n",
       "      <td>girl</td>\n",
       "      <td>3</td>\n",
       "    </tr>\n",
       "    <tr>\n",
       "      <th>13</th>\n",
       "      <td>14</td>\n",
       "      <td>50</td>\n",
       "      <td>50</td>\n",
       "      <td>50</td>\n",
       "      <td>girl</td>\n",
       "      <td>3</td>\n",
       "    </tr>\n",
       "    <tr>\n",
       "      <th>14</th>\n",
       "      <td>15</td>\n",
       "      <td>89</td>\n",
       "      <td>67</td>\n",
       "      <td>77</td>\n",
       "      <td>girl</td>\n",
       "      <td>3</td>\n",
       "    </tr>\n",
       "  </tbody>\n",
       "</table>\n",
       "</div>"
      ],
      "text/plain": [
       "    student_id  math_score  english_score  chinese_score   sex  class\n",
       "0            1          50             80             70   boy      1\n",
       "1            2          60             45             50   boy      2\n",
       "2            3          98             43             55   boy      1\n",
       "3            4          70             69             89   boy      2\n",
       "4            5          56             79             60  girl      1\n",
       "5            6          60             68             55  girl      2\n",
       "6            7          45             70             77  girl      1\n",
       "7            8          55             77             76  girl      2\n",
       "8            9          25             57             60  girl      1\n",
       "9           10          88             40             43  girl      3\n",
       "10          11          25             60             45   boy      3\n",
       "11          12          80             60             23   boy      3\n",
       "12          13          20             90             66  girl      3\n",
       "13          14          50             50             50  girl      3\n",
       "14          15          89             67             77  girl      3"
      ]
     },
     "execution_count": 106,
     "metadata": {},
     "output_type": "execute_result"
    }
   ],
   "source": [
    "score_df = pd.DataFrame([[1,50,80,70,'boy',1], \n",
    "              [2,60,45,50,'boy',2],\n",
    "              [3,98,43,55,'boy',1],\n",
    "              [4,70,69,89,'boy',2],\n",
    "              [5,56,79,60,'girl',1],\n",
    "              [6,60,68,55,'girl',2],\n",
    "              [7,45,70,77,'girl',1],\n",
    "              [8,55,77,76,'girl',2],\n",
    "              [9,25,57,60,'girl',1],\n",
    "              [10,88,40,43,'girl',3],\n",
    "              [11,25,60,45,'boy',3],\n",
    "              [12,80,60,23,'boy',3],\n",
    "              [13,20,90,66,'girl',3],\n",
    "              [14,50,50,50,'girl',3],\n",
    "              [15,89,67,77,'girl',3]],columns=['student_id','math_score','english_score','chinese_score','sex','class'])\n",
    "score_df"
   ]
  },
  {
   "cell_type": "code",
   "execution_count": 110,
   "metadata": {},
   "outputs": [
    {
     "name": "stdout",
     "output_type": "stream",
     "text": [
      "0.001994609832763672\n",
      "0.013962507247924805\n"
     ]
    }
   ],
   "source": [
    "#agg使用Python的內建函式\n",
    "start_time=time.time()\n",
    "score_df.groupby('class').agg('mean')\n",
    "end_time= time.time()\n",
    "print(end_time - start_time)\n",
    "#agg使用自定義函式\n",
    "start_time1=time.time()\n",
    "score_df.groupby('class').agg(lambda x:x.mean())\n",
    "end_time1= time.time()\n",
    "print(end_time1 - start_time1)"
   ]
  },
  {
   "cell_type": "code",
   "execution_count": 118,
   "metadata": {},
   "outputs": [
    {
     "name": "stdout",
     "output_type": "stream",
     "text": [
      "0.012941360473632812\n",
      "0.012963056564331055\n"
     ]
    }
   ],
   "source": [
    "#transform使用Python的內建函式\n",
    "star_time = time.time()\n",
    "score_df.groupby('class').transform('mean')\n",
    "end_time = time.time()\n",
    "print(end_time - star_time)\n",
    "\n",
    "#transform使用自定義函式\n",
    "star_time1 = time.time()\n",
    "score_df.groupby('class').transform(lambda x: x.mean())\n",
    "end_time1 = time.time()\n",
    "print(end_time1 - star_time1)\n",
    "'''做到這邊可以看出在使用agg和transform進行操作時，儘量使用Python的內建函式，能夠提高執行效率'''"
   ]
  },
  {
   "cell_type": "code",
   "execution_count": 133,
   "metadata": {},
   "outputs": [
    {
     "name": "stdout",
     "output_type": "stream",
     "text": [
      "0.0009815692901611328\n",
      "0.000997304916381836\n"
     ]
    }
   ],
   "source": [
    "#篩選出對應資料\n",
    "#用list方式搜索\n",
    "score_df1 = score_df.copy()\n",
    "star_time = time.time()\n",
    "score_df1['Pass_math']= [i>60 for i in score_df1.math_score]\n",
    "end_time = time.time()\n",
    "print(end_time - star_time)\n",
    "#用DataFrame column方式搜索\n",
    "score_df1 = score_df.copy()\n",
    "star_time1 = time.time()\n",
    "score_df1['Pass_math'] = score_df1.math_score >=60\n",
    "end_time1 = time.time()\n",
    "print(end_time1 - star_time1)"
   ]
  },
  {
   "cell_type": "code",
   "execution_count": 142,
   "metadata": {},
   "outputs": [
    {
     "name": "stdout",
     "output_type": "stream",
     "text": [
      "0.0010023117065429688\n",
      "0.0009922981262207031\n"
     ]
    }
   ],
   "source": [
    "#用自定義式搜索\n",
    "score_df2 = score_df.copy()\n",
    "star_time = time.time()\n",
    "score_df2['Pass_math'] = score_df2.math_score.apply(lambda x:x>=60)\n",
    "end_time = time.time()\n",
    "print(end_time - star_time)\n",
    "\n",
    "#用isin()\n",
    "score_df3 = score_df.copy()\n",
    "star_time3 = time.time()\n",
    "score_df3['Pass_math'] = score_df3.math_score.isin(range(60,100))\n",
    "end_time3 = time.time()\n",
    "print(end_time3 - star_time3)\n",
    "\n",
    "'''以上實驗看出以函數來說採用 isin() 篩選出對應資料是最快的，速度快是因為它採用了向量化的資料處理方式\n",
    "（這裡的isin() 是其中一種方式，還有其他方式，大家可以嘗試一下'''"
   ]
  },
  {
   "cell_type": "code",
   "execution_count": 143,
   "metadata": {},
   "outputs": [
    {
     "data": {
      "text/plain": [
       "array([7, 3, 3, 4, 6, 7, 4, 4, 3, 8])"
      ]
     },
     "execution_count": 143,
     "metadata": {},
     "output_type": "execute_result"
    }
   ],
   "source": [
    "np.random.randint(3,9,10)"
   ]
  },
  {
   "cell_type": "code",
   "execution_count": 156,
   "metadata": {},
   "outputs": [
    {
     "name": "stdout",
     "output_type": "stream",
     "text": [
      "Flaot Memory Usage:800128\n",
      "Int Memory Usage:400128\n",
      "Downcast_Int Memory Usage:200128\n"
     ]
    }
   ],
   "source": [
    "#遇到大資料集時，常有記憶體不足的問題\n",
    "#首先先生成大資料，因為改善部分不同所以分成浮點數float與整數int的資料集\n",
    "float_data = pd.DataFrame(np.random.uniform(0,5, 100000).reshape(1000,100))\n",
    "int_data = pd.DataFrame(np.random.randint(0,1000,100000).reshape(1000,100))\n",
    "float_data_memory=float_data.memory_usage(deep=True).sum()\n",
    "int_data.memory=int_data.memory_usage(deep=True).sum()\n",
    "print(f'Flaot Memory Usage:{float_data_memory}\\nInt Memory Usage:{int_data.memory}')\n",
    "#整數型態int改成uint減少記憶體正用空間，使用前400128bytes，使用後剩下200128bytes\n",
    "downcast_int = int_data.apply(pd.to_numeric,downcast='unsigned')\n",
    "downcast_int.memory=downcast_int.memory_usage(deep=True).sum()\n",
    "print(f'Downcast_Int Memory Usage:{downcast_int.memory}')"
   ]
  },
  {
   "cell_type": "code",
   "execution_count": 160,
   "metadata": {},
   "outputs": [
    {
     "data": {
      "text/html": [
       "<div>\n",
       "<style scoped>\n",
       "    .dataframe tbody tr th:only-of-type {\n",
       "        vertical-align: middle;\n",
       "    }\n",
       "\n",
       "    .dataframe tbody tr th {\n",
       "        vertical-align: top;\n",
       "    }\n",
       "\n",
       "    .dataframe thead th {\n",
       "        text-align: right;\n",
       "    }\n",
       "</style>\n",
       "<table border=\"1\" class=\"dataframe\">\n",
       "  <thead>\n",
       "    <tr style=\"text-align: right;\">\n",
       "      <th></th>\n",
       "      <th>Before</th>\n",
       "      <th>After</th>\n",
       "    </tr>\n",
       "  </thead>\n",
       "  <tbody>\n",
       "    <tr>\n",
       "      <th>uint16</th>\n",
       "      <td>NaN</td>\n",
       "      <td>100.0</td>\n",
       "    </tr>\n",
       "    <tr>\n",
       "      <th>int32</th>\n",
       "      <td>100.0</td>\n",
       "      <td>NaN</td>\n",
       "    </tr>\n",
       "  </tbody>\n",
       "</table>\n",
       "</div>"
      ],
      "text/plain": [
       "        Before  After\n",
       "uint16     NaN  100.0\n",
       "int32    100.0    NaN"
      ]
     },
     "execution_count": 160,
     "metadata": {},
     "output_type": "execute_result"
    }
   ],
   "source": [
    "#原本有100個欄位是int32，經過downcast變成了100個欄位的uint16\n",
    "compare_int = pd.concat([int_data.dtypes,downcast_int.dtypes], axis=1)\n",
    "compare_int.columns = [\"Before\",\"After\"]\n",
    "compare_int.apply(pd.value_counts)"
   ]
  },
  {
   "cell_type": "code",
   "execution_count": 164,
   "metadata": {},
   "outputs": [
    {
     "name": "stdout",
     "output_type": "stream",
     "text": [
      "800128 400128\n"
     ]
    },
    {
     "data": {
      "text/html": [
       "<div>\n",
       "<style scoped>\n",
       "    .dataframe tbody tr th:only-of-type {\n",
       "        vertical-align: middle;\n",
       "    }\n",
       "\n",
       "    .dataframe tbody tr th {\n",
       "        vertical-align: top;\n",
       "    }\n",
       "\n",
       "    .dataframe thead th {\n",
       "        text-align: right;\n",
       "    }\n",
       "</style>\n",
       "<table border=\"1\" class=\"dataframe\">\n",
       "  <thead>\n",
       "    <tr style=\"text-align: right;\">\n",
       "      <th></th>\n",
       "      <th>Before</th>\n",
       "      <th>After</th>\n",
       "    </tr>\n",
       "  </thead>\n",
       "  <tbody>\n",
       "    <tr>\n",
       "      <th>float32</th>\n",
       "      <td>NaN</td>\n",
       "      <td>100.0</td>\n",
       "    </tr>\n",
       "    <tr>\n",
       "      <th>float64</th>\n",
       "      <td>100.0</td>\n",
       "      <td>NaN</td>\n",
       "    </tr>\n",
       "  </tbody>\n",
       "</table>\n",
       "</div>"
      ],
      "text/plain": [
       "         Before  After\n",
       "float32     NaN  100.0\n",
       "float64   100.0    NaN"
      ]
     },
     "execution_count": 164,
     "metadata": {},
     "output_type": "execute_result"
    }
   ],
   "source": [
    "#浮點數型態float64改成float32減少記憶體正用空間，使用前800128bytes，使用後剩下400128bytes\n",
    "downcast_float = float_data.apply(pd.to_numeric, downcast='float' )\n",
    "print(float_data.memory_usage(deep=True).sum(),downcast_float.memory_usage(deep=True).sum())\n",
    "\n",
    "#原本有100個欄位是float64，經過downcast變成了100個欄位的float32\n",
    "compare_int = pd.concat([float_data.dtypes,downcast_float.dtypes],axis=1)\n",
    "compare_int.columns = ['Before','After']\n",
    "compare_int.apply(pd.value_counts)"
   ]
  },
  {
   "cell_type": "code",
   "execution_count": null,
   "metadata": {},
   "outputs": [],
   "source": []
  }
 ],
 "metadata": {
  "kernelspec": {
   "display_name": "Python 3",
   "language": "python",
   "name": "python3"
  },
  "language_info": {
   "codemirror_mode": {
    "name": "ipython",
    "version": 3
   },
   "file_extension": ".py",
   "mimetype": "text/x-python",
   "name": "python",
   "nbconvert_exporter": "python",
   "pygments_lexer": "ipython3",
   "version": "3.8.5"
  }
 },
 "nbformat": 4,
 "nbformat_minor": 4
}
