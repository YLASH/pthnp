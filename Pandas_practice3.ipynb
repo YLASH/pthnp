{
 "cells": [
  {
   "cell_type": "code",
   "execution_count": 6,
   "metadata": {},
   "outputs": [
    {
     "name": "stdout",
     "output_type": "stream",
     "text": [
      "<module 'numpy' from 'C:\\\\Users\\\\USER\\\\anaconda3\\\\lib\\\\site-packages\\\\numpy\\\\__init__.py'>\n",
      "1.19.2\n",
      "<module 'pandas' from 'C:\\\\Users\\\\USER\\\\anaconda3\\\\lib\\\\site-packages\\\\pandas\\\\__init__.py'>\n",
      "1.1.3\n"
     ]
    }
   ],
   "source": [
    "import numpy as np\n",
    "import pandas as pd\n",
    "\n",
    "print(np)\n",
    "print(np.__version__)\n",
    "print(pd)\n",
    "print(pd.__version__)"
   ]
  },
  {
   "cell_type": "code",
   "execution_count": 7,
   "metadata": {},
   "outputs": [
    {
     "data": {
      "text/html": [
       "<div>\n",
       "<style scoped>\n",
       "    .dataframe tbody tr th:only-of-type {\n",
       "        vertical-align: middle;\n",
       "    }\n",
       "\n",
       "    .dataframe tbody tr th {\n",
       "        vertical-align: top;\n",
       "    }\n",
       "\n",
       "    .dataframe thead tr th {\n",
       "        text-align: left;\n",
       "    }\n",
       "</style>\n",
       "<table border=\"1\" class=\"dataframe\">\n",
       "  <thead>\n",
       "    <tr>\n",
       "      <th></th>\n",
       "      <th colspan=\"2\" halign=\"left\">weight</th>\n",
       "    </tr>\n",
       "    <tr>\n",
       "      <th></th>\n",
       "      <th>kg</th>\n",
       "      <th>pounds</th>\n",
       "    </tr>\n",
       "  </thead>\n",
       "  <tbody>\n",
       "    <tr>\n",
       "      <th>cat</th>\n",
       "      <td>1</td>\n",
       "      <td>2</td>\n",
       "    </tr>\n",
       "    <tr>\n",
       "      <th>dog</th>\n",
       "      <td>2</td>\n",
       "      <td>4</td>\n",
       "    </tr>\n",
       "  </tbody>\n",
       "</table>\n",
       "</div>"
      ],
      "text/plain": [
       "    weight       \n",
       "        kg pounds\n",
       "cat      1      2\n",
       "dog      2      4"
      ]
     },
     "execution_count": 7,
     "metadata": {},
     "output_type": "execute_result"
    }
   ],
   "source": [
    "#stack , unstack\n",
    "#set the index name for Dataframe\n",
    "multicol1 = pd.MultiIndex.from_tuples([(\"weight\", \"kg\"),\n",
    "                                       (\"weight\", \"pounds\")])\n",
    "#create EX. dataframe\n",
    "df_multi_level_cols1 = pd.DataFrame([[1,2],[2,4]],\n",
    "                                    index= ['cat', 'dog'],\n",
    "                                   columns=multicol1)\n",
    "df_multi_level_cols1"
   ]
  },
  {
   "cell_type": "code",
   "execution_count": 15,
   "metadata": {},
   "outputs": [
    {
     "name": "stdout",
     "output_type": "stream",
     "text": [
      "            weight\n",
      "cat kg           1\n",
      "    pounds       2\n",
      "dog kg           2\n",
      "    pounds       4\n"
     ]
    },
    {
     "data": {
      "text/plain": [
       "(Index(['cat', 'dog'], dtype='object'),\n",
       " '\\n',\n",
       " MultiIndex([('cat',     'kg'),\n",
       "             ('cat', 'pounds'),\n",
       "             ('dog',     'kg'),\n",
       "             ('dog', 'pounds')],\n",
       "            ))"
      ]
     },
     "execution_count": 15,
     "metadata": {},
     "output_type": "execute_result"
    }
   ],
   "source": [
    "#.stack(level=- 1, dropna=True) :\n",
    "#//Stack the prescribed level(s) from columns to index\n",
    "'''\n",
    "參數 : \n",
    "level : 放整數、字串、串列 (默認為 -1(最後一欄))，決定哪一欄位轉為索引。\n",
    "dropna : 放布林值 (默認為 True)，決定是否要把全為遺失值的列拿掉。\n",
    "\n",
    "欄位轉索引：將一欄位(column)轉成一索引(index)，使用 df.stack() 即可。\n",
    "\n",
    "!!注意 .stack() 會由最外層的欄位開始轉換。The new inner-most levels are created by pivoting the columns of the current dataframe.\n",
    "'''\n",
    "print(df_multi_level_cols1.stack())\n",
    "df_multi_level_cols1.index,'\\n', df_multi_level_cols1.stack().index"
   ]
  },
  {
   "cell_type": "code",
   "execution_count": 28,
   "metadata": {},
   "outputs": [
    {
     "name": "stdout",
     "output_type": "stream",
     "text": [
      "    weight       \n",
      "        kg pounds\n",
      "cat      1      2\n",
      "dog      2      4 \n",
      "\n",
      "weight  kg      cat    1\n",
      "                dog    2\n",
      "        pounds  cat    2\n",
      "                dog    4\n",
      "dtype: int64 \n",
      "\n",
      "               cat  dog\n",
      "weight kg        1    2\n",
      "       pounds    2    4\n"
     ]
    },
    {
     "data": {
      "text/html": [
       "<div>\n",
       "<style scoped>\n",
       "    .dataframe tbody tr th:only-of-type {\n",
       "        vertical-align: middle;\n",
       "    }\n",
       "\n",
       "    .dataframe tbody tr th {\n",
       "        vertical-align: top;\n",
       "    }\n",
       "\n",
       "    .dataframe thead tr th {\n",
       "        text-align: left;\n",
       "    }\n",
       "</style>\n",
       "<table border=\"1\" class=\"dataframe\">\n",
       "  <thead>\n",
       "    <tr>\n",
       "      <th></th>\n",
       "      <th colspan=\"2\" halign=\"left\">cat</th>\n",
       "      <th colspan=\"2\" halign=\"left\">dog</th>\n",
       "    </tr>\n",
       "    <tr>\n",
       "      <th></th>\n",
       "      <th>kg</th>\n",
       "      <th>pounds</th>\n",
       "      <th>kg</th>\n",
       "      <th>pounds</th>\n",
       "    </tr>\n",
       "  </thead>\n",
       "  <tbody>\n",
       "    <tr>\n",
       "      <th>weight</th>\n",
       "      <td>1</td>\n",
       "      <td>2</td>\n",
       "      <td>2</td>\n",
       "      <td>4</td>\n",
       "    </tr>\n",
       "  </tbody>\n",
       "</table>\n",
       "</div>"
      ],
      "text/plain": [
       "       cat        dog       \n",
       "        kg pounds  kg pounds\n",
       "weight   1      2   2      4"
      ]
     },
     "execution_count": 28,
     "metadata": {},
     "output_type": "execute_result"
    }
   ],
   "source": [
    "print(df_multi_level_cols1.stack().unstack(), \"\\n\")\n",
    "print(df_multi_level_cols1.stack().unstack().unstack(),\"\\n\")  #type :Series\n",
    "print(df_multi_level_cols1.stack().unstack().unstack().unstack())\n",
    "df_multi_level_cols1.stack().unstack().unstack().unstack().unstack()\n",
    "\n",
    "#df_multi_level_cols1.stack().stack()  => type:Series\n",
    "#df_multi_level_cols1.stack().stack().stack() => Error\n",
    "'''\n",
    "df.stack() : 當欄位沒東西時，會報錯。\n",
    "df.unstack() : 當索引都被移到欄位時，會把所有欄位變為索引。\n",
    "'''"
   ]
  },
  {
   "cell_type": "code",
   "execution_count": 36,
   "metadata": {},
   "outputs": [
    {
     "name": "stdout",
     "output_type": "stream",
     "text": [
      "     Name  course  Age\n",
      "0    Jiao  python   22\n",
      "1    John      ML   15\n",
      "2  Shiela      DM   50 \n",
      "\n",
      "  variable   value\n",
      "0     Name    Jiao\n",
      "1     Name    John\n",
      "2     Name  Shiela\n",
      "3   course  python\n",
      "4   course      ML\n",
      "5   course      DM\n",
      "6      Age      22\n",
      "7      Age      15\n",
      "8      Age      50 \n",
      "\n",
      "     Name variable   value\n",
      "0    Jiao   course  python\n",
      "1    John   course      ML\n",
      "2  Shiela   course      DM\n",
      "3    Jiao      Age      22\n",
      "4    John      Age      15\n",
      "5  Shiela      Age      50\n"
     ]
    },
    {
     "data": {
      "text/html": [
       "<div>\n",
       "<style scoped>\n",
       "    .dataframe tbody tr th:only-of-type {\n",
       "        vertical-align: middle;\n",
       "    }\n",
       "\n",
       "    .dataframe tbody tr th {\n",
       "        vertical-align: top;\n",
       "    }\n",
       "\n",
       "    .dataframe thead th {\n",
       "        text-align: right;\n",
       "    }\n",
       "</style>\n",
       "<table border=\"1\" class=\"dataframe\">\n",
       "  <thead>\n",
       "    <tr style=\"text-align: right;\">\n",
       "      <th></th>\n",
       "      <th>variable</th>\n",
       "      <th>value</th>\n",
       "    </tr>\n",
       "  </thead>\n",
       "  <tbody>\n",
       "    <tr>\n",
       "      <th>0</th>\n",
       "      <td>Age</td>\n",
       "      <td>22</td>\n",
       "    </tr>\n",
       "    <tr>\n",
       "      <th>1</th>\n",
       "      <td>Age</td>\n",
       "      <td>15</td>\n",
       "    </tr>\n",
       "    <tr>\n",
       "      <th>2</th>\n",
       "      <td>Age</td>\n",
       "      <td>50</td>\n",
       "    </tr>\n",
       "  </tbody>\n",
       "</table>\n",
       "</div>"
      ],
      "text/plain": [
       "  variable  value\n",
       "0      Age     22\n",
       "1      Age     15\n",
       "2      Age     50"
      ]
     },
     "execution_count": 36,
     "metadata": {},
     "output_type": "execute_result"
    }
   ],
   "source": [
    "#欄位名稱轉為欄位值\n",
    "#.melt(id_vars=None, value_vars=None ...)\n",
    "#//Unpivot a DataFrame from wide to long format, optionally leaving identifiers set.\n",
    "'''\n",
    "id_vars：不需要被轉換的列名\n",
    "value_vars：需要轉換的列名，如果剩下的列全部都要轉換，就不用寫了。\n",
    "'''\n",
    "\n",
    "import pandas as pd \n",
    "\n",
    "df = pd.DataFrame({'Name':{0:'Jiao', 1:'John', 2:'Shiela'}, \n",
    "                   'course':{0:'python', 1:'ML', 2:'DM'}, \n",
    "                   'Age':{0:22, 1:15, 2:50}})\n",
    "print(df, \"\\n\")\n",
    "print(df.melt(),\"\\n\")\n",
    "print(df.melt(\"Name\"))\n",
    "df.melt(value_vars='Age')"
   ]
  },
  {
   "cell_type": "code",
   "execution_count": 37,
   "metadata": {},
   "outputs": [
    {
     "data": {
      "text/html": [
       "<div>\n",
       "<style scoped>\n",
       "    .dataframe tbody tr th:only-of-type {\n",
       "        vertical-align: middle;\n",
       "    }\n",
       "\n",
       "    .dataframe tbody tr th {\n",
       "        vertical-align: top;\n",
       "    }\n",
       "\n",
       "    .dataframe thead th {\n",
       "        text-align: right;\n",
       "    }\n",
       "</style>\n",
       "<table border=\"1\" class=\"dataframe\">\n",
       "  <thead>\n",
       "    <tr style=\"text-align: right;\">\n",
       "      <th></th>\n",
       "      <th>fff</th>\n",
       "      <th>bbb</th>\n",
       "      <th>baa</th>\n",
       "      <th>zzz</th>\n",
       "    </tr>\n",
       "  </thead>\n",
       "  <tbody>\n",
       "    <tr>\n",
       "      <th>0</th>\n",
       "      <td>one</td>\n",
       "      <td>P</td>\n",
       "      <td>2</td>\n",
       "      <td>h</td>\n",
       "    </tr>\n",
       "    <tr>\n",
       "      <th>1</th>\n",
       "      <td>one</td>\n",
       "      <td>Q</td>\n",
       "      <td>3</td>\n",
       "      <td>i</td>\n",
       "    </tr>\n",
       "    <tr>\n",
       "      <th>2</th>\n",
       "      <td>one</td>\n",
       "      <td>R</td>\n",
       "      <td>4</td>\n",
       "      <td>j</td>\n",
       "    </tr>\n",
       "    <tr>\n",
       "      <th>3</th>\n",
       "      <td>two</td>\n",
       "      <td>P</td>\n",
       "      <td>5</td>\n",
       "      <td>k</td>\n",
       "    </tr>\n",
       "    <tr>\n",
       "      <th>4</th>\n",
       "      <td>two</td>\n",
       "      <td>Q</td>\n",
       "      <td>6</td>\n",
       "      <td>l</td>\n",
       "    </tr>\n",
       "    <tr>\n",
       "      <th>5</th>\n",
       "      <td>two</td>\n",
       "      <td>R</td>\n",
       "      <td>7</td>\n",
       "      <td>m</td>\n",
       "    </tr>\n",
       "  </tbody>\n",
       "</table>\n",
       "</div>"
      ],
      "text/plain": [
       "   fff bbb  baa zzz\n",
       "0  one   P    2   h\n",
       "1  one   Q    3   i\n",
       "2  one   R    4   j\n",
       "3  two   P    5   k\n",
       "4  two   Q    6   l\n",
       "5  two   R    7   m"
      ]
     },
     "execution_count": 37,
     "metadata": {},
     "output_type": "execute_result"
    }
   ],
   "source": [
    "'''\n",
    ".DataFrame.pivot : Return reshaped DataFrame organized by given index / column values.\n",
    ".pivot_table : Create a spreadsheet-style pivot table as a DataFrame. **\n",
    "'''\n",
    "#重新組織資料\n",
    "df = pd.DataFrame({'fff': ['one', 'one', 'one', 'two', 'two',\n",
    "                           'two'],\n",
    "                   'bbb': ['P', 'Q', 'R', 'P', 'Q', 'R'],\n",
    "                   'baa': [2, 3, 4, 5, 6, 7],\n",
    "                   'zzz': ['h', 'i', 'j', 'k', 'l', 'm']})\n",
    "\n",
    "df"
   ]
  },
  {
   "cell_type": "code",
   "execution_count": 44,
   "metadata": {},
   "outputs": [
    {
     "name": "stdout",
     "output_type": "stream",
     "text": [
      "    baa       zzz      \n",
      "bbb   P  Q  R   P  Q  R\n",
      "fff                    \n",
      "one   2  3  4   h  i  j\n",
      "two   5  6  7   k  l  m \n",
      "\n",
      "bbb  P  Q  R\n",
      "fff         \n",
      "one  2  3  4\n",
      "two  5  6  7\n",
      "bbb  P  Q  R\n",
      "fff         \n",
      "one  2  3  4\n",
      "two  5  6  7\n"
     ]
    },
    {
     "data": {
      "text/html": [
       "<div>\n",
       "<style scoped>\n",
       "    .dataframe tbody tr th:only-of-type {\n",
       "        vertical-align: middle;\n",
       "    }\n",
       "\n",
       "    .dataframe tbody tr th {\n",
       "        vertical-align: top;\n",
       "    }\n",
       "\n",
       "    .dataframe thead tr th {\n",
       "        text-align: left;\n",
       "    }\n",
       "\n",
       "    .dataframe thead tr:last-of-type th {\n",
       "        text-align: right;\n",
       "    }\n",
       "</style>\n",
       "<table border=\"1\" class=\"dataframe\">\n",
       "  <thead>\n",
       "    <tr>\n",
       "      <th></th>\n",
       "      <th colspan=\"3\" halign=\"left\">baa</th>\n",
       "      <th colspan=\"3\" halign=\"left\">zzz</th>\n",
       "    </tr>\n",
       "    <tr>\n",
       "      <th>bbb</th>\n",
       "      <th>P</th>\n",
       "      <th>Q</th>\n",
       "      <th>R</th>\n",
       "      <th>P</th>\n",
       "      <th>Q</th>\n",
       "      <th>R</th>\n",
       "    </tr>\n",
       "    <tr>\n",
       "      <th>fff</th>\n",
       "      <th></th>\n",
       "      <th></th>\n",
       "      <th></th>\n",
       "      <th></th>\n",
       "      <th></th>\n",
       "      <th></th>\n",
       "    </tr>\n",
       "  </thead>\n",
       "  <tbody>\n",
       "    <tr>\n",
       "      <th>one</th>\n",
       "      <td>2</td>\n",
       "      <td>3</td>\n",
       "      <td>4</td>\n",
       "      <td>h</td>\n",
       "      <td>i</td>\n",
       "      <td>j</td>\n",
       "    </tr>\n",
       "    <tr>\n",
       "      <th>two</th>\n",
       "      <td>5</td>\n",
       "      <td>6</td>\n",
       "      <td>7</td>\n",
       "      <td>k</td>\n",
       "      <td>l</td>\n",
       "      <td>m</td>\n",
       "    </tr>\n",
       "  </tbody>\n",
       "</table>\n",
       "</div>"
      ],
      "text/plain": [
       "    baa       zzz      \n",
       "bbb   P  Q  R   P  Q  R\n",
       "fff                    \n",
       "one   2  3  4   h  i  j\n",
       "two   5  6  7   k  l  m"
      ]
     },
     "execution_count": 44,
     "metadata": {},
     "output_type": "execute_result"
    }
   ],
   "source": [
    "print(df.pivot(index='fff', columns='bbb'),\"\\n\")\n",
    "print(df.pivot(index='fff', columns='bbb')['baa'])\n",
    "print(df.pivot(index='fff', columns='bbb',values='baa'))\n",
    "df.pivot(index='fff', columns='bbb',values=['baa','zzz'])"
   ]
  },
  {
   "cell_type": "code",
   "execution_count": null,
   "metadata": {},
   "outputs": [],
   "source": []
  }
 ],
 "metadata": {
  "kernelspec": {
   "display_name": "Python 3",
   "language": "python",
   "name": "python3"
  },
  "language_info": {
   "codemirror_mode": {
    "name": "ipython",
    "version": 3
   },
   "file_extension": ".py",
   "mimetype": "text/x-python",
   "name": "python",
   "nbconvert_exporter": "python",
   "pygments_lexer": "ipython3",
   "version": "3.8.5"
  }
 },
 "nbformat": 4,
 "nbformat_minor": 4
}
