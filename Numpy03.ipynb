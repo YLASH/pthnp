{
 "cells": [
  {
   "cell_type": "code",
   "execution_count": 1,
   "metadata": {},
   "outputs": [],
   "source": [
    "#補作業 22,23,24,25,26,27"
   ]
  },
  {
   "cell_type": "code",
   "execution_count": 2,
   "metadata": {},
   "outputs": [],
   "source": [
    "import numpy as np"
   ]
  },
  {
   "cell_type": "code",
   "execution_count": 3,
   "metadata": {},
   "outputs": [
    {
     "name": "stdout",
     "output_type": "stream",
     "text": [
      "Zero: [[0. 0. 0. 0.]\n",
      " [0. 0. 0. 0.]\n",
      " [0. 0. 0. 0.]]\n",
      "Empty:  [[0. 0. 0. 0.]\n",
      " [0. 0. 0. 0.]\n",
      " [0. 0. 0. 0.]]\n"
     ]
    }
   ],
   "source": [
    "print('Zero:' , np.zeros((3,4)))\n",
    "print('Empty: ' , np.empty((3,4)))"
   ]
  },
  {
   "cell_type": "code",
   "execution_count": 19,
   "metadata": {},
   "outputs": [
    {
     "name": "stdout",
     "output_type": "stream",
     "text": [
      "[[-0.56544939 -2.06331165]\n",
      " [ 0.69942686 -1.15001853]\n",
      " [ 0.37226834  1.04882011]]\n",
      "[[0.59559222 0.89370546]\n",
      " [0.79626393 0.0327588 ]\n",
      " [0.6982715  0.17381137]]\n",
      "[[13  8]\n",
      " [12  5]\n",
      " [ 6 10]]\n"
     ]
    }
   ],
   "source": [
    "#產生一組固定大小的亂數：\n",
    "\n",
    "from numpy.random import default_rng \n",
    "rng = default_rng()\n",
    "\n",
    "normal = rng.standard_normal((3,2))\n",
    "print(normal)\n",
    "random = rng.random((3,2))\n",
    "print(random)\n",
    "integers = rng.integers(5,15, size=(3,2))\n",
    "print(integers)"
   ]
  },
  {
   "cell_type": "code",
   "execution_count": 11,
   "metadata": {},
   "outputs": [
    {
     "name": "stdout",
     "output_type": "stream",
     "text": [
      "[[21 37 24]\n",
      " [20 30 22]]\n"
     ]
    }
   ],
   "source": [
    "m=20\n",
    "n=40\n",
    "\n",
    "a=np.random.randint(low=m,high=n, size=(2,3))\n",
    "print(a)"
   ]
  },
  {
   "cell_type": "code",
   "execution_count": 13,
   "metadata": {},
   "outputs": [
    {
     "name": "stdout",
     "output_type": "stream",
     "text": [
      "[[1. 2.]\n",
      " [3. 4.]] \n",
      "\n",
      "[[1. 3.]\n",
      " [2. 4.]] \n",
      "\n",
      "[[-2.   1. ]\n",
      " [ 1.5 -0.5]]\n",
      "5.0 \n",
      "\n",
      "[[-3.]\n",
      " [ 4.]]\n"
     ]
    }
   ],
   "source": [
    "a = np.array([[1., 2.], [3., 4.]])\n",
    "y = np.array([[5.],[7.]])\n",
    "print(a, '\\n')\n",
    "print(a.transpose(),'\\n') #轉置\n",
    "print(np.linalg.inv(a)) #線性 ? inverse (-1)\n",
    "print(np.trace(a), '\\n')  # (斜的)相加\n",
    "\n",
    "print(np.linalg.solve(a,y))  #ax=y return x"
   ]
  },
  {
   "cell_type": "code",
   "execution_count": 3,
   "metadata": {},
   "outputs": [
    {
     "data": {
      "text/plain": [
       "' 0603 '"
      ]
     },
     "execution_count": 3,
     "metadata": {},
     "output_type": "execute_result"
    }
   ],
   "source": [
    "''' 0603 '''"
   ]
  },
  {
   "cell_type": "code",
   "execution_count": 12,
   "metadata": {},
   "outputs": [
    {
     "name": "stdout",
     "output_type": "stream",
     "text": [
      "[ True  True  True  True]\n",
      "[False False False False]\n",
      "[False False False False]\n",
      "[ True  True  True  True]\n"
     ]
    }
   ],
   "source": [
    "a = np.array([10,15,35,45])\n",
    "b = np.arange(2,6)\n",
    "print(a>b)\n",
    "print(a<b)\n",
    "print(a == b)\n",
    "print(a !=b)"
   ]
  },
  {
   "cell_type": "code",
   "execution_count": 20,
   "metadata": {},
   "outputs": [
    {
     "name": "stdout",
     "output_type": "stream",
     "text": [
      "[ True False False False]\n",
      "[ True  True  True False]\n"
     ]
    }
   ],
   "source": [
    "c = np.array([True, True, False, False])\n",
    "d = np.array([True, False, True, False ])\n",
    " #print(c and d) Traceback (most recent call last)\n",
    "\n",
    "print(c & d)  # and\n",
    "print(c|d) # or"
   ]
  },
  {
   "cell_type": "code",
   "execution_count": 26,
   "metadata": {},
   "outputs": [
    {
     "name": "stdout",
     "output_type": "stream",
     "text": [
      "[[10 15 35 45]]\n",
      "[10 15 35 45]\n",
      "[10 15]\n",
      "[10 35]\n",
      "[]\n"
     ]
    }
   ],
   "source": [
    "a = np.array([10,15,35,45])\n",
    "\n",
    "print(a[True, True, True, True])\n",
    "print(a[[True, True, True, True]])\n",
    "print(a[[True, True, False, False]])  # [ [MASK ] ] 遮罩\n",
    "print(a[ [True, False, True, False] ])\n",
    "print(a[[False, False, False, False]])"
   ]
  },
  {
   "cell_type": "code",
   "execution_count": 30,
   "metadata": {},
   "outputs": [
    {
     "name": "stdout",
     "output_type": "stream",
     "text": [
      "[False False  True  True]\n",
      "[15 45]\n",
      "[35 45]\n"
     ]
    }
   ],
   "source": [
    "#從比較/邏輯運算到遮罩特性\n",
    "a = np.array([10,15,35,45])\n",
    "\n",
    "print(a >20)  #得布林值\n",
    "print(a[[False, True, False, True]])\n",
    "print(a[ a>20 ]) #(原)數值"
   ]
  },
  {
   "cell_type": "code",
   "execution_count": 38,
   "metadata": {},
   "outputs": [
    {
     "name": "stdout",
     "output_type": "stream",
     "text": [
      "[6 7 8 9]\n"
     ]
    }
   ],
   "source": [
    "e = np.arange(10)\n",
    "print(e[ e>5 ])"
   ]
  },
  {
   "cell_type": "code",
   "execution_count": 45,
   "metadata": {},
   "outputs": [
    {
     "name": "stdout",
     "output_type": "stream",
     "text": [
      "any:有true-->true \n",
      " 全false-->才flase\n",
      "True\n",
      "True\n",
      "False\n",
      "---\n",
      " all:全true-->true \n",
      " 有false-->就flase\n",
      "True\n",
      "False\n",
      "False\n"
     ]
    }
   ],
   "source": [
    "#any() ; all()\n",
    "\n",
    "print('any:有true-->true \\n 全false-->才flase')\n",
    "print(np.any([True, True, True])) \n",
    "print(np.any([True, True, False]))\n",
    "print(np.any([False, False, False]))\n",
    "\n",
    "print('---\\n all:全true-->true \\n 有false-->就flase')\n",
    "print(np.all([True, True, True]))\n",
    "print(np.all([True, True, False]))\n",
    "print(np.all([False, False, False]))"
   ]
  },
  {
   "cell_type": "code",
   "execution_count": null,
   "metadata": {},
   "outputs": [],
   "source": []
  }
 ],
 "metadata": {
  "kernelspec": {
   "display_name": "Python 3",
   "language": "python",
   "name": "python3"
  },
  "language_info": {
   "codemirror_mode": {
    "name": "ipython",
    "version": 3
   },
   "file_extension": ".py",
   "mimetype": "text/x-python",
   "name": "python",
   "nbconvert_exporter": "python",
   "pygments_lexer": "ipython3",
   "version": "3.8.5"
  }
 },
 "nbformat": 4,
 "nbformat_minor": 4
}
