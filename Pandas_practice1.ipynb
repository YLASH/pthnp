{
 "cells": [
  {
   "cell_type": "code",
   "execution_count": 1,
   "metadata": {},
   "outputs": [
    {
     "name": "stdout",
     "output_type": "stream",
     "text": [
      "<module 'numpy' from 'C:\\\\Users\\\\USER\\\\anaconda3\\\\lib\\\\site-packages\\\\numpy\\\\__init__.py'>\n",
      "1.19.2\n",
      "<module 'pandas' from 'C:\\\\Users\\\\USER\\\\anaconda3\\\\lib\\\\site-packages\\\\pandas\\\\__init__.py'>\n",
      "1.1.3\n"
     ]
    }
   ],
   "source": [
    "#Pandas 物件的定義與屬性 _0616\n",
    "import numpy as np\n",
    "import pandas as pd\n",
    "\n",
    "print(np)\n",
    "print(np.__version__)\n",
    "print(pd)\n",
    "print(pd.__version__)"
   ]
  },
  {
   "cell_type": "code",
   "execution_count": 3,
   "metadata": {},
   "outputs": [
    {
     "name": "stdout",
     "output_type": "stream",
     "text": [
      "0    1\n",
      "1    2\n",
      "2    3\n",
      "dtype: int64\n",
      "<class 'pandas.core.series.Series'>\n"
     ]
    }
   ],
   "source": [
    "# 從 Series 和 DataFrame 開始\n",
    "\n",
    "s = pd.Series([1, 2, 3])\n",
    "print(s)\n",
    "print(type(s))"
   ]
  },
  {
   "cell_type": "code",
   "execution_count": 6,
   "metadata": {},
   "outputs": [
    {
     "name": "stdout",
     "output_type": "stream",
     "text": [
      "(3,)\n",
      "3\n",
      "int64\n"
     ]
    }
   ],
   "source": [
    "s = pd.Series([1, 2, 3])\n",
    "print(s.shape)\n",
    "print(s.size)\n",
    "print(s.dtype)\n",
    "#Series 常用的屬性"
   ]
  },
  {
   "cell_type": "code",
   "execution_count": 4,
   "metadata": {},
   "outputs": [
    {
     "name": "stdout",
     "output_type": "stream",
     "text": [
      "   0\n",
      "0  1\n",
      "1  2\n",
      "2  3\n",
      "<class 'pandas.core.frame.DataFrame'>\n"
     ]
    }
   ],
   "source": [
    "df =pd.DataFrame([1, 2, 3])\n",
    "\n",
    "print(df)\n",
    "print(type(df))"
   ]
  },
  {
   "cell_type": "code",
   "execution_count": 7,
   "metadata": {},
   "outputs": [
    {
     "name": "stdout",
     "output_type": "stream",
     "text": [
      "(3, 1)\n",
      "3\n",
      "int64\n"
     ]
    }
   ],
   "source": [
    "df =pd.DataFrame([1, 2, 3])\n",
    "\n",
    "print(df.shape)\n",
    "print(df.size)\n",
    "print(s.dtype)"
   ]
  },
  {
   "cell_type": "code",
   "execution_count": 14,
   "metadata": {},
   "outputs": [
    {
     "name": "stdout",
     "output_type": "stream",
     "text": [
      "0    1\n",
      "1    2\n",
      "2    3\n",
      "dtype: int64\n",
      "\n",
      "+index:\n",
      " Apple     1\n",
      "Banana    2\n",
      "Citrus    3\n",
      "dtype: int64\n"
     ]
    }
   ],
   "source": [
    "#Pandas Dataframe的定義與屬性 _0629\n",
    "\n",
    "#Series   __一維\n",
    "s = pd.Series([1,2,3])\n",
    "print(s)\n",
    "s1 = pd.Series([1,2,3] , index=['Apple','Banana','Citrus'])\n",
    "print(\"\\n+index:\\n\",s1)"
   ]
  },
  {
   "cell_type": "code",
   "execution_count": 16,
   "metadata": {},
   "outputs": [
    {
     "name": "stdout",
     "output_type": "stream",
     "text": [
      "   0\n",
      "0  1\n",
      "1  2\n",
      "2  3\n"
     ]
    },
    {
     "data": {
      "text/html": [
       "<div>\n",
       "<style scoped>\n",
       "    .dataframe tbody tr th:only-of-type {\n",
       "        vertical-align: middle;\n",
       "    }\n",
       "\n",
       "    .dataframe tbody tr th {\n",
       "        vertical-align: top;\n",
       "    }\n",
       "\n",
       "    .dataframe thead th {\n",
       "        text-align: right;\n",
       "    }\n",
       "</style>\n",
       "<table border=\"1\" class=\"dataframe\">\n",
       "  <thead>\n",
       "    <tr style=\"text-align: right;\">\n",
       "      <th></th>\n",
       "      <th>0</th>\n",
       "    </tr>\n",
       "  </thead>\n",
       "  <tbody>\n",
       "    <tr>\n",
       "      <th>0</th>\n",
       "      <td>1</td>\n",
       "    </tr>\n",
       "    <tr>\n",
       "      <th>1</th>\n",
       "      <td>2</td>\n",
       "    </tr>\n",
       "    <tr>\n",
       "      <th>2</th>\n",
       "      <td>3</td>\n",
       "    </tr>\n",
       "  </tbody>\n",
       "</table>\n",
       "</div>"
      ],
      "text/plain": [
       "   0\n",
       "0  1\n",
       "1  2\n",
       "2  3"
      ]
     },
     "execution_count": 16,
     "metadata": {},
     "output_type": "execute_result"
    }
   ],
   "source": [
    "#DataFrame __二維\n",
    "\n",
    "df = pd.DataFrame([1,2,3])\n",
    "print(df)\n",
    "df\n"
   ]
  },
  {
   "cell_type": "code",
   "execution_count": 17,
   "metadata": {},
   "outputs": [
    {
     "data": {
      "text/html": [
       "<div>\n",
       "<style scoped>\n",
       "    .dataframe tbody tr th:only-of-type {\n",
       "        vertical-align: middle;\n",
       "    }\n",
       "\n",
       "    .dataframe tbody tr th {\n",
       "        vertical-align: top;\n",
       "    }\n",
       "\n",
       "    .dataframe thead th {\n",
       "        text-align: right;\n",
       "    }\n",
       "</style>\n",
       "<table border=\"1\" class=\"dataframe\">\n",
       "  <thead>\n",
       "    <tr style=\"text-align: right;\">\n",
       "      <th></th>\n",
       "      <th>NO.</th>\n",
       "    </tr>\n",
       "  </thead>\n",
       "  <tbody>\n",
       "    <tr>\n",
       "      <th>A</th>\n",
       "      <td>1</td>\n",
       "    </tr>\n",
       "    <tr>\n",
       "      <th>B</th>\n",
       "      <td>2</td>\n",
       "    </tr>\n",
       "    <tr>\n",
       "      <th>C</th>\n",
       "      <td>3</td>\n",
       "    </tr>\n",
       "  </tbody>\n",
       "</table>\n",
       "</div>"
      ],
      "text/plain": [
       "   NO.\n",
       "A    1\n",
       "B    2\n",
       "C    3"
      ]
     },
     "execution_count": 17,
     "metadata": {},
     "output_type": "execute_result"
    }
   ],
   "source": [
    "df = pd.DataFrame([1,2,3] , index=['A','B','C'], columns=['NO.'])\n",
    "df"
   ]
  },
  {
   "cell_type": "code",
   "execution_count": 19,
   "metadata": {},
   "outputs": [
    {
     "name": "stdout",
     "output_type": "stream",
     "text": [
      "   0\n",
      "6  1\n",
      "5  2\n",
      "4  3\n"
     ]
    },
    {
     "data": {
      "text/html": [
       "<div>\n",
       "<style scoped>\n",
       "    .dataframe tbody tr th:only-of-type {\n",
       "        vertical-align: middle;\n",
       "    }\n",
       "\n",
       "    .dataframe tbody tr th {\n",
       "        vertical-align: top;\n",
       "    }\n",
       "\n",
       "    .dataframe thead th {\n",
       "        text-align: right;\n",
       "    }\n",
       "</style>\n",
       "<table border=\"1\" class=\"dataframe\">\n",
       "  <thead>\n",
       "    <tr style=\"text-align: right;\">\n",
       "      <th></th>\n",
       "      <th>0</th>\n",
       "      <th>1</th>\n",
       "      <th>2</th>\n",
       "    </tr>\n",
       "  </thead>\n",
       "  <tbody>\n",
       "    <tr>\n",
       "      <th>0</th>\n",
       "      <td>1</td>\n",
       "      <td>2</td>\n",
       "      <td>3</td>\n",
       "    </tr>\n",
       "    <tr>\n",
       "      <th>1</th>\n",
       "      <td>6</td>\n",
       "      <td>5</td>\n",
       "      <td>4</td>\n",
       "    </tr>\n",
       "  </tbody>\n",
       "</table>\n",
       "</div>"
      ],
      "text/plain": [
       "   0  1  2\n",
       "0  1  2  3\n",
       "1  6  5  4"
      ]
     },
     "execution_count": 19,
     "metadata": {},
     "output_type": "execute_result"
    }
   ],
   "source": [
    "df1 = pd.DataFrame([1,2,3], [6,5,4]) #, [index]\n",
    "print(df1)\n",
    "df1 = pd.DataFrame([[1,2,3], [6,5,4]])\n",
    "df1"
   ]
  },
  {
   "cell_type": "code",
   "execution_count": 21,
   "metadata": {},
   "outputs": [
    {
     "name": "stdout",
     "output_type": "stream",
     "text": [
      "   A  B  C\n",
      "a  1  2  3\n",
      "b  4  5  6\n"
     ]
    },
    {
     "data": {
      "text/html": [
       "<div>\n",
       "<style scoped>\n",
       "    .dataframe tbody tr th:only-of-type {\n",
       "        vertical-align: middle;\n",
       "    }\n",
       "\n",
       "    .dataframe tbody tr th {\n",
       "        vertical-align: top;\n",
       "    }\n",
       "\n",
       "    .dataframe thead th {\n",
       "        text-align: right;\n",
       "    }\n",
       "</style>\n",
       "<table border=\"1\" class=\"dataframe\">\n",
       "  <thead>\n",
       "    <tr style=\"text-align: right;\">\n",
       "      <th></th>\n",
       "      <th>A</th>\n",
       "      <th>B</th>\n",
       "      <th>C</th>\n",
       "    </tr>\n",
       "  </thead>\n",
       "  <tbody>\n",
       "    <tr>\n",
       "      <th>a</th>\n",
       "      <td>1</td>\n",
       "      <td>2</td>\n",
       "      <td>3</td>\n",
       "    </tr>\n",
       "    <tr>\n",
       "      <th>b</th>\n",
       "      <td>4</td>\n",
       "      <td>5</td>\n",
       "      <td>6</td>\n",
       "    </tr>\n",
       "  </tbody>\n",
       "</table>\n",
       "</div>"
      ],
      "text/plain": [
       "   A  B  C\n",
       "a  1  2  3\n",
       "b  4  5  6"
      ]
     },
     "execution_count": 21,
     "metadata": {},
     "output_type": "execute_result"
    }
   ],
   "source": [
    "df = pd.DataFrame([[1, 2, 3], [4, 5, 6]], index=['a', 'b'], columns=['A', 'B', 'C'])\n",
    "print(df)\n",
    "df"
   ]
  },
  {
   "cell_type": "code",
   "execution_count": 24,
   "metadata": {},
   "outputs": [
    {
     "name": "stdout",
     "output_type": "stream",
     "text": [
      "    Name  Age\n",
      "0  Alice   20\n",
      "1   Bill   50\n",
      "    Name  Age\n",
      "0  Alice   21\n",
      "1   Bill   51\n"
     ]
    }
   ],
   "source": [
    "#dictionary\n",
    "df = pd.DataFrame({\n",
    "    'Name':['Alice','Bill'],\n",
    "    'Age': [20,50],\n",
    "})\n",
    "print(df)\n",
    "\n",
    "df2 = pd.DataFrame([\n",
    "    {'Name':'Alice','Age': 21},\n",
    "    {'Name':'Bill','Age': 51}\n",
    "])\n",
    "print(df2)"
   ]
  },
  {
   "cell_type": "code",
   "execution_count": 39,
   "metadata": {},
   "outputs": [
    {
     "name": "stdout",
     "output_type": "stream",
     "text": [
      "    A  B  C\n",
      "I   1  2  3\n",
      "II  6  5  4\n",
      "Type: <class 'pandas.core.frame.DataFrame'> \n",
      "\n",
      "I     2\n",
      "II    5\n",
      "Name: B, dtype: int64\n",
      "Type: <class 'pandas.core.series.Series'>\n"
     ]
    }
   ],
   "source": [
    "# DataFrame 是由 Series 组成的\n",
    "df = pd.DataFrame([[1,2,3],[6,5,4]], index=['I','II'], columns=['A','B','C'])\n",
    "print(df)\n",
    "print('Type:', type(df) , '\\n')\n",
    "print(df['B'])\n",
    "print('Type:', type(df['B']))\n"
   ]
  },
  {
   "cell_type": "code",
   "execution_count": 43,
   "metadata": {
    "scrolled": true
   },
   "outputs": [
    {
     "name": "stdout",
     "output_type": "stream",
     "text": [
      "shape: (2, 3)\n",
      "size: 6\n",
      "index: Index(['I', 'II'], dtype='object')\n",
      "columns: Index(['A', 'B', 'C'], dtype='object')\n",
      "values: [[1 2 3]\n",
      " [6 5 4]]\n"
     ]
    }
   ],
   "source": [
    "#DataFrame 常用屬性\n",
    "DF = pd.DataFrame([[1,2,3],[6,5,4]], index=['I','II'], columns=['A','B','C'])\n",
    "print('shape:', DF.shape)\n",
    "print('size:', DF.size)\n",
    "print('index:', DF.index)\n",
    "print('columns:', DF.columns)\n",
    "print('values:', DF.values)\n"
   ]
  },
  {
   "cell_type": "code",
   "execution_count": 65,
   "metadata": {},
   "outputs": [
    {
     "name": "stdout",
     "output_type": "stream",
     "text": [
      "head:\n",
      "     A  B  C\n",
      "I   1  2  3\n",
      "II  6  5  4\n",
      "   A  B  C\n",
      "I  1  2  3\n",
      "tail:\n",
      "     A  B  C\n",
      "I   1  2  3\n",
      "II  6  5  4\n",
      "    A  B  C\n",
      "II  6  5  4\n",
      "\n",
      "describe:\n",
      "               A        B         C\n",
      "count  2.000000  2.00000  2.000000\n",
      "mean   3.500000  3.50000  3.500000\n",
      "std    3.535534  2.12132  0.707107\n",
      "min    1.000000  2.00000  3.000000\n",
      "25%    2.250000  2.75000  3.250000\n",
      "50%    3.500000  3.50000  3.500000\n",
      "75%    4.750000  4.25000  3.750000\n",
      "max    6.000000  5.00000  4.000000\n",
      "---\n",
      " info:\n",
      "<class 'pandas.core.frame.DataFrame'>\n",
      "Index: 2 entries, I to II\n",
      "Data columns (total 3 columns):\n",
      " #   Column  Non-Null Count  Dtype\n",
      "---  ------  --------------  -----\n",
      " 0   A       2 non-null      int64\n",
      " 1   B       2 non-null      int64\n",
      " 2   C       2 non-null      int64\n",
      "dtypes: int64(3)\n",
      "memory usage: 64.0+ bytes\n",
      "None\n"
     ]
    }
   ],
   "source": [
    "#查看資料\n",
    "print('head:\\n',DF.head())\n",
    "print(DF.head(1))   #DataFrame.head(n=5) -->the first five rows are displayed. \n",
    "                    #               n=-2(<0)--> expect bottom 2rows \n",
    "print('tail:\\n', DF.tail())\n",
    "print(DF.tail(1))   #DataFrame.tail(n=5) -->the bottom five rows are displayed.\n",
    "\n",
    "print('\\ndescribe:\\n', DF.describe())\n",
    "print('---\\n info:')\n",
    "print(DF.info())\n",
    "\n",
    "#Set specific value in pandas DataFrame ==> DataFrame.at[],DataFrame.iat[]"
   ]
  },
  {
   "cell_type": "code",
   "execution_count": 32,
   "metadata": {},
   "outputs": [
    {
     "name": "stdout",
     "output_type": "stream",
     "text": [
      "    A  B  C\n",
      "I   3  4  5\n",
      "II  8  7  6\n",
      "    A  B  C\n",
      "I  -2 -2  1\n",
      "II  3  1  2\n",
      "     A   B  C\n",
      "I    2   4  6\n",
      "II  12  10  8\n",
      "       A     B     C\n",
      "I   0.25  0.50  0.75\n",
      "II  1.50  1.25  1.00\n"
     ]
    },
    {
     "data": {
      "text/html": [
       "<div>\n",
       "<style scoped>\n",
       "    .dataframe tbody tr th:only-of-type {\n",
       "        vertical-align: middle;\n",
       "    }\n",
       "\n",
       "    .dataframe tbody tr th {\n",
       "        vertical-align: top;\n",
       "    }\n",
       "\n",
       "    .dataframe thead th {\n",
       "        text-align: right;\n",
       "    }\n",
       "</style>\n",
       "<table border=\"1\" class=\"dataframe\">\n",
       "  <thead>\n",
       "    <tr style=\"text-align: right;\">\n",
       "      <th></th>\n",
       "      <th>A</th>\n",
       "      <th>B</th>\n",
       "      <th>C</th>\n",
       "    </tr>\n",
       "  </thead>\n",
       "  <tbody>\n",
       "    <tr>\n",
       "      <th>I</th>\n",
       "      <td>1</td>\n",
       "      <td>2</td>\n",
       "      <td>0</td>\n",
       "    </tr>\n",
       "    <tr>\n",
       "      <th>II</th>\n",
       "      <td>0</td>\n",
       "      <td>2</td>\n",
       "      <td>1</td>\n",
       "    </tr>\n",
       "  </tbody>\n",
       "</table>\n",
       "</div>"
      ],
      "text/plain": [
       "    A  B  C\n",
       "I   1  2  0\n",
       "II  0  2  1"
      ]
     },
     "execution_count": 32,
     "metadata": {},
     "output_type": "execute_result"
    }
   ],
   "source": [
    "df = pd.DataFrame([[1,2,3],[6,5,4]], index=['I','II'], columns=['A','B','C'])\n",
    "df\n",
    "print (df.add(2))\n",
    "print(df.sub([3,4,2], axis=1))\n",
    "#df* 2\n",
    "print(df.mul(2))\n",
    "#df / 4\n",
    "print(df.div(4))\n",
    "print(df.mod(2))\n",
    "#...df.mod-->% ;df.pow-->** ; \n",
    "#df.min ; df.max ; df.idxmin; df.idxmax ; df.sum ; df.mean\n",
    "#df.var ; df.std ; df.quantile (百分位數)"
   ]
  },
  {
   "cell_type": "code",
   "execution_count": 20,
   "metadata": {},
   "outputs": [],
   "source": [
    "#從 DataFrame 選取資料_0708\n",
    "# 正確使用欄位名稱與索引選取資料\n",
    "# 正確使用 location 座標選取資料\n",
    "# 正確使用 遮罩操作 選取資料\n",
    "\n",
    "import pandas as pd"
   ]
  },
  {
   "cell_type": "code",
   "execution_count": 90,
   "metadata": {},
   "outputs": [
    {
     "name": "stdout",
     "output_type": "stream",
     "text": [
      "I     2\n",
      "II    6\n",
      "Name: B, dtype: int64 \n",
      "\n",
      "    B  D\n",
      "I   2  8\n",
      "II  6  4\n",
      "\n",
      " 列索引\n",
      "   A  B  C  D\n",
      "I  1  2  3  8\n",
      "    A  B  C  D\n",
      "I   1  2  3  8\n",
      "II  7  6  5  4\n"
     ]
    }
   ],
   "source": [
    "df = pd.DataFrame([[1,2,3,8],[7,6,5,4]], index=['I','II'], columns=['A','B','C','D'])\n",
    "#    A  B  C  D\n",
    "#I   1  2  3  8\n",
    "#II  7  6  5  4\n",
    "\n",
    "print(df['B'], '\\n')  # 利用欄位名稱選取單行 資料\n",
    "print(df[['B','D']])  # 利用欄位名稱選取多行 資料\n",
    "\n",
    "print('\\n', '列索引')  # 利用 列索引 位置選取 單列/多列 資料\n",
    "print(df[0:1])\n",
    "print(df[0:2])"
   ]
  },
  {
   "cell_type": "code",
   "execution_count": 81,
   "metadata": {},
   "outputs": [
    {
     "name": "stdout",
     "output_type": "stream",
     "text": [
      "loc :\n",
      "A    1\n",
      "B    2\n",
      "C    3\n",
      "D    8\n",
      "Name: I, dtype: int64\n",
      "I 裡B: 2\n",
      "---\n",
      " I     3\n",
      "II    5\n",
      "Name: C, dtype: int64\n",
      "---\n",
      "     B  C  D\n",
      "I   2  3  8\n",
      "II  6  5  4\n"
     ]
    }
   ],
   "source": [
    "df = pd.DataFrame([[1,2,3,8],[7,6,5,4]], index=['I','II'], columns=['A','B','C','D'])\n",
    "#    A  B  C  D\n",
    "#I   1  2  3  8\n",
    "#II  7  6  5  4\n",
    "\n",
    "# 用 loc, iloc, ix 取得行與列\n",
    "# ix is deprecated.  ((略\n",
    "print('loc :')\n",
    "print(df.loc['I'])     #df.loc['index','columns']\n",
    "print('I 裡B:', df.loc['I','B']) # df.loc[['I','B']]--> X\n",
    "print('---\\n', df.loc[['I','II'],'C'])\n",
    "print('---\\n', df.loc['I':'II','B':'D'])"
   ]
  },
  {
   "cell_type": "code",
   "execution_count": 88,
   "metadata": {},
   "outputs": [
    {
     "name": "stdout",
     "output_type": "stream",
     "text": [
      "iloc :\n",
      "6\n",
      "B    2\n",
      "D    8\n",
      "Name: I, dtype: int64\n",
      "I     3\n",
      "II    5\n",
      "Name: C, dtype: int64\n",
      "    C  D\n",
      "I   3  8\n",
      "II  5  4\n",
      "-----\n",
      "A    1\n",
      "B    2\n",
      "C    3\n",
      "D    8\n",
      "Name: I, dtype: int64 \n",
      " V.S.\n",
      "    A  B  C  D\n",
      "I  1  2  3  8\n"
     ]
    }
   ],
   "source": [
    "df = pd.DataFrame([[1,2,3,8],[7,6,5,4]], index=['I','II'], columns=['A','B','C','D'])\n",
    "\n",
    "print('iloc :')\n",
    "print(df.iloc[1,1])\n",
    "print(df.iloc[0, [1,3]])\n",
    "print(df.iloc[[0,1], 2])\n",
    "print(df.iloc[[0,1],[2,3]])\n",
    "print('-----')\n",
    "print(df.iloc[0], '\\n V.S.\\n' , df.iloc[[0]])"
   ]
  },
  {
   "cell_type": "code",
   "execution_count": 60,
   "metadata": {},
   "outputs": [
    {
     "name": "stdout",
     "output_type": "stream",
     "text": [
      "5\n",
      "5\n",
      "3\n"
     ]
    }
   ],
   "source": [
    "# 用 iat, at 取得資料 ((只是想選出「數值」))\n",
    "#at :Similar to loc, in that both provide label-based lookups. Use at if you only need to get or set a single value in a DataFrame or Series.\n",
    "#iat:Similar to iloc, in that both provide integer-based lookups. Use iat if you only need to get or set a single value in a DataFrame or Series.\n",
    "df = pd.DataFrame([[1,2,3,8],[7,6,5,4]], index=['I','II'], columns=['A','B','C','D'])\n",
    "\n",
    "print(df.at['II','C'])\n",
    "print(df.loc['II'].at['C']) # Get value within a Series\n",
    "print(df.iat[0,2])"
   ]
  },
  {
   "cell_type": "code",
   "execution_count": 76,
   "metadata": {},
   "outputs": [
    {
     "name": "stdout",
     "output_type": "stream",
     "text": [
      "    A  B  C\n",
      "I   1  5  3\n",
      "II  6  2  4\n",
      "        A      B      C\n",
      "I   False   True  False\n",
      "II   True  False   True\n",
      "      A    B  C\n",
      "I   NaN  5.0  3\n",
      "II  6.0  NaN  4\n",
      "-------\n",
      "I      True\n",
      "II    False\n",
      "Name: B, dtype: bool\n",
      "   A  B  C\n",
      "I  1  5  3\n"
     ]
    }
   ],
   "source": [
    "# 根據條件篩選資料（遮罩）\n",
    "df = pd.DataFrame([[1,5,3],[6,2,4]], index=['I','II'], columns=['A','B','C'])\n",
    "print(df)\n",
    "print(df>3)\n",
    "print(df[df>2])\n",
    "\n",
    "print('-------')\n",
    "print(df['B']>3)\n",
    "print(df[df['B']>3]) "
   ]
  },
  {
   "cell_type": "code",
   "execution_count": null,
   "metadata": {},
   "outputs": [],
   "source": []
  }
 ],
 "metadata": {
  "kernelspec": {
   "display_name": "Python 3",
   "language": "python",
   "name": "python3"
  },
  "language_info": {
   "codemirror_mode": {
    "name": "ipython",
    "version": 3
   },
   "file_extension": ".py",
   "mimetype": "text/x-python",
   "name": "python",
   "nbconvert_exporter": "python",
   "pygments_lexer": "ipython3",
   "version": "3.8.5"
  }
 },
 "nbformat": 4,
 "nbformat_minor": 4
}
