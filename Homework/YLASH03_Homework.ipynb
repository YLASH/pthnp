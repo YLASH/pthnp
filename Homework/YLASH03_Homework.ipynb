{
 "cells": [
  {
   "cell_type": "markdown",
   "metadata": {
    "colab_type": "text",
    "id": "P6xk2_jLsvFF"
   },
   "source": [
    "# [作業目標]\n",
    "\n",
    "1. [簡答題] 請比較 np.zeros 和 np.empty 產生出來的陣列有何差異？為什麼要設計兩種方法？\n",
    "\n",
    "```\n",
    "print(np.zeros((2, 3)))\n",
    "print(np.empty((2, 3)))\n",
    "```\n",
    "\n",
    "2. 在不用「整數亂數方法」的限制下，如何將包含小數的轉換整數？請將給定的 a 陣列當中的元素變成去掉小數變成整數。\n",
    "3. 承上題，怎樣可以限制整數的範圍介於 m - n 之間？請將給定的 a 陣列當中的元素的範圍調整成 m - n 之間。"
   ]
  },
  {
   "cell_type": "markdown",
   "metadata": {
    "colab_type": "text",
    "id": "uXGll28asvFS"
   },
   "source": [
    "# 作業 "
   ]
  },
  {
   "cell_type": "markdown",
   "metadata": {},
   "source": [
    "### 1. [簡答題] 請比較 np.zeros 和 np.empty 產生出來的陣列有何差異？為什麼要設計兩種方法？\n",
    "\n",
    "```\n",
    "print(np.zeros((2, 3)))\n",
    "print(np.empty((2, 3)))\n",
    "```\n"
   ]
  },
  {
   "cell_type": "code",
   "execution_count": 3,
   "metadata": {
    "colab": {},
    "colab_type": "code",
    "id": "5QrYoyNWsvFS"
   },
   "outputs": [
    {
     "name": "stdout",
     "output_type": "stream",
     "text": [
      "[[0. 0.]\n",
      " [0. 0.]\n",
      " [0. 0.]]\n",
      "[[0. 0.]\n",
      " [0. 0.]\n",
      " [0. 0.]]\n"
     ]
    },
    {
     "data": {
      "text/plain": [
       "'\\n設計原因:\\n當有時只想初始化陣列、不在意內容，使用empty能更快速產生所需要的陣列\\n'"
      ]
     },
     "execution_count": 3,
     "metadata": {},
     "output_type": "execute_result"
    }
   ],
   "source": [
    "import numpy as np\n",
    "print(np.zeros((3,2)))\n",
    "#np.zeros: 產生的每個元素為真實的 0\n",
    "print(np.empty((3,2)))\n",
    "#np.empty : 產生的每個元素不為真實的 0, 僅是很接近0的很小的數\n",
    "#且不需給定起始值，可以建立給定形狀的陣列，元素值則會隨機給定。\n",
    "'''\n",
    "設計原因:\n",
    "當有時只想初始化陣列、不在意內容，使用empty能更快速產生所需要的陣列\n",
    "'''"
   ]
  },
  {
   "cell_type": "markdown",
   "metadata": {},
   "source": [
    "### 2. 在不用「整數亂數方法」的限制下，如何將包含小數的轉換整數？請將給定的 a 陣列當中的元素變成去掉小數變成整數。\n"
   ]
  },
  {
   "cell_type": "code",
   "execution_count": 4,
   "metadata": {},
   "outputs": [],
   "source": [
    "# 記得先 Import 正確的套件\n",
    "import numpy as np"
   ]
  },
  {
   "cell_type": "code",
   "execution_count": 9,
   "metadata": {
    "colab": {},
    "colab_type": "code",
    "id": "e1gVI0tvsvFY"
   },
   "outputs": [
    {
     "name": "stdout",
     "output_type": "stream",
     "text": [
      "[[56.45405731 82.40946429 38.53278482]\n",
      " [47.62291132 17.55823418 12.86325178]]\n",
      "[[56. 82. 38.]\n",
      " [47. 17. 12.]]\n",
      "[[56. 82. 39.]\n",
      " [48. 18. 13.]]\n"
     ]
    }
   ],
   "source": [
    "# 參考解答\n",
    "\n",
    "a = np.random.rand(2, 3)\n",
    "a=a*100\n",
    "print(a)\n",
    "a_f = np.floor(a) #取不大於該數的最大整數 ,去小數\n",
    "print(a_f)\n",
    "a_r = np.round(a) #四捨五入\n",
    "print(a_r)\n"
   ]
  },
  {
   "cell_type": "markdown",
   "metadata": {},
   "source": [
    "### 3. 承上題，怎樣可以限制整數的範圍介於 m - n 之間？請將給定的 a 陣列當中的元素的範圍調整成 m - n 之間。\n"
   ]
  },
  {
   "cell_type": "code",
   "execution_count": 12,
   "metadata": {},
   "outputs": [
    {
     "name": "stdout",
     "output_type": "stream",
     "text": [
      "[[38 36 31]\n",
      " [25 37 21]]\n"
     ]
    }
   ],
   "source": [
    "m = 20\n",
    "n = 40\n",
    "\n",
    "a = np.random.randint(m,n,size=(2,3))\n",
    "print(a)"
   ]
  },
  {
   "cell_type": "code",
   "execution_count": 28,
   "metadata": {},
   "outputs": [
    {
     "name": "stdout",
     "output_type": "stream",
     "text": [
      "a: \n",
      " [[ 0.81991772  3.72202606 15.81887027]\n",
      " [13.04157115 16.62377713 13.40534937]]\n",
      "b: \n",
      " [[ 0.  3. 15.]\n",
      " [13. 16. 13.]]\n",
      "result: \n",
      " [[20. 23. 35.]\n",
      " [33. 36. 33.]]\n",
      "c: \n",
      " [[ 1.  4. 16.]\n",
      " [13. 17. 13.]]\n",
      "result: \n",
      " [[21. 24. 36.]\n",
      " [33. 37. 33.]]\n"
     ]
    }
   ],
   "source": [
    "m = 20\n",
    "n = 40\n",
    "a = np.random.rand(2, 3)*(n-m) # (0~1)*差=>0~20\n",
    "print('a: \\n', a)\n",
    "b = np.floor(a) #取小數(<=20)\n",
    "print('b: \\n', b)\n",
    "print('result: \\n', b+m) #從m開始,+<0~20(差)(不會大於n\n",
    "\n",
    "c = np.round(a) #四捨五入\n",
    "print('c: \\n', c)\n",
    "print('result: \\n', c+m)"
   ]
  },
  {
   "cell_type": "code",
   "execution_count": 30,
   "metadata": {},
   "outputs": [
    {
     "name": "stdout",
     "output_type": "stream",
     "text": [
      "a: \n",
      " [[ 9.58039761  1.37172884 10.98058901]\n",
      " [19.79290307  7.89344719 11.35595138]]\n",
      "b:\n",
      " [[ 9.  1. 10.]\n",
      " [19.  7. 11.]]\n",
      "result: \n",
      " [[29. 21. 30.]\n",
      " [39. 27. 31.]]\n"
     ]
    }
   ],
   "source": [
    "m=20\n",
    "n=40\n",
    "a= np.random.rand(2,3)*(n-m)\n",
    "print('a: \\n', a)\n",
    "b= a- a%1 #a - 整數(1)的餘數 = 整數\n",
    "print('b:\\n', b)\n",
    "print('result: \\n', b+m)"
   ]
  },
  {
   "cell_type": "code",
   "execution_count": null,
   "metadata": {},
   "outputs": [],
   "source": []
  }
 ],
 "metadata": {
  "colab": {
   "name": "Day_023_HW.ipynb",
   "provenance": []
  },
  "kernelspec": {
   "display_name": "Python 3",
   "language": "python",
   "name": "python3"
  },
  "language_info": {
   "codemirror_mode": {
    "name": "ipython",
    "version": 3
   },
   "file_extension": ".py",
   "mimetype": "text/x-python",
   "name": "python",
   "nbconvert_exporter": "python",
   "pygments_lexer": "ipython3",
   "version": "3.8.5"
  }
 },
 "nbformat": 4,
 "nbformat_minor": 1
}
