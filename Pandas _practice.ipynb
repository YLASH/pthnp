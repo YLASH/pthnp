{
 "cells": [
  {
   "cell_type": "code",
   "execution_count": 8,
   "metadata": {},
   "outputs": [
    {
     "name": "stdout",
     "output_type": "stream",
     "text": [
      "<module 'numpy' from 'C:\\\\Users\\\\USER\\\\anaconda3\\\\lib\\\\site-packages\\\\numpy\\\\__init__.py'>\n",
      "1.19.2\n",
      "<module 'pandas' from 'C:\\\\Users\\\\USER\\\\anaconda3\\\\lib\\\\site-packages\\\\pandas\\\\__init__.py'>\n",
      "1.1.3\n"
     ]
    }
   ],
   "source": [
    "#Pandas 物件的定義與屬性 _0616\n",
    "import numpy as np\n",
    "import pandas as pd\n",
    "\n",
    "print(np)\n",
    "print(np.__version__)\n",
    "print(pd)\n",
    "print(pd.__version__)"
   ]
  },
  {
   "cell_type": "code",
   "execution_count": 3,
   "metadata": {},
   "outputs": [
    {
     "name": "stdout",
     "output_type": "stream",
     "text": [
      "0    1\n",
      "1    2\n",
      "2    3\n",
      "dtype: int64\n",
      "<class 'pandas.core.series.Series'>\n"
     ]
    }
   ],
   "source": [
    "# 從 Series 和 DataFrame 開始\n",
    "\n",
    "s = pd.Series([1, 2, 3])\n",
    "print(s)\n",
    "print(type(s))"
   ]
  },
  {
   "cell_type": "code",
   "execution_count": 6,
   "metadata": {},
   "outputs": [
    {
     "name": "stdout",
     "output_type": "stream",
     "text": [
      "(3,)\n",
      "3\n",
      "int64\n"
     ]
    }
   ],
   "source": [
    "s = pd.Series([1, 2, 3])\n",
    "print(s.shape)\n",
    "print(s.size)\n",
    "print(s.dtype)\n",
    "#Series 常用的屬性"
   ]
  },
  {
   "cell_type": "code",
   "execution_count": 4,
   "metadata": {},
   "outputs": [
    {
     "name": "stdout",
     "output_type": "stream",
     "text": [
      "   0\n",
      "0  1\n",
      "1  2\n",
      "2  3\n",
      "<class 'pandas.core.frame.DataFrame'>\n"
     ]
    }
   ],
   "source": [
    "df =pd.DataFrame([1, 2, 3])\n",
    "\n",
    "print(df)\n",
    "print(type(df))"
   ]
  },
  {
   "cell_type": "code",
   "execution_count": 7,
   "metadata": {},
   "outputs": [
    {
     "name": "stdout",
     "output_type": "stream",
     "text": [
      "(3, 1)\n",
      "3\n",
      "int64\n"
     ]
    }
   ],
   "source": [
    "df =pd.DataFrame([1, 2, 3])\n",
    "\n",
    "print(df.shape)\n",
    "print(df.size)\n",
    "print(s.dtype)"
   ]
  },
  {
   "cell_type": "code",
   "execution_count": 14,
   "metadata": {},
   "outputs": [
    {
     "name": "stdout",
     "output_type": "stream",
     "text": [
      "0    1\n",
      "1    2\n",
      "2    3\n",
      "dtype: int64\n",
      "\n",
      "+index:\n",
      " Apple     1\n",
      "Banana    2\n",
      "Citrus    3\n",
      "dtype: int64\n"
     ]
    }
   ],
   "source": [
    "#Pandas Dataframe的定義與屬性 _0629\n",
    "\n",
    "#Series   __一維\n",
    "s = pd.Series([1,2,3])\n",
    "print(s)\n",
    "s1 = pd.Series([1,2,3] , index=['Apple','Banana','Citrus'])\n",
    "print(\"\\n+index:\\n\",s1)"
   ]
  },
  {
   "cell_type": "code",
   "execution_count": 16,
   "metadata": {},
   "outputs": [
    {
     "name": "stdout",
     "output_type": "stream",
     "text": [
      "   0\n",
      "0  1\n",
      "1  2\n",
      "2  3\n"
     ]
    },
    {
     "data": {
      "text/html": [
       "<div>\n",
       "<style scoped>\n",
       "    .dataframe tbody tr th:only-of-type {\n",
       "        vertical-align: middle;\n",
       "    }\n",
       "\n",
       "    .dataframe tbody tr th {\n",
       "        vertical-align: top;\n",
       "    }\n",
       "\n",
       "    .dataframe thead th {\n",
       "        text-align: right;\n",
       "    }\n",
       "</style>\n",
       "<table border=\"1\" class=\"dataframe\">\n",
       "  <thead>\n",
       "    <tr style=\"text-align: right;\">\n",
       "      <th></th>\n",
       "      <th>0</th>\n",
       "    </tr>\n",
       "  </thead>\n",
       "  <tbody>\n",
       "    <tr>\n",
       "      <th>0</th>\n",
       "      <td>1</td>\n",
       "    </tr>\n",
       "    <tr>\n",
       "      <th>1</th>\n",
       "      <td>2</td>\n",
       "    </tr>\n",
       "    <tr>\n",
       "      <th>2</th>\n",
       "      <td>3</td>\n",
       "    </tr>\n",
       "  </tbody>\n",
       "</table>\n",
       "</div>"
      ],
      "text/plain": [
       "   0\n",
       "0  1\n",
       "1  2\n",
       "2  3"
      ]
     },
     "execution_count": 16,
     "metadata": {},
     "output_type": "execute_result"
    }
   ],
   "source": [
    "#DataFrame __二維\n",
    "\n",
    "df = pd.DataFrame([1,2,3])\n",
    "print(df)\n",
    "df\n"
   ]
  },
  {
   "cell_type": "code",
   "execution_count": 17,
   "metadata": {},
   "outputs": [
    {
     "data": {
      "text/html": [
       "<div>\n",
       "<style scoped>\n",
       "    .dataframe tbody tr th:only-of-type {\n",
       "        vertical-align: middle;\n",
       "    }\n",
       "\n",
       "    .dataframe tbody tr th {\n",
       "        vertical-align: top;\n",
       "    }\n",
       "\n",
       "    .dataframe thead th {\n",
       "        text-align: right;\n",
       "    }\n",
       "</style>\n",
       "<table border=\"1\" class=\"dataframe\">\n",
       "  <thead>\n",
       "    <tr style=\"text-align: right;\">\n",
       "      <th></th>\n",
       "      <th>NO.</th>\n",
       "    </tr>\n",
       "  </thead>\n",
       "  <tbody>\n",
       "    <tr>\n",
       "      <th>A</th>\n",
       "      <td>1</td>\n",
       "    </tr>\n",
       "    <tr>\n",
       "      <th>B</th>\n",
       "      <td>2</td>\n",
       "    </tr>\n",
       "    <tr>\n",
       "      <th>C</th>\n",
       "      <td>3</td>\n",
       "    </tr>\n",
       "  </tbody>\n",
       "</table>\n",
       "</div>"
      ],
      "text/plain": [
       "   NO.\n",
       "A    1\n",
       "B    2\n",
       "C    3"
      ]
     },
     "execution_count": 17,
     "metadata": {},
     "output_type": "execute_result"
    }
   ],
   "source": [
    "df = pd.DataFrame([1,2,3] , index=['A','B','C'], columns=['NO.'])\n",
    "df"
   ]
  },
  {
   "cell_type": "code",
   "execution_count": 19,
   "metadata": {},
   "outputs": [
    {
     "name": "stdout",
     "output_type": "stream",
     "text": [
      "   0\n",
      "6  1\n",
      "5  2\n",
      "4  3\n"
     ]
    },
    {
     "data": {
      "text/html": [
       "<div>\n",
       "<style scoped>\n",
       "    .dataframe tbody tr th:only-of-type {\n",
       "        vertical-align: middle;\n",
       "    }\n",
       "\n",
       "    .dataframe tbody tr th {\n",
       "        vertical-align: top;\n",
       "    }\n",
       "\n",
       "    .dataframe thead th {\n",
       "        text-align: right;\n",
       "    }\n",
       "</style>\n",
       "<table border=\"1\" class=\"dataframe\">\n",
       "  <thead>\n",
       "    <tr style=\"text-align: right;\">\n",
       "      <th></th>\n",
       "      <th>0</th>\n",
       "      <th>1</th>\n",
       "      <th>2</th>\n",
       "    </tr>\n",
       "  </thead>\n",
       "  <tbody>\n",
       "    <tr>\n",
       "      <th>0</th>\n",
       "      <td>1</td>\n",
       "      <td>2</td>\n",
       "      <td>3</td>\n",
       "    </tr>\n",
       "    <tr>\n",
       "      <th>1</th>\n",
       "      <td>6</td>\n",
       "      <td>5</td>\n",
       "      <td>4</td>\n",
       "    </tr>\n",
       "  </tbody>\n",
       "</table>\n",
       "</div>"
      ],
      "text/plain": [
       "   0  1  2\n",
       "0  1  2  3\n",
       "1  6  5  4"
      ]
     },
     "execution_count": 19,
     "metadata": {},
     "output_type": "execute_result"
    }
   ],
   "source": [
    "df1 = pd.DataFrame([1,2,3], [6,5,4]) #, [index]\n",
    "print(df1)\n",
    "df1 = pd.DataFrame([[1,2,3], [6,5,4]])\n",
    "df1"
   ]
  },
  {
   "cell_type": "code",
   "execution_count": 21,
   "metadata": {},
   "outputs": [
    {
     "name": "stdout",
     "output_type": "stream",
     "text": [
      "   A  B  C\n",
      "a  1  2  3\n",
      "b  4  5  6\n"
     ]
    },
    {
     "data": {
      "text/html": [
       "<div>\n",
       "<style scoped>\n",
       "    .dataframe tbody tr th:only-of-type {\n",
       "        vertical-align: middle;\n",
       "    }\n",
       "\n",
       "    .dataframe tbody tr th {\n",
       "        vertical-align: top;\n",
       "    }\n",
       "\n",
       "    .dataframe thead th {\n",
       "        text-align: right;\n",
       "    }\n",
       "</style>\n",
       "<table border=\"1\" class=\"dataframe\">\n",
       "  <thead>\n",
       "    <tr style=\"text-align: right;\">\n",
       "      <th></th>\n",
       "      <th>A</th>\n",
       "      <th>B</th>\n",
       "      <th>C</th>\n",
       "    </tr>\n",
       "  </thead>\n",
       "  <tbody>\n",
       "    <tr>\n",
       "      <th>a</th>\n",
       "      <td>1</td>\n",
       "      <td>2</td>\n",
       "      <td>3</td>\n",
       "    </tr>\n",
       "    <tr>\n",
       "      <th>b</th>\n",
       "      <td>4</td>\n",
       "      <td>5</td>\n",
       "      <td>6</td>\n",
       "    </tr>\n",
       "  </tbody>\n",
       "</table>\n",
       "</div>"
      ],
      "text/plain": [
       "   A  B  C\n",
       "a  1  2  3\n",
       "b  4  5  6"
      ]
     },
     "execution_count": 21,
     "metadata": {},
     "output_type": "execute_result"
    }
   ],
   "source": [
    "df = pd.DataFrame([[1, 2, 3], [4, 5, 6]], index=['a', 'b'], columns=['A', 'B', 'C'])\n",
    "print(df)\n",
    "df"
   ]
  },
  {
   "cell_type": "code",
   "execution_count": 24,
   "metadata": {},
   "outputs": [
    {
     "name": "stdout",
     "output_type": "stream",
     "text": [
      "    Name  Age\n",
      "0  Alice   20\n",
      "1   Bill   50\n",
      "    Name  Age\n",
      "0  Alice   21\n",
      "1   Bill   51\n"
     ]
    }
   ],
   "source": [
    "#dictionary\n",
    "df = pd.DataFrame({\n",
    "    'Name':['Alice','Bill'],\n",
    "    'Age': [20,50],\n",
    "})\n",
    "print(df)\n",
    "\n",
    "df2 = pd.DataFrame([\n",
    "    {'Name':'Alice','Age': 21},\n",
    "    {'Name':'Bill','Age': 51}\n",
    "])\n",
    "print(df2)"
   ]
  },
  {
   "cell_type": "code",
   "execution_count": 39,
   "metadata": {},
   "outputs": [
    {
     "name": "stdout",
     "output_type": "stream",
     "text": [
      "    A  B  C\n",
      "I   1  2  3\n",
      "II  6  5  4\n",
      "Type: <class 'pandas.core.frame.DataFrame'> \n",
      "\n",
      "I     2\n",
      "II    5\n",
      "Name: B, dtype: int64\n",
      "Type: <class 'pandas.core.series.Series'>\n"
     ]
    }
   ],
   "source": [
    "# DataFrame 是由 Series 组成的\n",
    "df = pd.DataFrame([[1,2,3],[6,5,4]], index=['I','II'], columns=['A','B','C'])\n",
    "print(df)\n",
    "print('Type:', type(df) , '\\n')\n",
    "print(df['B'])\n",
    "print('Type:', type(df['B']))\n"
   ]
  },
  {
   "cell_type": "code",
   "execution_count": 43,
   "metadata": {
    "scrolled": true
   },
   "outputs": [
    {
     "name": "stdout",
     "output_type": "stream",
     "text": [
      "shape: (2, 3)\n",
      "size: 6\n",
      "index: Index(['I', 'II'], dtype='object')\n",
      "columns: Index(['A', 'B', 'C'], dtype='object')\n",
      "values: [[1 2 3]\n",
      " [6 5 4]]\n"
     ]
    }
   ],
   "source": [
    "#DataFrame 常用屬性\n",
    "DF = pd.DataFrame([[1,2,3],[6,5,4]], index=['I','II'], columns=['A','B','C'])\n",
    "print('shape:', DF.shape)\n",
    "print('size:', DF.size)\n",
    "print('index:', DF.index)\n",
    "print('columns:', DF.columns)\n",
    "print('values:', DF.values)\n"
   ]
  },
  {
   "cell_type": "code",
   "execution_count": 65,
   "metadata": {},
   "outputs": [
    {
     "name": "stdout",
     "output_type": "stream",
     "text": [
      "head:\n",
      "     A  B  C\n",
      "I   1  2  3\n",
      "II  6  5  4\n",
      "   A  B  C\n",
      "I  1  2  3\n",
      "tail:\n",
      "     A  B  C\n",
      "I   1  2  3\n",
      "II  6  5  4\n",
      "    A  B  C\n",
      "II  6  5  4\n",
      "\n",
      "describe:\n",
      "               A        B         C\n",
      "count  2.000000  2.00000  2.000000\n",
      "mean   3.500000  3.50000  3.500000\n",
      "std    3.535534  2.12132  0.707107\n",
      "min    1.000000  2.00000  3.000000\n",
      "25%    2.250000  2.75000  3.250000\n",
      "50%    3.500000  3.50000  3.500000\n",
      "75%    4.750000  4.25000  3.750000\n",
      "max    6.000000  5.00000  4.000000\n",
      "---\n",
      " info:\n",
      "<class 'pandas.core.frame.DataFrame'>\n",
      "Index: 2 entries, I to II\n",
      "Data columns (total 3 columns):\n",
      " #   Column  Non-Null Count  Dtype\n",
      "---  ------  --------------  -----\n",
      " 0   A       2 non-null      int64\n",
      " 1   B       2 non-null      int64\n",
      " 2   C       2 non-null      int64\n",
      "dtypes: int64(3)\n",
      "memory usage: 64.0+ bytes\n",
      "None\n"
     ]
    }
   ],
   "source": [
    "#查看資料\n",
    "print('head:\\n',DF.head())\n",
    "print(DF.head(1))   #DataFrame.head(n=5) -->the first five rows are displayed. \n",
    "                    #               n=-2(<0)--> expect bottom 2rows \n",
    "print('tail:\\n', DF.tail())\n",
    "print(DF.tail(1))   #DataFrame.tail(n=5) -->the bottom five rows are displayed.\n",
    "\n",
    "print('\\ndescribe:\\n', DF.describe())\n",
    "print('---\\n info:')\n",
    "print(DF.info())\n",
    "\n",
    "#Set specific value in pandas DataFrame ==> DataFrame.at[],DataFrame.iat[]"
   ]
  }
 ],
 "metadata": {
  "kernelspec": {
   "display_name": "Python 3",
   "language": "python",
   "name": "python3"
  },
  "language_info": {
   "codemirror_mode": {
    "name": "ipython",
    "version": 3
   },
   "file_extension": ".py",
   "mimetype": "text/x-python",
   "name": "python",
   "nbconvert_exporter": "python",
   "pygments_lexer": "ipython3",
   "version": "3.8.5"
  }
 },
 "nbformat": 4,
 "nbformat_minor": 4
}
