{
 "cells": [
  {
   "cell_type": "markdown",
   "metadata": {
    "colab_type": "text",
    "id": "P6xk2_jLsvFF"
   },
   "source": [
    "# [作業目標]\n",
    "\n",
    "1. [簡答題] 請問下列程式碼，運算結果分別為何？\n",
    "\n",
    "```\n",
    "a = np.array( [20,30,40,50] )\n",
    "b = np.array( [1,2,3,4] ) \n",
    "c = 1\n",
    "d = np.array( [1] )\n",
    "e = np.array( [1,2] ) \n",
    "```\n",
    "\n",
    "2. 如何在不用迴圈的情況下計算 (A+B)*(-A/2) ？那用迴圈怎麼做？\n",
    "\n",
    "3. 請問如何計算「1x6 的單位矩陣」和「6x1 的單位矩陣」的內積和外積？"
   ]
  },
  {
   "cell_type": "markdown",
   "metadata": {
    "colab_type": "text",
    "id": "uXGll28asvFS"
   },
   "source": [
    "# 作業 "
   ]
  },
  {
   "cell_type": "markdown",
   "metadata": {},
   "source": [
    "### 1. [簡答題] 請問下列程式碼，運算結果分別為何？\n",
    "\n",
    "```\n",
    "a = np.array( [20,30,40,50] )\n",
    "b = np.array( [1,2,3,4] ) \n",
    "c = 1\n",
    "d = np.array( [1] )\n",
    "e = np.array( [1,2] ) \n",
    "```\n"
   ]
  },
  {
   "cell_type": "code",
   "execution_count": 4,
   "metadata": {
    "colab": {},
    "colab_type": "code",
    "id": "5QrYoyNWsvFS"
   },
   "outputs": [
    {
     "output_type": "stream",
     "name": "stdout",
     "text": [
      "ANS1. \n[ 40  60  80 100]\n[21 32 43 54] [19 28 37 46] [ 20  60 120 200] [20.         15.         13.33333333 12.5       ]\n[21 31 41 51] [19 29 39 49] [20 30 40 50] [20. 30. 40. 50.]\n[21 31 41 51] [19 29 39 49] [20 30 40 50] [20. 30. 40. 50.]\na+ e that don't work ,different shape(4.)and(2.)\n"
     ]
    }
   ],
   "source": [
    "import numpy as np\n",
    "a= np.array([20, 30, 40,50 ])\n",
    "b= np.array([1, 2, 3, 4])\n",
    "c=1\n",
    "d=np.array([1])\n",
    "e=np.array([1,2])\n",
    "\n",
    "print(\"ANS1. \")\n",
    "print(a+ a) \n",
    "print((a+ b),(a-b) ,(a* b), (a/ b) )\n",
    "print((a+ c), (a-c), (a* c), (a/ c))\n",
    "print((a+ d), (a- d), (a* d), (a/ d))\n",
    "print(\"a+ e that don't work ,different shape\" '(4.)'\"and\" '(2.)') "
   ]
  },
  {
   "cell_type": "markdown",
   "metadata": {},
   "source": [
    "### 2. 如何在不用迴圈的情況下計算 (A+B)*(-A/2) ？那用迴圈怎麼做？\n"
   ]
  },
  {
   "cell_type": "code",
   "execution_count": 2,
   "metadata": {},
   "outputs": [],
   "source": [
    "# 記得先 Import 正確的套件\n",
    "\n",
    "import numpy as np\n"
   ]
  },
  {
   "cell_type": "code",
   "execution_count": 3,
   "metadata": {},
   "outputs": [
    {
     "output_type": "stream",
     "name": "stdout",
     "text": [
      "ANS2. \n[-1.5 -1.5 -1.5]\n[-1.5, -1.5, -1.5]\n"
     ]
    }
   ],
   "source": [
    "A = np.ones(3)*1\n",
    "B = np.ones(3)*2\n",
    "\n",
    "print(\"ANS2. \")\n",
    "print((A+B)*(-A/2))\n",
    "\n",
    "#with loop\n",
    "C = []\n",
    "for i in A:\n",
    "    C.append((i+2)*(-i/ 2))\n",
    "print(C)    "
   ]
  },
  {
   "cell_type": "markdown",
   "metadata": {},
   "source": [
    "### 3. 請問如何計算「1x6 的單位矩陣」和「6x1 的單位矩陣」的內積和外積？\n"
   ]
  },
  {
   "cell_type": "code",
   "execution_count": 5,
   "metadata": {
    "colab": {},
    "colab_type": "code",
    "id": "e1gVI0tvsvFY"
   },
   "outputs": [
    {
     "output_type": "stream",
     "name": "stdout",
     "text": [
      "3. \n[[1. 1. 1. 1. 1. 1.]\n [1. 1. 1. 1. 1. 1.]\n [1. 1. 1. 1. 1. 1.]\n [1. 1. 1. 1. 1. 1.]\n [1. 1. 1. 1. 1. 1.]\n [1. 1. 1. 1. 1. 1.]]\nWay1: \n[[6.]]\nWay2: \n[[6.]]\n"
     ]
    }
   ],
   "source": [
    "import numpy as np\n",
    "\n",
    "A=np.ones((1,6))\n",
    "B=np.ones((6,1))\n",
    "\n",
    "print(\"3. \")\n",
    "print(A*B)\n",
    "print(\"Way1: \") \n",
    "print(A@B)\n",
    "C=np.dot(A,B)\n",
    "print(\"Way2: \") \n",
    "print(C)\n",
    "#haven't figure out the different "
   ]
  },
  {
   "cell_type": "code",
   "execution_count": null,
   "metadata": {},
   "outputs": [],
   "source": []
  },
  {
   "source": [],
   "cell_type": "markdown",
   "metadata": {}
  }
 ],
 "metadata": {
  "colab": {
   "name": "Day_023_HW.ipynb",
   "provenance": []
  },
  "kernelspec": {
   "display_name": "Python 3",
   "language": "python",
   "name": "python3"
  },
  "language_info": {
   "codemirror_mode": {
    "name": "ipython",
    "version": 3
   },
   "file_extension": ".py",
   "mimetype": "text/x-python",
   "name": "python",
   "nbconvert_exporter": "python",
   "pygments_lexer": "ipython3",
   "version": "3.8.5-final"
  }
 },
 "nbformat": 4,
 "nbformat_minor": 1
}