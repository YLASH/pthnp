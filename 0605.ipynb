{
 "cells": [
  {
   "cell_type": "code",
   "execution_count": 85,
   "metadata": {},
   "outputs": [
    {
     "name": "stdout",
     "output_type": "stream",
     "text": [
      "15\n"
     ]
    }
   ],
   "source": [
    "'''numpy function'''\n",
    "'''https://www.youtube.com/watch?v=Tc1FaQQ30L4'''\n",
    "a = [0, 1, 2, 3, 4, 5]\n",
    "print(sum(a))"
   ]
  },
  {
   "cell_type": "code",
   "execution_count": 96,
   "metadata": {},
   "outputs": [
    {
     "name": "stdout",
     "output_type": "stream",
     "text": [
      "15\n",
      "15\n",
      "15\n"
     ]
    }
   ],
   "source": [
    "import numpy as np\n",
    "\n",
    "a = np.arange(6)\n",
    "print(sum(a))\n",
    "print(np.sum(a))\n",
    "print(a.sum())\n",
    "#總和:3種方式"
   ]
  },
  {
   "cell_type": "code",
   "execution_count": 94,
   "metadata": {},
   "outputs": [
    {
     "name": "stdout",
     "output_type": "stream",
     "text": [
      "[[ 0  1  2  3  4]\n",
      " [ 5  6  7  8  9]\n",
      " [10 11 12 13 14]] \n",
      "\n",
      "0\n",
      "14\n",
      "\n",
      " 105\n",
      "[15 18 21 24 27]\n",
      "[10 35 60]\n"
     ]
    }
   ],
   "source": [
    "b = np.arange(15).reshape(3,5)\n",
    "print(b, '\\n')\n",
    "print(b.min()) #最小值\n",
    "print(b.max()) #最大值\n",
    "print('\\n', b.sum())\n",
    "print(b.sum(axis=0)) #ˇ\n",
    "print(b.sum(axis=1)) #-->\n",
    "\n",
    "#算數sin(),cos(),exp(),sqrt(),log()"
   ]
  },
  {
   "cell_type": "code",
   "execution_count": 52,
   "metadata": {},
   "outputs": [
    {
     "name": "stdout",
     "output_type": "stream",
     "text": [
      "5.888888888888889\n",
      "5.888888888888889\n",
      "5.888888888888889\n",
      "6.0\n",
      "2.4241582476968255\n",
      "5.876543209876543\n"
     ]
    }
   ],
   "source": [
    "#統計\n",
    "c = np.array([\n",
    "    [2,4,9], \n",
    "    [3,7,9],\n",
    "    [6,5,8]\n",
    "   ])\n",
    "print(np.average(c))\n",
    "print(c.mean())\n",
    "print(np.mean(c))\n",
    "print(np.median(c))\n",
    "print(c.std()) #np.std(c)\n",
    "print(c.var()) #np.var(c)"
   ]
  },
  {
   "cell_type": "code",
   "execution_count": 28,
   "metadata": {},
   "outputs": [
    {
     "name": "stdout",
     "output_type": "stream",
     "text": [
      "[[2 4 9]\n",
      " [3 7 8]\n",
      " [6 5 1]]\n",
      "None\n",
      "[[2 4 9]\n",
      " [3 7 8]\n",
      " [1 5 6]]\n"
     ]
    }
   ],
   "source": [
    "# 搜尋與排序方法\n",
    "c = np.array([\n",
    "    [2,4,9], \n",
    "    [3,7,8],\n",
    "    [6,5,1]\n",
    "   ])\n",
    "\n",
    "print(c)\n",
    "print(c.sort())\n",
    "print(np.sort(c))\n",
    "\n",
    "#searchsorted ?"
   ]
  },
  {
   "cell_type": "code",
   "execution_count": 68,
   "metadata": {},
   "outputs": [
    {
     "name": "stdout",
     "output_type": "stream",
     "text": [
      "[[2 4 9 3 0 7]\n",
      " [8 3 6 5 1 3]] \n",
      "\n",
      "[[2 4 9]\n",
      " [3 0 7]\n",
      " [8 3 6]\n",
      " [5 1 3]] \n",
      "\n",
      "[[[2 4]\n",
      "  [9 3]\n",
      "  [0 7]]\n",
      "\n",
      " [[8 3]\n",
      "  [6 5]\n",
      "  [1 3]]]\n",
      "shape: (3, 4) \n",
      "ndim: 2\n"
     ]
    }
   ],
   "source": [
    "#reshape & resize\n",
    "c = np.array([\n",
    "    [2,4,9,3], \n",
    "    [0,7,8,3],\n",
    "    [6,5,1,3]\n",
    "   ])\n",
    "print(c.reshape((2,6)), '\\n')\n",
    "print(c.reshape((4,3)), '\\n')\n",
    "print(c.reshape((2,3,2)))\n",
    "print('shape:', c.shape , '\\nndim:',c.ndim) # c本身沒變"
   ]
  },
  {
   "cell_type": "code",
   "execution_count": 70,
   "metadata": {},
   "outputs": [
    {
     "name": "stdout",
     "output_type": "stream",
     "text": [
      "resize : None\n",
      "[[[2 4]\n",
      "  [9 3]\n",
      "  [0 7]]\n",
      "\n",
      " [[8 3]\n",
      "  [6 5]\n",
      "  [1 3]]]\n",
      "shape: (2, 3, 2) \n",
      "ndim: 3\n"
     ]
    }
   ],
   "source": [
    "c = np.array([\n",
    "    [2,4,9,3], \n",
    "    [0,7,8,3],\n",
    "    [6,5,1,3]\n",
    "   ])\n",
    "print('resize :',c.resize(2,3,2))\n",
    "print(c)\n",
    "print('shape:', c.shape, '\\nndim:' ,c.ndim) #c 本身改變"
   ]
  },
  {
   "cell_type": "code",
   "execution_count": 82,
   "metadata": {},
   "outputs": [
    {
     "name": "stdout",
     "output_type": "stream",
     "text": [
      "[0 1 2 3 4 5]\n",
      "[0 1 2 3 4 5]\n",
      "<numpy.flatiter object at 0x000001C75D70B040>\n"
     ]
    }
   ],
   "source": [
    "#0609\n",
    "#flatten\n",
    "\n",
    "e = np.arange(6).reshape((2,3))\n",
    "#print(e)\n",
    "print(e.flatten())\n",
    "print(e.ravel())\n",
    "print(e.flat)\n"
   ]
  },
  {
   "cell_type": "code",
   "execution_count": null,
   "metadata": {},
   "outputs": [],
   "source": [
    "#stack 合併 v.s. 合併 - concatenate\n",
    "#spilt分割"
   ]
  }
 ],
 "metadata": {
  "kernelspec": {
   "display_name": "Python 3",
   "language": "python",
   "name": "python3"
  },
  "language_info": {
   "codemirror_mode": {
    "name": "ipython",
    "version": 3
   },
   "file_extension": ".py",
   "mimetype": "text/x-python",
   "name": "python",
   "nbconvert_exporter": "python",
   "pygments_lexer": "ipython3",
   "version": "3.8.5"
  }
 },
 "nbformat": 4,
 "nbformat_minor": 4
}
