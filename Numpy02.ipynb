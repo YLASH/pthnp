{
 "cells": [
  {
   "cell_type": "code",
   "execution_count": 4,
   "metadata": {},
   "outputs": [
    {
     "name": "stdout",
     "output_type": "stream",
     "text": [
      "[0 2 4 6]\n"
     ]
    }
   ],
   "source": [
    "import numpy as np\n",
    "print(np.array([0,2,4,6]))"
   ]
  },
  {
   "cell_type": "code",
   "execution_count": 12,
   "metadata": {},
   "outputs": [
    {
     "name": "stdout",
     "output_type": "stream",
     "text": [
      "[0.  2.  4.2] :  float64\n"
     ]
    }
   ],
   "source": [
    "# 會自動轉換成範圍比較大的型態：\n",
    "print(np.array([0,2,4.2]) ,': ', np.array([0,2,4.2]).dtype)"
   ]
  },
  {
   "cell_type": "code",
   "execution_count": 22,
   "metadata": {},
   "outputs": [
    {
     "name": "stdout",
     "output_type": "stream",
     "text": [
      "[1.+0.j 2.+0.j 3.+0.j] :  complex128\n",
      "[1. 2. 3.] :  float64\n",
      "[1 2 3]\n"
     ]
    }
   ],
   "source": [
    "# 也可以指定成想要的型態\n",
    "print(np.array([1, 2, 3], dtype=complex) ,': ', np.array([1, 2, 3], dtype=complex).dtype)\n",
    "print(np.array([1, 2, 3], dtype=float),': ', np.array([1, 2, 3], dtype=float).dtype)\n",
    "print(np.array([1, 2, 3], dtype=int))"
   ]
  },
  {
   "cell_type": "code",
   "execution_count": 27,
   "metadata": {},
   "outputs": [
    {
     "name": "stdout",
     "output_type": "stream",
     "text": [
      "{0: 123, 1: 456}\n",
      "1\n",
      "[[  0 123]\n",
      " [  1 456]]\n",
      "4\n"
     ]
    }
   ],
   "source": [
    "# 字典型態被轉成陣列不符合期待\n",
    "print(np.array({0: 123, 1: 456}))\n",
    "print(np.array({0: 123, 1: 456}).size)\n",
    "# 正確的寫法應該寫轉成有序的 List 再作轉換\n",
    "print(np.array(list({0: 123, 1: 456}.items())))\n",
    "print(np.array(list({0: 123, 1: 456}.items())).size)"
   ]
  },
  {
   "cell_type": "code",
   "execution_count": 5,
   "metadata": {},
   "outputs": [
    {
     "name": "stdout",
     "output_type": "stream",
     "text": [
      "[[0. 0. 0.]\n",
      " [0. 0. 0.]]\n",
      "[[1. 1. 1.]\n",
      " [1. 1. 1.]]\n",
      "[[6 6 6]\n",
      " [6 6 6]]\n"
     ]
    }
   ],
   "source": [
    "# 從固定大小的初始值開始\n",
    "\n",
    "print(np.zeros((2, 3)))\n",
    "# 建立由 0 組成的 2x3 陣列\n",
    "print(np.ones((2, 3)))\n",
    "# 建立由 1 組成的 2x3 陣列\n",
    "print(np.full((2, 3), 6))\n",
    "# 建立由 6 組成的 2x3 陣列"
   ]
  },
  {
   "cell_type": "code",
   "execution_count": null,
   "metadata": {},
   "outputs": [],
   "source": [
    "\n",
    "\n"
   ]
  }
 ],
 "metadata": {
  "kernelspec": {
   "display_name": "Python 3",
   "language": "python",
   "name": "python3"
  },
  "language_info": {
   "codemirror_mode": {
    "name": "ipython",
    "version": 3
   },
   "file_extension": ".py",
   "mimetype": "text/x-python",
   "name": "python",
   "nbconvert_exporter": "python",
   "pygments_lexer": "ipython3",
   "version": "3.8.5"
  }
 },
 "nbformat": 4,
 "nbformat_minor": 4
}
