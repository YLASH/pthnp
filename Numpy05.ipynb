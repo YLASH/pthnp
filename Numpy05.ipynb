{
 "cells": [
  {
   "cell_type": "code",
   "execution_count": 1,
   "metadata": {},
   "outputs": [
    {
     "data": {
      "text/plain": [
       "'從陣列中存取元素_index ; slice'"
      ]
     },
     "execution_count": 1,
     "metadata": {},
     "output_type": "execute_result"
    }
   ],
   "source": [
    "'''從陣列中存取元素_index ; slice'''"
   ]
  },
  {
   "cell_type": "code",
   "execution_count": 4,
   "metadata": {},
   "outputs": [
    {
     "name": "stdout",
     "output_type": "stream",
     "text": [
      "[-1, 0, 1]\n",
      "1\n",
      "-1\n",
      "[0, 1]\n"
     ]
    }
   ],
   "source": [
    "L = [ -1, 0, 1]  #python\n",
    "\n",
    "print(L)\n",
    "print(L[-1])\n",
    "print(L[0])\n",
    "print(L[1:3])"
   ]
  },
  {
   "cell_type": "code",
   "execution_count": 18,
   "metadata": {},
   "outputs": [
    {
     "name": "stdout",
     "output_type": "stream",
     "text": [
      "[1 2 3 4 5]\n",
      "4\n",
      "1\n",
      "[3 4 5]\n"
     ]
    }
   ],
   "source": [
    "import numpy as np\n",
    " \n",
    "#numpy 也可以使用    \n",
    "a=np.arange(1,6)\n",
    "print(a)\n",
    "print(a[-2])\n",
    "print(a[0])\n",
    "print(a[-3:5])\n",
    "\n"
   ]
  },
  {
   "cell_type": "code",
   "execution_count": 29,
   "metadata": {},
   "outputs": [
    {
     "name": "stdout",
     "output_type": "stream",
     "text": [
      "1\n",
      "2\n",
      "[1 2 3]\n",
      "[3 5 6 8 9]\n",
      "[6 8 9] \n",
      "\n",
      "一維陣列的的迭代\n",
      "1\n",
      "2\n",
      "3\n",
      "5\n",
      "6\n",
      "8\n",
      "9\n"
     ]
    }
   ],
   "source": [
    "# 一維陣列的切片與索引\n",
    "data = np.array([1,2,3,5,6,8,9])\n",
    "print(data[0])    #取出第0個\n",
    "print(data[1])    #取出第1個\n",
    "print(data[0:3])  #取出第0,1,2個(3之前)\n",
    "print(data[2:])   #取出第2個到最後\n",
    "print(data[-3:], '\\n')  #取倒數第三到 最後\n",
    "\n",
    "# 一維陣列的的迭代\n",
    "print('一維陣列的的迭代')\n",
    "data = np.array([1,2,3,5,6,8,9])\n",
    "for i in data:\n",
    "    print(i)"
   ]
  },
  {
   "cell_type": "code",
   "execution_count": 38,
   "metadata": {},
   "outputs": [
    {
     "name": "stdout",
     "output_type": "stream",
     "text": [
      "[0 1]\n",
      "[2 3]\n",
      "[4 5]\n",
      "\n",
      "多層迴圈\n",
      "0\n",
      "1\n",
      "2\n",
      "3\n",
      "4\n",
      "5\n"
     ]
    }
   ],
   "source": [
    "# 多維陣列的多層迴圈\n",
    "\n",
    "b= np.arange(6).reshape(3,2)\n",
    "\n",
    "for row in b:\n",
    "    print(row)\n",
    "\n",
    "print('\\n多層迴圈')    \n",
    "for row in b:\n",
    "    for clu in row:\n",
    "        print(clu)"
   ]
  },
  {
   "cell_type": "code",
   "execution_count": 50,
   "metadata": {},
   "outputs": [
    {
     "name": "stdout",
     "output_type": "stream",
     "text": [
      "flat then loop :\n",
      "0\n",
      "1\n",
      "2\n",
      "3\n",
      "4\n",
      "5\n",
      "np.nditer :\n",
      "0\n",
      "1\n",
      "2\n",
      "3\n",
      "4\n",
      "5\n"
     ]
    }
   ],
   "source": [
    "# 攤平後再迭代多維陣列\n",
    "print('flat then loop :')\n",
    "b= np.arange(6).reshape(3,2)\n",
    "\n",
    "for i in b.flat:\n",
    "    print(i)\n",
    "    \n",
    "# np.nditer 迭代物件\n",
    "print('np.nditer :')\n",
    "c= np.arange(6).reshape(3,2)\n",
    "\n",
    "for j in np.nditer(c):\n",
    "    print(j)"
   ]
  },
  {
   "cell_type": "code",
   "execution_count": 67,
   "metadata": {},
   "outputs": [
    {
     "name": "stdout",
     "output_type": "stream",
     "text": [
      "[[0 1]\n",
      " [2 3]\n",
      " [4 5]]\n",
      "Order:C\n",
      "0\n",
      "1\n",
      "2\n",
      "3\n",
      "4\n",
      "5\n",
      "Order:F\n",
      "0\n",
      "2\n",
      "4\n",
      "1\n",
      "3\n",
      "5\n"
     ]
    }
   ],
   "source": [
    "# 迭代物件的儲存方向\n",
    "c = np.arange(6).reshape(3,2)\n",
    "print(c)\n",
    "print('Order:C')\n",
    "for k in np.nditer(c, order='C'):\n",
    "    print(k)\n",
    "print('Order:F')\n",
    "for k in np.nditer(c, order='F'):\n",
    "    print(k)    "
   ]
  },
  {
   "cell_type": "code",
   "execution_count": null,
   "metadata": {},
   "outputs": [],
   "source": []
  },
  {
   "cell_type": "code",
   "execution_count": null,
   "metadata": {},
   "outputs": [],
   "source": []
  },
  {
   "cell_type": "code",
   "execution_count": null,
   "metadata": {},
   "outputs": [],
   "source": []
  }
 ],
 "metadata": {
  "kernelspec": {
   "display_name": "Python 3",
   "language": "python",
   "name": "python3"
  },
  "language_info": {
   "codemirror_mode": {
    "name": "ipython",
    "version": 3
   },
   "file_extension": ".py",
   "mimetype": "text/x-python",
   "name": "python",
   "nbconvert_exporter": "python",
   "pygments_lexer": "ipython3",
   "version": "3.8.5"
  }
 },
 "nbformat": 4,
 "nbformat_minor": 4
}
