{
 "cells": [
  {
   "cell_type": "code",
   "execution_count": 2,
   "metadata": {},
   "outputs": [
    {
     "name": "stdout",
     "output_type": "stream",
     "text": [
      "<module 'numpy' from 'C:\\\\Users\\\\USER\\\\anaconda3\\\\lib\\\\site-packages\\\\numpy\\\\__init__.py'>\n",
      "1.19.2\n",
      "<module 'pandas' from 'C:\\\\Users\\\\USER\\\\anaconda3\\\\lib\\\\site-packages\\\\pandas\\\\__init__.py'>\n",
      "1.1.3\n"
     ]
    }
   ],
   "source": [
    "import numpy as np\n",
    "import pandas as pd\n",
    "\n",
    "print(np)\n",
    "print(np.__version__)\n",
    "print(pd)\n",
    "print(pd.__version__)"
   ]
  },
  {
   "cell_type": "code",
   "execution_count": 13,
   "metadata": {},
   "outputs": [
    {
     "name": "stdout",
     "output_type": "stream",
     "text": [
      "+ :\n",
      "    0  1   2\n",
      "0  3  7  11\n",
      "- :\n",
      "    0  1  2\n",
      "0 -1 -1 -1\n",
      "X :\n",
      "    0   1   2\n",
      "0  2  12  30\n",
      "/ :\n",
      "      0     1         2\n",
      "0  0.5  0.75  0.833333\n",
      "   0  1  2\n",
      "0  3  5  7\n"
     ]
    }
   ],
   "source": [
    "#知道如何使用 DataFrame 中的運算\n",
    "#了解 DataFrame 運算的特性\n",
    "#知道 DataFrame 中統計與字串的操作\n",
    "\n",
    "df1 = pd.DataFrame([[1,3,5]])\n",
    "df2 = pd.DataFrame([[2,4,6]])\n",
    "\n",
    "print('+ :\\n',df1 + df2)\n",
    "print('- :\\n',df1 - df2)\n",
    "print('X :\\n',df1* df2)\n",
    "print('/ :\\n',df1/ df2)\n",
    "\n",
    "print(df1+2)"
   ]
  },
  {
   "cell_type": "code",
   "execution_count": 12,
   "metadata": {},
   "outputs": [
    {
     "name": "stdout",
     "output_type": "stream",
     "text": [
      "    a   b  c   d   e\n",
      "0 NaN NaN  4 NaN NaN\n"
     ]
    }
   ],
   "source": [
    "df1 = pd.DataFrame([[1, 2, 3]], columns=['a', 'b', 'c'])\n",
    "df2 = pd.DataFrame([[1, 1, 1]], columns=['c', 'd', 'e'])\n",
    "print(df1 + df2)"
   ]
  },
  {
   "cell_type": "code",
   "execution_count": 33,
   "metadata": {
    "scrolled": true
   },
   "outputs": [
    {
     "name": "stdout",
     "output_type": "stream",
     "text": [
      "   0  1  2\n",
      "0  2  5  4\n",
      "   0   1   2\n",
      "0  2 NaN NaN\n",
      "[[2 3 4]]\n",
      "[[2 3 4]]\n"
     ]
    }
   ],
   "source": [
    "# pd.DataFrame 和 np.Array\n",
    "import pandas as pd\n",
    "df = pd.DataFrame([[1, 4, 3]])\n",
    "\n",
    "print(df + 1)\n",
    "print(df + pd.DataFrame([1]))\n",
    "#df+ pd.DataFrame([[1,1,1]])\n",
    "\n",
    "import numpy as np \n",
    "a = np.array([[1, 2, 3]])\n",
    "print(a+1)\n",
    "print(a+np.array([1]))\n"
   ]
  },
  {
   "cell_type": "code",
   "execution_count": 17,
   "metadata": {},
   "outputs": [
    {
     "name": "stdout",
     "output_type": "stream",
     "text": [
      "  col1  col2\n",
      "1    A     5\n",
      "2    A     3\n",
      "3    B     8\n",
      "0    a     2\n",
      "4    b     1\n",
      "5  NaN     3\n",
      "  col1  col2\n",
      "2    A     3\n",
      "1    A     5\n",
      "3    B     8\n",
      "0    a     2\n",
      "4    b     1\n",
      "5  NaN     3\n",
      "  col1  col2\n",
      "3    B     8\n",
      "1    A     5\n",
      "2    A     3\n",
      "5  NaN     3\n",
      "0    a     2\n",
      "4    b     1\n",
      "  col1  col2\n",
      "5  NaN     3\n",
      "4    b     1\n",
      "0    a     2\n",
      "3    B     8\n",
      "1    A     5\n",
      "2    A     3\n"
     ]
    }
   ],
   "source": [
    "# DataFrame 中的排序\n",
    "\n",
    "df = pd.DataFrame( {\n",
    "    \"col1\": ['a', 'A','A','B','b',np.nan],\n",
    "    \"col2\": [2, 5, 3, 8, 1, 3]\n",
    "})\n",
    "\n",
    "print(df.sort_values(by=\"col1\"))\n",
    "print(df.sort_values(by=[\"col1\",\"col2\"]))  #Sort by multiple columns\n",
    "print(df.sort_values(by=\"col2\" ,  ascending=False)) #降冪\n",
    "print(df.sort_values(by=\"col1\" ,  na_position='first', ascending=False))"
   ]
  },
  {
   "cell_type": "code",
   "execution_count": 18,
   "metadata": {},
   "outputs": [
    {
     "name": "stdout",
     "output_type": "stream",
     "text": [
      "name\n",
      "age\n"
     ]
    }
   ],
   "source": [
    "#Dataframe 的for loop\n",
    "\n",
    "df = pd.DataFrame({\n",
    "    'name': ['Alice', 'Bob'],\n",
    "    'age': [20, 32]\n",
    "})\n",
    "\n",
    "for c in df:\n",
    "    print(c)\n",
    "    "
   ]
  },
  {
   "cell_type": "code",
   "execution_count": 2,
   "metadata": {},
   "outputs": [
    {
     "name": "stdout",
     "output_type": "stream",
     "text": [
      "name    Alice\n",
      "age        20\n",
      "Name: 0, dtype: object\n",
      "name    Bob\n",
      "age      32\n",
      "Name: 1, dtype: object\n"
     ]
    }
   ],
   "source": [
    "# 橫向的資料迭代\n",
    "\n",
    "import pandas as pd\n",
    "\n",
    "df = pd.DataFrame({\n",
    "  'name': ['Alice', 'Bob'],\n",
    "  'age': [20, 32]\n",
    "})\n",
    "\n",
    "for i in range(len(df)) : \n",
    "    print(df.iloc[i])"
   ]
  },
  {
   "cell_type": "code",
   "execution_count": 3,
   "metadata": {},
   "outputs": [
    {
     "name": "stdout",
     "output_type": "stream",
     "text": [
      "iteritems:\n",
      "('name', 0    Alice\n",
      "1      Bob\n",
      "Name: name, dtype: object)\n",
      "('age', 0    20\n",
      "1    32\n",
      "Name: age, dtype: int64)\n",
      "\n",
      " iterrows:\n",
      "(0, name    Alice\n",
      "age        20\n",
      "Name: 0, dtype: object)\n",
      "(1, name    Bob\n",
      "age      32\n",
      "Name: 1, dtype: object)\n",
      "\n",
      "itertuples:\n",
      "Pandas(Index=0, name='Alice', age=20)\n",
      "Pandas(Index=1, name='Bob', age=32)\n"
     ]
    }
   ],
   "source": [
    "# iteritems()、iterrows()、itertuples() \n",
    "#:第二種方法可以直接用 DataFrame 內建的 iterative 方法：\n",
    "\n",
    "df = pd.DataFrame({\n",
    "  'name': ['Alice', 'Bob'],\n",
    "  'age': [20, 32]\n",
    "})\n",
    "\n",
    "print('iteritems:')        # Iterate over (column name, Series) pairs.\n",
    "for d1 in df.iteritems() :\n",
    "    print(d1)\n",
    "    \n",
    "print('\\n iterrows:')      # Iterate over DataFrame rows as (index, Series) pairs.\n",
    "for d2 in df.iterrows() :\n",
    "    print(d2)\n",
    "    \n",
    "print('\\nitertuples:')     # Iterate over DataFrame rows as namedtuples of the values.\n",
    "for d3 in df.itertuples() :\n",
    "    print(d3)\n"
   ]
  },
  {
   "cell_type": "code",
   "execution_count": 32,
   "metadata": {},
   "outputs": [
    {
     "name": "stdout",
     "output_type": "stream",
     "text": [
      "apply\n",
      "lambda:\n",
      " score    29\n",
      "age      12\n",
      "dtype: int64\n",
      "\n",
      "map\n",
      "0    25\n",
      "1    37\n",
      "2    33\n",
      "Name: age, dtype: int64\n",
      "\n",
      "applymap\n",
      "   score  age\n",
      "0    -98  -20\n",
      "1    -69  -32\n",
      "2    -85  -28\n"
     ]
    }
   ],
   "source": [
    "#apply, map ,applymap\n",
    "\n",
    "import numpy as np\n",
    "import pandas as pd\n",
    "\n",
    "df = pd.DataFrame({\n",
    "  'score': [98, 69, 85],\n",
    "  'age': [20, 32, 28]\n",
    "})\n",
    "\n",
    "print('apply')  #Apply a function along an axis of the DataFrame.\n",
    "df.apply(np.max)\n",
    "#score    98\n",
    "#age      32\n",
    "#dtype: int64\n",
    "df.apply(np.min)\n",
    "#score    69\n",
    "#age      20\n",
    "#dtype: int64\n",
    "print('lambda:\\n',df.apply(lambda x : x.max() - x.min()))\n",
    "\n",
    "#map\n",
    "print('\\nmap')\n",
    "print(df['age'].map(lambda x: x+5))\n",
    "\n",
    "#applymap   #Apply a function to a Dataframe elementwise.\n",
    "print('\\napplymap')\n",
    "print(df.applymap(lambda x: -x))"
   ]
  },
  {
   "cell_type": "code",
   "execution_count": 36,
   "metadata": {},
   "outputs": [
    {
     "name": "stdout",
     "output_type": "stream",
     "text": [
      "   a\n",
      "0  1\n",
      "1  2\n",
      "   a  b\n",
      "0  1  3\n",
      "1  2  4\n"
     ]
    }
   ],
   "source": [
    "#正確的從 DataFrame 中插入或刪除資料\n",
    "#正確的對 DataFrame 進行合併與重組\n",
    "#了解 DataFrame 中合併的方法差異\n",
    "\n",
    "# 從 DataFrame 中插入或刪除資料\n",
    "df=pd.DataFrame([[1],[2]], columns=['a'])\n",
    "print(df)\n",
    "df['b'] = pd.Series([3,4])\n",
    "print(df)"
   ]
  },
  {
   "cell_type": "code",
   "execution_count": 44,
   "metadata": {},
   "outputs": [
    {
     "name": "stdout",
     "output_type": "stream",
     "text": [
      "   a  b\n",
      "0  1  2\n",
      "   a  b\n",
      "0  1  2\n",
      "0  3  4\n",
      "But index will be repeated \n",
      "--> reset_index\n",
      "   a  b\n",
      "0  1  2\n",
      "1  3  4\n"
     ]
    }
   ],
   "source": [
    "#Append\n",
    "df=pd.DataFrame([[1,2]], columns =['a','b'])\n",
    "print(df)\n",
    " #增加列\n",
    "df =df.append(pd.DataFrame([[3,4]], columns =['a','b']))\n",
    "print(df)\n",
    "print(\"But index will be repeated \")\n",
    "print(\"--> reset_index\")\n",
    "df = df.reset_index(drop=True) \n",
    "# use the drop parameter to avoid the old index being added as a column\n",
    "#      a  b\n",
    "# 0 0  1  2\n",
    "# 1 0  3  4\n",
    "print(df)"
   ]
  },
  {
   "cell_type": "code",
   "execution_count": 57,
   "metadata": {},
   "outputs": [
    {
     "name": "stdout",
     "output_type": "stream",
     "text": [
      "   a  b  c\n",
      "0  1  2  3\n",
      "del 'a'\n",
      "    b  c\n",
      "0  2  3\n",
      "pop 'c' \n",
      " 0    3\n",
      "Name: c, dtype: int64\n",
      "\n",
      " Drop :\n",
      "   a  b  c\n",
      "0  1  2  3\n",
      "1  3  4  5\n",
      "drop '1'\n",
      "    a  b  c\n",
      "0  1  2  3\n"
     ]
    },
    {
     "data": {
      "text/html": [
       "<div>\n",
       "<style scoped>\n",
       "    .dataframe tbody tr th:only-of-type {\n",
       "        vertical-align: middle;\n",
       "    }\n",
       "\n",
       "    .dataframe tbody tr th {\n",
       "        vertical-align: top;\n",
       "    }\n",
       "\n",
       "    .dataframe thead th {\n",
       "        text-align: right;\n",
       "    }\n",
       "</style>\n",
       "<table border=\"1\" class=\"dataframe\">\n",
       "  <thead>\n",
       "    <tr style=\"text-align: right;\">\n",
       "      <th></th>\n",
       "      <th>a</th>\n",
       "      <th>c</th>\n",
       "    </tr>\n",
       "  </thead>\n",
       "  <tbody>\n",
       "    <tr>\n",
       "      <th>0</th>\n",
       "      <td>1</td>\n",
       "      <td>3</td>\n",
       "    </tr>\n",
       "  </tbody>\n",
       "</table>\n",
       "</div>"
      ],
      "text/plain": [
       "   a  c\n",
       "0  1  3"
      ]
     },
     "execution_count": 57,
     "metadata": {},
     "output_type": "execute_result"
    }
   ],
   "source": [
    "#Delete\n",
    "df = pd.DataFrame([[1,2,3]], columns = ['a','b','c'])\n",
    "print(df)\n",
    "del df['a']\n",
    "print(\"del 'a'\\n\",df)\n",
    "df=df.pop('c')\n",
    "print(\"pop 'c' \\n\",df)\n",
    "#pop(item) --> item:Label of column to be popped.\n",
    "\n",
    "#Drop\n",
    "print('\\n Drop :')\n",
    "df = pd.DataFrame([[1,2,3],[3,4,5]], columns = ['a','b','c'])\n",
    "print(df)\n",
    "df = df.drop(1)#index\n",
    "print(\"drop '1'\\n\",df)\n",
    "df = df.drop(['b'], axis=1)\n",
    "df"
   ]
  },
  {
   "cell_type": "code",
   "execution_count": 58,
   "metadata": {},
   "outputs": [
    {
     "data": {
      "text/plain": [
       "'\\n DataFrame 跟 DataFrame 之間的操作，常見可以分為以下幾種：\\n\\n-連集（Concat）\\n-合併（merge）\\n-連接（Join）\\n-分組（Group）\\n'"
      ]
     },
     "execution_count": 58,
     "metadata": {},
     "output_type": "execute_result"
    }
   ],
   "source": [
    "'''\n",
    " DataFrame 跟 DataFrame 之間的操作，常見可以分為以下幾種：\n",
    "\n",
    "-連集（Concat）\n",
    "-合併（merge）\n",
    "-連接（Join）\n",
    "-分組（Group）\n",
    "'''"
   ]
  },
  {
   "cell_type": "code",
   "execution_count": 69,
   "metadata": {},
   "outputs": [
    {
     "name": "stdout",
     "output_type": "stream",
     "text": [
      "   id  name\n",
      "0   1   Ann\n",
      "1   2  Alex\n",
      "0   1   Bob\n",
      "1   2   Cam\n",
      "Reset_index \n",
      "    id  name\n",
      "0   1   Ann\n",
      "1   2  Alex\n",
      "2   1   Bob\n",
      "3   2   Cam\n",
      "\n",
      " Merge\n",
      "   id name_x name_y\n",
      "0   1    Ann    Bob\n",
      "1   2   Alex    Cam\n"
     ]
    }
   ],
   "source": [
    "#Concat\n",
    "\n",
    "one = pd.DataFrame({\n",
    "    \"id\":[1,2],\n",
    "    \"name\":[\"Ann\", \"Alex\"]\n",
    "})\n",
    "\n",
    "two = pd.DataFrame({\n",
    "    \"id\":[1,2],\n",
    "    \"name\":[\"Bob\",\"Cam\"]\n",
    "})\n",
    "\n",
    "print(pd.concat([one,two]))\n",
    "print(\"Reset_index \\n\",pd.concat([one, two]).reset_index(drop=True))\n",
    "\n",
    "#merge\n",
    "print(\"\\n Merge\")\n",
    "print(pd.merge(one,two, on=\"id\"))"
   ]
  },
  {
   "cell_type": "code",
   "execution_count": 5,
   "metadata": {},
   "outputs": [
    {
     "name": "stdout",
     "output_type": "stream",
     "text": [
      "  Name  Score\n",
      "0  Ann   98.0\n",
      "1  Amy   89.0\n",
      "2  Sam    NaN\n"
     ]
    }
   ],
   "source": [
    "#join\n",
    " #df.join :Join columns of another DataFrame.\n",
    "one = pd.DataFrame({\n",
    "    \"Name\":[\"Ann\",\"Amy\",\"Sam\"]\n",
    "})\n",
    "\n",
    "two = pd.DataFrame({\n",
    "    \"Score\":[98,89]\n",
    "})\n",
    "\n",
    "print(one.join(two))"
   ]
  },
  {
   "cell_type": "code",
   "execution_count": 10,
   "metadata": {},
   "outputs": [
    {
     "name": "stdout",
     "output_type": "stream",
     "text": [
      "     A      B  C   D\n",
      "0  foo    one  1  10\n",
      "1  bar    one  2  20\n",
      "2  foo    two  3  30\n",
      "3  bar  three  4  40\n",
      "Groupby\n",
      "     C   D\n",
      "A         \n",
      "bar  6  60\n",
      "foo  4  40\n",
      "       C   D\n",
      "B           \n",
      "one    3  30\n",
      "three  4  40\n",
      "two    3  30\n",
      "           C   D\n",
      "A   B           \n",
      "bar one    2  20\n",
      "    three  4  40\n",
      "foo one    1  10\n",
      "    two    3  30\n"
     ]
    }
   ],
   "source": [
    "df = pd.DataFrame({\n",
    "  'A' : ['foo', 'bar', 'foo', 'bar'],\n",
    "  'B' : ['one', 'one', 'two', 'three'],\n",
    "  'C' : [1,2,3,4],\n",
    "  'D' : [10, 20, 30, 40]\n",
    "})\n",
    "print(df)\n",
    "print(\"Groupby\")\n",
    "print(df.groupby('A').sum())\n",
    "print(df.groupby('B').agg(sum))\n",
    "#agg 聚合操作: .agg()  :sum, min, max, mean.... \n",
    "print(df.groupby(['A','B']).sum())"
   ]
  },
  {
   "cell_type": "code",
   "execution_count": 3,
   "metadata": {},
   "outputs": [
    {
     "data": {
      "text/html": [
       "<div>\n",
       "<style scoped>\n",
       "    .dataframe tbody tr th:only-of-type {\n",
       "        vertical-align: middle;\n",
       "    }\n",
       "\n",
       "    .dataframe tbody tr th {\n",
       "        vertical-align: top;\n",
       "    }\n",
       "\n",
       "    .dataframe thead th {\n",
       "        text-align: right;\n",
       "    }\n",
       "</style>\n",
       "<table border=\"1\" class=\"dataframe\">\n",
       "  <thead>\n",
       "    <tr style=\"text-align: right;\">\n",
       "      <th></th>\n",
       "      <th>TOK</th>\n",
       "      <th>UPDATE</th>\n",
       "      <th>DATE</th>\n",
       "      <th>SHOT</th>\n",
       "      <th>TIME</th>\n",
       "      <th>AUXHEAT</th>\n",
       "      <th>PHASE</th>\n",
       "      <th>STATE</th>\n",
       "      <th>PGASA</th>\n",
       "      <th>PGASZ</th>\n",
       "      <th>...</th>\n",
       "      <th>WFICRH</th>\n",
       "      <th>MEFF</th>\n",
       "      <th>ISEQ</th>\n",
       "      <th>WTH</th>\n",
       "      <th>WTOT</th>\n",
       "      <th>DWTOT</th>\n",
       "      <th>PL</th>\n",
       "      <th>PLTH</th>\n",
       "      <th>TAUTOT</th>\n",
       "      <th>TAUTH</th>\n",
       "    </tr>\n",
       "  </thead>\n",
       "  <tbody>\n",
       "    <tr>\n",
       "      <th>0</th>\n",
       "      <td>JET</td>\n",
       "      <td>20031201</td>\n",
       "      <td>20001006</td>\n",
       "      <td>53521</td>\n",
       "      <td>10.0</td>\n",
       "      <td>NBIC</td>\n",
       "      <td>HSELM</td>\n",
       "      <td>TRANS</td>\n",
       "      <td>2.0</td>\n",
       "      <td>1.0</td>\n",
       "      <td>...</td>\n",
       "      <td>731900.0</td>\n",
       "      <td>2.0</td>\n",
       "      <td>NONE</td>\n",
       "      <td>3715000.0</td>\n",
       "      <td>5381000.0</td>\n",
       "      <td>1282000.0</td>\n",
       "      <td>12970000.0</td>\n",
       "      <td>12100000.0</td>\n",
       "      <td>0.4445</td>\n",
       "      <td>0.2194</td>\n",
       "    </tr>\n",
       "  </tbody>\n",
       "</table>\n",
       "<p>1 rows × 78 columns</p>\n",
       "</div>"
      ],
      "text/plain": [
       "   TOK    UPDATE      DATE   SHOT  TIME AUXHEAT  PHASE  STATE  PGASA  PGASZ  \\\n",
       "0  JET  20031201  20001006  53521  10.0    NBIC  HSELM  TRANS    2.0    1.0   \n",
       "\n",
       "   ...    WFICRH  MEFF  ISEQ        WTH       WTOT      DWTOT          PL  \\\n",
       "0  ...  731900.0   2.0  NONE  3715000.0  5381000.0  1282000.0  12970000.0   \n",
       "\n",
       "         PLTH  TAUTOT   TAUTH  \n",
       "0  12100000.0  0.4445  0.2194  \n",
       "\n",
       "[1 rows x 78 columns]"
      ]
     },
     "execution_count": 3,
     "metadata": {},
     "output_type": "execute_result"
    }
   ],
   "source": [
    "#Pandas 的外部資料存取\n",
    "# 利用 read_csv 讀入資料\n",
    "pd.read_csv(\"https://people.sc.fsu.edu/~jburkardt/data/csv/example.csv\")\n",
    "\n",
    "'''\n",
    "read_execl/ table/json ...\n",
    "'''"
   ]
  },
  {
   "cell_type": "code",
   "execution_count": 6,
   "metadata": {},
   "outputs": [
    {
     "name": "stdout",
     "output_type": "stream",
     "text": [
      "           PID  ST_NUM     ST_NAME OWN_OCCUPIED NUM_BEDROOMS NUM_BATH SQ_FT\n",
      "0  100001000.0   104.0      PUTNAM            Y            3        1  1000\n",
      "1  100002000.0   197.0   LEXINGTON            N            3      1.5    --\n",
      "2  100003000.0     NaN   LEXINGTON            N          NaN        1   850\n",
      "3  100004000.0   201.0    BERKELEY           12            1      NaN   700\n",
      "4          NaN   203.0    BERKELEY            Y            3        2  1600\n",
      "5  100006000.0   207.0    BERKELEY            Y          NaN        1   800\n",
      "6  100007000.0     NaN  WASHINGTON          NaN            2   HURLEY   950\n",
      "7  100008000.0   213.0     TREMONT            Y            1        1   NaN\n",
      "8  100009000.0   215.0     TREMONT            Y           na        2  1800\n",
      "\n",
      "            PID  ST_NUM     ST_NAME OWN_OCCUPIED  NUM_BEDROOMS NUM_BATH   SQ_FT\n",
      "0  100001000.0   104.0      PUTNAM            Y           3.0        1  1000.0\n",
      "1  100002000.0   197.0   LEXINGTON            N           3.0      1.5     NaN\n",
      "2  100003000.0     NaN   LEXINGTON            N           NaN        1   850.0\n",
      "3  100004000.0   201.0    BERKELEY           12           1.0      NaN   700.0\n",
      "4          NaN   203.0    BERKELEY            Y           3.0        2  1600.0\n",
      "5  100006000.0   207.0    BERKELEY            Y           NaN        1   800.0\n",
      "6  100007000.0     NaN  WASHINGTON          NaN           2.0   HURLEY   950.0\n",
      "7  100008000.0   213.0     TREMONT            Y           1.0        1     NaN\n",
      "8  100009000.0   215.0     TREMONT            Y           NaN        2  1800.0\n"
     ]
    }
   ],
   "source": [
    "# 利用 na_values 自訂缺失值\n",
    "\n",
    "df1 = pd.read_csv('https://raw.githubusercontent.com/dataoptimal/posts/master/data%20cleaning%20with%20python%20and%20pandas/property%20data.csv')\n",
    "print(df1)\n",
    "\n",
    "df = pd.read_csv('https://raw.githubusercontent.com/dataoptimal/posts/master/data%20cleaning%20with%20python%20and%20pandas/property%20data.csv',\n",
    "                 keep_default_na = True,\n",
    "                 na_values = [\"na\",\"--\"]\n",
    "                )\n",
    "print(\"\\n\", df)"
   ]
  },
  {
   "cell_type": "code",
   "execution_count": 9,
   "metadata": {},
   "outputs": [
    {
     "name": "stdout",
     "output_type": "stream",
     "text": [
      "        name    mask    weapon\n",
      "0    Raphael     red       sai\n",
      "1  Donatello  purple  bo staff\n"
     ]
    },
    {
     "data": {
      "text/plain": [
       "'name,mask,weapon\\r\\nRaphael,red,sai\\r\\nDonatello,purple,bo staff\\r\\n'"
      ]
     },
     "execution_count": 9,
     "metadata": {},
     "output_type": "execute_result"
    }
   ],
   "source": [
    "# 利用 to_csv 寫出資料\n",
    "\n",
    "df = pd.DataFrame({'name': ['Raphael', 'Donatello'],\n",
    "                   'mask': ['red', 'purple'],\n",
    "                   'weapon': ['sai', 'bo staff']})\n",
    "print(df)\n",
    "df.to_csv(index=False)"
   ]
  },
  {
   "cell_type": "code",
   "execution_count": 10,
   "metadata": {},
   "outputs": [],
   "source": [
    "# 利用 compression_opts 設定壓縮格式\n",
    "\n",
    "df.to_csv('out.zip', compression='zip')"
   ]
  },
  {
   "cell_type": "code",
   "execution_count": null,
   "metadata": {},
   "outputs": [],
   "source": []
  }
 ],
 "metadata": {
  "kernelspec": {
   "display_name": "Python 3",
   "language": "python",
   "name": "python3"
  },
  "language_info": {
   "codemirror_mode": {
    "name": "ipython",
    "version": 3
   },
   "file_extension": ".py",
   "mimetype": "text/x-python",
   "name": "python",
   "nbconvert_exporter": "python",
   "pygments_lexer": "ipython3",
   "version": "3.8.5"
  }
 },
 "nbformat": 4,
 "nbformat_minor": 4
}
