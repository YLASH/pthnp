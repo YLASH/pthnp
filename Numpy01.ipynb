{
 "cells": [
  {
   "cell_type": "code",
   "execution_count": 2,
   "metadata": {
    "scrolled": true
   },
   "outputs": [
    {
     "name": "stdout",
     "output_type": "stream",
     "text": [
      "<module 'numpy' from 'C:\\\\Users\\\\USER\\\\anaconda3\\\\lib\\\\site-packages\\\\numpy\\\\__init__.py'>\n",
      "1.19.2\n"
     ]
    }
   ],
   "source": [
    "#載入numpy \n",
    "import numpy as np\n",
    "\n",
    "#確認載入及版本\n",
    "print(np)\n",
    "print(np.__version__)"
   ]
  },
  {
   "cell_type": "code",
   "execution_count": 3,
   "metadata": {
    "scrolled": true
   },
   "outputs": [
    {
     "name": "stdout",
     "output_type": "stream",
     "text": [
      "[[ 0  1  2  3  4]\n",
      " [ 5  6  7  8  9]\n",
      " [10 11 12 13 14]]\n"
     ]
    }
   ],
   "source": [
    "#一個陣列\n",
    "a = np.arange(15).reshape(3, 5)\n",
    "print(a)"
   ]
  },
  {
   "cell_type": "code",
   "execution_count": 4,
   "metadata": {
    "scrolled": true
   },
   "outputs": [
    {
     "name": "stdout",
     "output_type": "stream",
     "text": [
      "ndim:  2\n",
      "shape:  (3, 5)\n",
      "size:  15\n",
      "dtype:  int32\n",
      "itemsize:  4\n",
      "data:  <memory at 0x0000014A6FE445F0>\n"
     ]
    }
   ],
   "source": [
    "# 陣列的常用屬性\n",
    "\n",
    "print('ndim: ', a.ndim ) #維度\n",
    "print('shape: ', a.shape)  #每個維度的大小\n",
    "print('size: ', a.size)  #多少元素\n",
    "print('dtype: ', a.dtype)  #陣列中的資料型態\n",
    "print('itemsize: ', a.itemsize) #每個元素佔的空間\n",
    "print('data: ' , a.data)  #記憶體位置"
   ]
  },
  {
   "cell_type": "code",
   "execution_count": 5,
   "metadata": {
    "scrolled": true
   },
   "outputs": [
    {
     "name": "stdout",
     "output_type": "stream",
     "text": [
      "List =>list(a):  [array([0, 1, 2, 3, 4]), array([5, 6, 7, 8, 9]), array([10, 11, 12, 13, 14])]\n",
      "Arraytolist =>tolist():  [[0, 1, 2, 3, 4], [5, 6, 7, 8, 9], [10, 11, 12, 13, 14]]\n"
     ]
    }
   ],
   "source": [
    "# List 與 Array 的轉換\n",
    "print('List =>list(a): ', list(a))\n",
    "print('Arraytolist =>tolist(): ', a.tolist() )"
   ]
  },
  {
   "cell_type": "code",
   "execution_count": 17,
   "metadata": {
    "scrolled": true
   },
   "outputs": [
    {
     "name": "stdout",
     "output_type": "stream",
     "text": [
      "[[0 1 2]\n",
      " [3 4 5]]\n",
      "[array([0, 1, 2]), array([3, 4, 5])]\n",
      "[[0, 1, 2], [3, 4, 5]]\n",
      "[[0 2 4 6]]\n",
      "[[1 2]\n",
      " [3 4]\n",
      " [7 8]]\n",
      "[array([1, 2]), array([3, 4]), array([7, 8])]\n",
      "[[1, 2], [3, 4], [7, 8]]\n"
     ]
    }
   ],
   "source": [
    "b = np.arange(6).reshape(2,3)\n",
    "print(b)\n",
    "print(list(b))\n",
    "print(b.tolist())\n",
    "c = np.array([[0,2,4,6]])\n",
    "print(c)\n",
    "d = np.array([[1, 2], [3, 4], [7, 8]])\n",
    "print(d)\n",
    "print(list(d))\n",
    "print(d.tolist())"
   ]
  },
  {
   "cell_type": "code",
   "execution_count": 20,
   "metadata": {
    "scrolled": true
   },
   "outputs": [
    {
     "name": "stdout",
     "output_type": "stream",
     "text": [
      "[2 8 7 7 1 6]\n",
      "1\n",
      "(6,)\n",
      "6\n",
      "int32\n",
      "4\n",
      "6\n",
      "<class 'numpy.ndarray'>\n"
     ]
    }
   ],
   "source": [
    "a = np.random.randint(10, size=6) \n",
    "\n",
    "print(a)\n",
    "print(a.ndim)\n",
    "print(a.shape)\n",
    "print(a.size)\n",
    "print(a.dtype)\n",
    "print(a.itemsize)\n",
    "print(len(a))  #length不是array的屬性屬於python list屬性\n",
    "print(type(a))"
   ]
  },
  {
   "cell_type": "code",
   "execution_count": 22,
   "metadata": {
    "scrolled": true
   },
   "outputs": [
    {
     "name": "stdout",
     "output_type": "stream",
     "text": [
      "[[0, 5, 1, 5], [1, 3, 6, 4], [6, 0, 8, 9]]\n",
      "[array([0, 5, 1, 5]), array([1, 3, 6, 4]), array([6, 0, 8, 9])]\n",
      "<class 'list'>\n"
     ]
    }
   ],
   "source": [
    "b = np.random.randint(10, size=(3,4)) \n",
    "\n",
    "print(b.tolist())\n",
    "print(list(b))\n",
    "b1 = list(b)\n",
    "print(type(b1))"
   ]
  },
  {
   "cell_type": "code",
   "execution_count": null,
   "metadata": {
    "scrolled": true
   },
   "outputs": [],
   "source": []
  },
  {
   "cell_type": "code",
   "execution_count": 26,
   "metadata": {},
   "outputs": [
    {
     "name": "stdout",
     "output_type": "stream",
     "text": [
      "int32\n",
      "4\n"
     ]
    }
   ],
   "source": [
    "#D2 :陣列的常用屬性\n",
    "print(a.dtype)\n",
    "print(a.itemsize)"
   ]
  },
  {
   "cell_type": "code",
   "execution_count": 27,
   "metadata": {},
   "outputs": [
    {
     "name": "stdout",
     "output_type": "stream",
     "text": [
      "True\n",
      "False\n",
      "False\n"
     ]
    },
    {
     "name": "stderr",
     "output_type": "stream",
     "text": [
      "<>:4: SyntaxWarning: \"is\" with a literal. Did you mean \"==\"?\n",
      "<>:4: SyntaxWarning: \"is\" with a literal. Did you mean \"==\"?\n",
      "<ipython-input-27-e49ad95b9dc2>:4: SyntaxWarning: \"is\" with a literal. Did you mean \"==\"?\n",
      "  print(a.dtype is 'int32')\n"
     ]
    }
   ],
   "source": [
    "# numpy 中的型態判斷\n",
    "\n",
    "print(a.dtype == 'int32')\n",
    "print(a.dtype is 'int32')\n",
    "print(a.dtype is np.int32)"
   ]
  },
  {
   "cell_type": "code",
   "execution_count": 30,
   "metadata": {},
   "outputs": [
    {
     "name": "stdout",
     "output_type": "stream",
     "text": [
      "True\n",
      "True\n",
      "True\n"
     ]
    }
   ],
   "source": [
    "# 資料型態的正確用法\n",
    "print(a.dtype == 'int32')\n",
    "print(a.dtype == np.int32)\n",
    "print(a.dtype is np.dtype('int32'))"
   ]
  },
  {
   "cell_type": "code",
   "execution_count": null,
   "metadata": {},
   "outputs": [],
   "source": []
  }
 ],
 "metadata": {
  "kernelspec": {
   "display_name": "Python 3",
   "language": "python",
   "name": "python3"
  },
  "language_info": {
   "codemirror_mode": {
    "name": "ipython",
    "version": 3
   },
   "file_extension": ".py",
   "mimetype": "text/x-python",
   "name": "python",
   "nbconvert_exporter": "python",
   "pygments_lexer": "ipython3",
   "version": "3.8.5"
  }
 },
 "nbformat": 4,
 "nbformat_minor": 4
}
